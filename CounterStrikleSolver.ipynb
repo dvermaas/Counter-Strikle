{
 "cells": [
  {
   "cell_type": "markdown",
   "metadata": {},
   "source": [
    "# Counter Strikle Webscraper"
   ]
  },
  {
   "cell_type": "markdown",
   "metadata": {},
   "source": [
    "## Notebook Description"
   ]
  },
  {
   "cell_type": "markdown",
   "metadata": {},
   "source": [
    "__Author:__ Daniël Vermaas"
   ]
  },
  {
   "cell_type": "markdown",
   "metadata": {},
   "source": [
    "This notebook scrapes [Liquidpedia](https://liquipedia.net/counterstrike/Main_Page), in order to make [Counter-Strikle](https://blast.tv/counter-strikle) puzzle-solving easier. Before using the notebook, please read the [Liquidpedia ToS about API usage](https://liquipedia.net/api-terms-of-use)."
   ]
  },
  {
   "cell_type": "markdown",
   "metadata": {},
   "source": [
    "## Libraries & Constants"
   ]
  },
  {
   "cell_type": "code",
   "execution_count": 1,
   "outputs": [],
   "source": [
    "import os\n",
    "import time\n",
    "from datetime import datetime\n",
    "import json\n",
    "import mwparserfromhell\n",
    "from ratelimit import limits, sleep_and_retry\n",
    "import pandas as pd\n",
    "from tqdm.notebook import tqdm\n",
    "import requests\n",
    "import ipywidgets as widgets"
   ],
   "metadata": {
    "collapsed": false,
    "ExecuteTime": {
     "end_time": "2023-05-31T08:34:12.294336600Z",
     "start_time": "2023-05-31T08:34:11.523997400Z"
    }
   }
  },
  {
   "cell_type": "code",
   "execution_count": 2,
   "outputs": [],
   "source": [
    "BASE_URL = \"https://liquipedia.net/counterstrike/api.php?\"\n",
    "HEADERS = {\"User-Agent\": \"Counter-Strikle-Bot (dvermaas@live.com)\",\"Accept-Encoding\": \"gzip\"}\n",
    "CSV_FILE = \"players.csv\"\n",
    "QUERY_COOLDOWN = 2\n",
    "REGIONS = {\n",
    "    \"Europe\" : [\"Europe\", \"CIS\"],\n",
    "    \"Americas\" : [\"North America\", \"South America\"],\n",
    "    \"Asia-Pacific\" : [\"Oceania\", \"Asia\"],\n",
    "}\n",
    "COLUMNS = [\n",
    "    \"PAGE\",\n",
    "    \"NAME\",\n",
    "    \"REAL NAME\",\n",
    "    \"REGION\",\n",
    "    \"NATIONALITY\",\n",
    "    \"TEAM\",\n",
    "    \"AGE\",\n",
    "    \"WEAPON\",\n",
    "    \"MAJOR APPEARANCES\",\n",
    "    \"LAST UPDATED\"\n",
    "]"
   ],
   "metadata": {
    "collapsed": false,
    "ExecuteTime": {
     "end_time": "2023-05-31T08:34:12.299126900Z",
     "start_time": "2023-05-31T08:34:12.296338700Z"
    }
   }
  },
  {
   "cell_type": "markdown",
   "metadata": {},
   "source": [
    "## MediaWiki API requests"
   ]
  },
  {
   "cell_type": "code",
   "execution_count": 3,
   "outputs": [],
   "source": [
    "@sleep_and_retry\n",
    "@limits(calls=1, period=QUERY_COOLDOWN)\n",
    "def query_page(page, rvsection):\n",
    "    params = {\n",
    "        \"action\": \"query\",\n",
    "        \"format\": \"json\",\n",
    "        \"prop\": \"revisions\",\n",
    "        \"titles\": page,\n",
    "        \"rvprop\": \"content\",\n",
    "        \"rvslots\": \"*\",\n",
    "        \"rvsection\": rvsection,\n",
    "    }\n",
    "    data = requests.get(BASE_URL, params=params, headers=HEADERS).json()\n",
    "    pages = data[\"query\"][\"pages\"]\n",
    "    page_id = next(iter(pages))\n",
    "    page = pages[page_id]\n",
    "    return mwparserfromhell.parse(page[\"revisions\"][0][\"slots\"][\"main\"][\"*\"])"
   ],
   "metadata": {
    "collapsed": false,
    "ExecuteTime": {
     "end_time": "2023-05-31T08:34:12.304973900Z",
     "start_time": "2023-05-31T08:34:12.300697300Z"
    }
   }
  },
  {
   "cell_type": "code",
   "execution_count": 33,
   "outputs": [
    {
     "data": {
      "text/plain": "'Kap3r'"
     },
     "execution_count": 33,
     "metadata": {},
     "output_type": "execute_result"
    }
   ],
   "source": [
    "@sleep_and_retry\n",
    "@limits(calls=1, period=QUERY_COOLDOWN)\n",
    "def search_page(search):\n",
    "    params = {\n",
    "        \"action\": \"query\",\n",
    "        \"format\": \"json\",\n",
    "        \"list\": \"search\",\n",
    "        \"srsearch\": search,\n",
    "        \"srlimit\": 1,\n",
    "    }\n",
    "    data = requests.get(BASE_URL, params=params, headers=HEADERS).json()\n",
    "    try:\n",
    "        pages = data[\"query\"][\"search\"]\n",
    "        return next(iter(pages))[\"title\"]\n",
    "    except:\n",
    "        print(f\"searc: {search}\\n\", data)\n",
    "\n",
    "search_page(\"Kacper Słoma\")"
   ],
   "metadata": {
    "collapsed": false,
    "ExecuteTime": {
     "end_time": "2023-05-31T09:18:59.478004900Z",
     "start_time": "2023-05-31T09:18:59.120035200Z"
    }
   }
  },
  {
   "cell_type": "markdown",
   "source": [
    "## Generate Country to Region Map"
   ],
   "metadata": {
    "collapsed": false
   }
  },
  {
   "cell_type": "code",
   "execution_count": 9,
   "outputs": [],
   "source": [
    "def build_region_dict():\n",
    "    country_region_dict = {}\n",
    "    with open(\"regions.json\", \"r\") as file:\n",
    "        region_dict = json.load(file)\n",
    "    for region, countries in region_dict.items():\n",
    "            for country in countries:\n",
    "                country_region_dict[country] = region\n",
    "    return country_region_dict\n",
    "\n",
    "REGION_DICT = build_region_dict()"
   ],
   "metadata": {
    "collapsed": false,
    "ExecuteTime": {
     "end_time": "2023-05-31T08:34:21.585237200Z",
     "start_time": "2023-05-31T08:34:21.577111100Z"
    }
   }
  },
  {
   "cell_type": "code",
   "execution_count": 10,
   "metadata": {
    "ExecuteTime": {
     "end_time": "2023-05-31T08:34:22.577447Z",
     "start_time": "2023-05-31T08:34:22.188324400Z"
    }
   },
   "outputs": [],
   "source": [
    "# Fetches list of all concluded majors (checks hltv awards) \n",
    "def fetch_majors():\n",
    "    wikicode = query_page(\"Majors\", 8)\n",
    "    links = wikicode.filter_wikilinks()\n",
    "    links = [link.split('|')[0].replace('[[', '') for link in links]\n",
    "    return links\n",
    "\n",
    "MAJOR_LIST = fetch_majors()"
   ]
  },
  {
   "cell_type": "code",
   "execution_count": 11,
   "metadata": {
    "ExecuteTime": {
     "end_time": "2023-05-31T08:34:26.670464200Z",
     "start_time": "2023-05-31T08:34:26.658783400Z"
    }
   },
   "outputs": [],
   "source": [
    "# Fetches all player ids\n",
    "def fetch_players():\n",
    "    results = []\n",
    "    for category in [\"Players\", \"Coaches\"]:\n",
    "        url = f\"{BASE_URL}action=query&list=categorymembers&cmtitle=Category:{category}&cmlimit=max&format=json\"\n",
    "\n",
    "        while True:\n",
    "            response = requests.get(url)\n",
    "            time.sleep(QUERY_COOLDOWN)\n",
    "            data = json.loads(response.text)\n",
    "            pages = data[\"query\"][\"categorymembers\"]\n",
    "            results.extend(pages)\n",
    "\n",
    "            if \"continue\" not in data:\n",
    "                break\n",
    "\n",
    "            cont = data[\"continue\"]\n",
    "            cmcontinue = cont[\"cmcontinue\"]\n",
    "            url = f\"{url}&cmcontinue={cmcontinue}\"\n",
    "    results = [row[\"title\"] for row in results if \"Category\" not in row[\"title\"]]\n",
    "    return results\n",
    "\n",
    "#PLAYER_LIST = fetch_players()"
   ]
  },
  {
   "cell_type": "code",
   "execution_count": 37,
   "outputs": [
    {
     "data": {
      "text/plain": "  0%|          | 0/26 [00:00<?, ?it/s]",
      "application/vnd.jupyter.widget-view+json": {
       "version_major": 2,
       "version_minor": 0,
       "model_id": "d80d3b9c5d7e40e69d90476022d49538"
      }
     },
     "metadata": {},
     "output_type": "display_data"
    },
    {
     "data": {
      "text/plain": "  0%|          | 0/531 [00:00<?, ?it/s]",
      "application/vnd.jupyter.widget-view+json": {
       "version_major": 2,
       "version_minor": 0,
       "model_id": "9e59f9851e224751b082fc7a2df1d0e0"
      }
     },
     "metadata": {},
     "output_type": "display_data"
    },
    {
     "name": "stdout",
     "output_type": "stream",
     "text": [
      "searc: Valeriy Vakhovskiy\n",
      " {'batchcomplete': '', 'query': {'searchinfo': {'totalhits': 0, 'suggestion': 'valorix vakhovskiy', 'suggestionsnippet': '<em>valorix</em> vakhovskiy'}, 'search': []}}\n",
      "searc: Evgeny Lebedev\n",
      " {'batchcomplete': '', 'query': {'searchinfo': {'totalhits': 0, 'suggestion': 'event lebedev', 'suggestionsnippet': '<em>event</em> lebedev'}, 'search': []}}\n"
     ]
    },
    {
     "ename": "KeyboardInterrupt",
     "evalue": "",
     "output_type": "error",
     "traceback": [
      "\u001B[1;31m---------------------------------------------------------------------------\u001B[0m",
      "\u001B[1;31mRateLimitException\u001B[0m                        Traceback (most recent call last)",
      "File \u001B[1;32m~\\Documents\\Repos\\Counter-Strikle\\venv\\Lib\\site-packages\\ratelimit\\decorators.py:113\u001B[0m, in \u001B[0;36msleep_and_retry.<locals>.wrapper\u001B[1;34m(*args, **kargs)\u001B[0m\n\u001B[0;32m    112\u001B[0m \u001B[38;5;28;01mtry\u001B[39;00m:\n\u001B[1;32m--> 113\u001B[0m     \u001B[38;5;28;01mreturn\u001B[39;00m \u001B[43mfunc\u001B[49m\u001B[43m(\u001B[49m\u001B[38;5;241;43m*\u001B[39;49m\u001B[43margs\u001B[49m\u001B[43m,\u001B[49m\u001B[43m \u001B[49m\u001B[38;5;241;43m*\u001B[39;49m\u001B[38;5;241;43m*\u001B[39;49m\u001B[43mkargs\u001B[49m\u001B[43m)\u001B[49m\n\u001B[0;32m    114\u001B[0m \u001B[38;5;28;01mexcept\u001B[39;00m RateLimitException \u001B[38;5;28;01mas\u001B[39;00m exception:\n",
      "File \u001B[1;32m~\\Documents\\Repos\\Counter-Strikle\\venv\\Lib\\site-packages\\ratelimit\\decorators.py:77\u001B[0m, in \u001B[0;36mRateLimitDecorator.__call__.<locals>.wrapper\u001B[1;34m(*args, **kargs)\u001B[0m\n\u001B[0;32m     76\u001B[0m \u001B[38;5;28;01mif\u001B[39;00m \u001B[38;5;28mself\u001B[39m\u001B[38;5;241m.\u001B[39mraise_on_limit:\n\u001B[1;32m---> 77\u001B[0m     \u001B[38;5;28;01mraise\u001B[39;00m RateLimitException(\u001B[38;5;124m'\u001B[39m\u001B[38;5;124mtoo many calls\u001B[39m\u001B[38;5;124m'\u001B[39m, period_remaining)\n\u001B[0;32m     78\u001B[0m \u001B[38;5;28;01mreturn\u001B[39;00m\n",
      "\u001B[1;31mRateLimitException\u001B[0m: too many calls",
      "\nDuring handling of the above exception, another exception occurred:\n",
      "\u001B[1;31mKeyboardInterrupt\u001B[0m                         Traceback (most recent call last)",
      "Cell \u001B[1;32mIn[37], line 42\u001B[0m\n\u001B[0;32m     38\u001B[0m         cashed_names \u001B[38;5;241m=\u001B[39m \u001B[38;5;28mdict\u001B[39m(\u001B[38;5;28mzip\u001B[39m(csv_data[\u001B[38;5;124m\"\u001B[39m\u001B[38;5;124mREAL NAME\u001B[39m\u001B[38;5;124m\"\u001B[39m], csv_data[\u001B[38;5;124m\"\u001B[39m\u001B[38;5;124mNAME\u001B[39m\u001B[38;5;124m\"\u001B[39m]))\n\u001B[0;32m     39\u001B[0m     \u001B[38;5;28;01mreturn\u001B[39;00m [cashed_names\u001B[38;5;241m.\u001B[39mget(name, search_page(name)) \u001B[38;5;28;01mfor\u001B[39;00m name \u001B[38;5;129;01min\u001B[39;00m tqdm(blast_players)]\n\u001B[1;32m---> 42\u001B[0m PLAYER_LIST \u001B[38;5;241m=\u001B[39m \u001B[43mfetch_blast_players\u001B[49m\u001B[43m(\u001B[49m\u001B[43m)\u001B[49m\n",
      "Cell \u001B[1;32mIn[37], line 39\u001B[0m, in \u001B[0;36mfetch_blast_players\u001B[1;34m()\u001B[0m\n\u001B[0;32m     37\u001B[0m     csv_data \u001B[38;5;241m=\u001B[39m pd\u001B[38;5;241m.\u001B[39mread_csv(CSV_FILE)\n\u001B[0;32m     38\u001B[0m     cashed_names \u001B[38;5;241m=\u001B[39m \u001B[38;5;28mdict\u001B[39m(\u001B[38;5;28mzip\u001B[39m(csv_data[\u001B[38;5;124m\"\u001B[39m\u001B[38;5;124mREAL NAME\u001B[39m\u001B[38;5;124m\"\u001B[39m], csv_data[\u001B[38;5;124m\"\u001B[39m\u001B[38;5;124mNAME\u001B[39m\u001B[38;5;124m\"\u001B[39m]))\n\u001B[1;32m---> 39\u001B[0m \u001B[38;5;28;01mreturn\u001B[39;00m \u001B[43m[\u001B[49m\u001B[43mcashed_names\u001B[49m\u001B[38;5;241;43m.\u001B[39;49m\u001B[43mget\u001B[49m\u001B[43m(\u001B[49m\u001B[43mname\u001B[49m\u001B[43m,\u001B[49m\u001B[43m \u001B[49m\u001B[43msearch_page\u001B[49m\u001B[43m(\u001B[49m\u001B[43mname\u001B[49m\u001B[43m)\u001B[49m\u001B[43m)\u001B[49m\u001B[43m \u001B[49m\u001B[38;5;28;43;01mfor\u001B[39;49;00m\u001B[43m \u001B[49m\u001B[43mname\u001B[49m\u001B[43m \u001B[49m\u001B[38;5;129;43;01min\u001B[39;49;00m\u001B[43m \u001B[49m\u001B[43mtqdm\u001B[49m\u001B[43m(\u001B[49m\u001B[43mblast_players\u001B[49m\u001B[43m)\u001B[49m\u001B[43m]\u001B[49m\n",
      "Cell \u001B[1;32mIn[37], line 39\u001B[0m, in \u001B[0;36m<listcomp>\u001B[1;34m(.0)\u001B[0m\n\u001B[0;32m     37\u001B[0m     csv_data \u001B[38;5;241m=\u001B[39m pd\u001B[38;5;241m.\u001B[39mread_csv(CSV_FILE)\n\u001B[0;32m     38\u001B[0m     cashed_names \u001B[38;5;241m=\u001B[39m \u001B[38;5;28mdict\u001B[39m(\u001B[38;5;28mzip\u001B[39m(csv_data[\u001B[38;5;124m\"\u001B[39m\u001B[38;5;124mREAL NAME\u001B[39m\u001B[38;5;124m\"\u001B[39m], csv_data[\u001B[38;5;124m\"\u001B[39m\u001B[38;5;124mNAME\u001B[39m\u001B[38;5;124m\"\u001B[39m]))\n\u001B[1;32m---> 39\u001B[0m \u001B[38;5;28;01mreturn\u001B[39;00m [cashed_names\u001B[38;5;241m.\u001B[39mget(name, \u001B[43msearch_page\u001B[49m\u001B[43m(\u001B[49m\u001B[43mname\u001B[49m\u001B[43m)\u001B[49m) \u001B[38;5;28;01mfor\u001B[39;00m name \u001B[38;5;129;01min\u001B[39;00m tqdm(blast_players)]\n",
      "File \u001B[1;32m~\\Documents\\Repos\\Counter-Strikle\\venv\\Lib\\site-packages\\ratelimit\\decorators.py:115\u001B[0m, in \u001B[0;36msleep_and_retry.<locals>.wrapper\u001B[1;34m(*args, **kargs)\u001B[0m\n\u001B[0;32m    113\u001B[0m     \u001B[38;5;28;01mreturn\u001B[39;00m func(\u001B[38;5;241m*\u001B[39margs, \u001B[38;5;241m*\u001B[39m\u001B[38;5;241m*\u001B[39mkargs)\n\u001B[0;32m    114\u001B[0m \u001B[38;5;28;01mexcept\u001B[39;00m RateLimitException \u001B[38;5;28;01mas\u001B[39;00m exception:\n\u001B[1;32m--> 115\u001B[0m     time\u001B[38;5;241m.\u001B[39msleep(exception\u001B[38;5;241m.\u001B[39mperiod_remaining)\n",
      "\u001B[1;31mKeyboardInterrupt\u001B[0m: "
     ]
    }
   ],
   "source": [
    "# fetch blast players\n",
    "from selenium import webdriver\n",
    "from selenium.webdriver.common.by import By\n",
    "from selenium.webdriver.support.ui import WebDriverWait\n",
    "from selenium.webdriver.support import expected_conditions as EC\n",
    "from selenium.webdriver.common.keys import Keys\n",
    "import string\n",
    "\n",
    "OPTIONS = webdriver.ChromeOptions()\n",
    "OPTIONS.add_experimental_option(\"excludeSwitches\", [\"enable-automation\"])\n",
    "OPTIONS.add_experimental_option('useAutomationExtension', False)\n",
    "OPTIONS.add_argument('--disable-blink-features=AutomationControlled')\n",
    "\n",
    "def fetch_blast_players():\n",
    "    browser = webdriver.Chrome(options=OPTIONS)\n",
    "    browser.get(\"https://blast.tv/counter-strikle\")\n",
    "\n",
    "    cookies_button = WebDriverWait(browser, 10).until(EC.element_to_be_clickable((By.XPATH, \"//button[@class='coi-consent-banner__agree-button']\")))\n",
    "    cookies_button.click()\n",
    "\n",
    "    rules_button = WebDriverWait(browser, 10).until(EC.element_to_be_clickable((By.XPATH, \"//button[@class='styled__StyledButton-sc-y8jf4t-0 eccxcB']\")))\n",
    "    rules_button.click()\n",
    "\n",
    "    blast_players = []\n",
    "    search_bar = WebDriverWait(browser, 10).until(EC.element_to_be_clickable((By.XPATH, \"//input[@class='styled__SearchBoxInput-sc-1uwunev-2 uWYFV']\")))\n",
    "    for letter in tqdm(string.ascii_lowercase):\n",
    "        search_bar.send_keys(letter)\n",
    "        time.sleep(.2)\n",
    "        autocomplete_results = browser.find_elements(By.XPATH, \"//div[contains(@class, 'styled__SearchResultRow-sc-1uwunev-4')]\")\n",
    "        blast_players.extend([result.text.split(\" - \")[1] for result in autocomplete_results])\n",
    "        search_bar.send_keys(Keys.BACKSPACE)\n",
    "        time.sleep(.2)\n",
    "    browser.quit()\n",
    "\n",
    "    cashed_names = {}\n",
    "    if os.path.exists(CSV_FILE):\n",
    "        csv_data = pd.read_csv(CSV_FILE)\n",
    "        cashed_names = dict(zip(csv_data[\"REAL NAME\"], csv_data[\"NAME\"]))\n",
    "    return [cashed_names.get(name, search_page(name)) for name in tqdm(blast_players)]\n",
    "\n",
    "\n",
    "PLAYER_LIST = fetch_blast_players()"
   ],
   "metadata": {
    "collapsed": false,
    "ExecuteTime": {
     "end_time": "2023-05-31T09:54:55.204388600Z",
     "start_time": "2023-05-31T09:48:02.428087300Z"
    }
   }
  },
  {
   "cell_type": "code",
   "execution_count": 28,
   "outputs": [
    {
     "data": {
      "text/plain": "'apEX'"
     },
     "execution_count": 28,
     "metadata": {},
     "output_type": "execute_result"
    }
   ],
   "source": [
    "cashed_names.get(\"Dan Madesclaire\")"
   ],
   "metadata": {
    "collapsed": false,
    "ExecuteTime": {
     "end_time": "2023-05-31T09:12:28.135164700Z",
     "start_time": "2023-05-31T09:12:28.129277100Z"
    }
   }
  },
  {
   "cell_type": "code",
   "execution_count": 25,
   "outputs": [
    {
     "name": "stdout",
     "output_type": "stream",
     "text": [
      "{'Dan Madesclaire': 'apEX', 'Sergey Aleksandrovich Rykhtorov': 'Ax1Le', 'Timothy Ta': 'autimatic', 'Aleksi Jalli': 'allu', nan: nan, 'François Delaunay': 'AMANEK', 'Aleksi Antti Kaarlo Virolainen': 'Aleksib', 'Philip Aistrup Larsen': 'aizy', 'Andrei Felipe Piovezan Machado': 'arT', 'Jani Jussila': 'Aerial', 'Frederik Gyldstrand': 'acoR', 'Asger Grunnet Larsen': 'AcilioN', 'Aaron Christian Charles Ward': 'AZR', 'Sheng Yuanzhang': 'Attacker', 'Kyrylo Karasjov': 'ANGE1', 'Liang Zhuo': 'advent', 'Almaz Asadullin': 'almazer', 'Liu Zhihong': 'aumaN', 'Bradley Fodor': 'ANDROID', 'Rinaldo Moda Júnior': 'ableJ', 'Zhengwei Bian': 'alex', 'Alistair Johnston': 'aliStair', 'Omar Chakkor Feltrer': 'arki', 'Anna Ananikova': 'Ant1ka', 'Guy Trachtman': 'anarkez', 'Aurélien Drapier': 'afro', 'Kirill Sergeyevich Mikhaylov': 'Boombl4', 'Valerij Jevghenijovych Vakhovsjkyj': 'b1t', 'Paweł Mateusz Bieliński': 'byali', 'Vincent Cayonte': 'Brehze', 'Timur Tulepov': 'buster', 'Ricardo de Souza Prass': 'boltz', 'Helvijs Saukants': 'broky', 'Alexandre Pianaro': 'bodyy', 'Lucas Andersen': 'Bubzkji', 'Ludvig Brolin': 'Brollan', 'Kamen Kostadinov': 'bubble', 'Benjamin Vang Bremer': 'blameF', 'Hansel Ferdinand': 'BnTeT', 'Johannes Borup': 'b0RUP', 'Vlаdуslаv Nеchуроrchuk': 'bondik', 'Yanko Panov': 'blocker', 'Aurimas Pipiras': 'Bymas', 'Moustafa Baghdadi': 'BLACKEAGLE', 'Andrij Oleksijovych Ghorodensjkyj': 'B1ad3', 'Ben Smith': 'ben1337', 'André Möller': 'BARBARR', 'Bruno Fukuda Lima': 'BIT', 'Mao Lei': 'bottle', 'Sebastian Daňo': 'beastik', 'Thomas Due Frederiksen': 'birdfromsky', 'Benedict Tan': 'Benkai', 'Bruno Câmara': 'b4rtiN', 'Anton Burko': 'boX', 'Rodrigo Bittencourt': 'biguzera', 'Linus Bååt Andersson': 'Bååten', 'Breno Poletto': 'brnz4n', 'Marcelo Augusto David': 'coldzera', 'Christiaan Willem George de Jong': 'chrisJ', 'René Borg': 'cajunb', 'Tsvetelin Dimitrov Mangalski': 'CeRq', 'Casper Møller': 'cadiaN', 'Leonid Vishnyakov': 'chopper', 'Liu Ke': 'captainMo', 'Buğra Arkın': 'Calyx', 'Marcelo Cespedes': 'chelo', 'Joey Steusel': 'CRUC1AL', 'Christian Schmitt': 'crisby', 'Jørgen Robertsen': 'cromen', 'Aleksandar Kjulukoski': 'CacaNito', 'Austin Abadir': 'Cooper', 'Caike Costa': 'caike', 'Pavlo Veklenko': 'COLDYY1', 'David Polster': 'cynic', 'Austin Roberts': 'crashies', 'Peter Rothmann Rasmussen': 'dupreeh', 'Dennis Edman': 'dennis', 'Mikhail Stolyarov': 'Dosia', 'Damian Steele': 'daps', 'Wu Hui': 'DD', 'Denis Howell': 'denis', 'Paweł Dycha': 'dycha', 'Bence Böröcz': 'DeadFox', 'Christopher Nong': 'dexter', 'Joakim Gidetun': 'disco doplan', 'Abdulkhalik Gasanov': 'degster', 'Joonas Forss': 'doto', 'Denislav Dimitrov Dimitrov': 'dennyslaw', 'Rory Jackson': 'dephh', 'Timothée Démolon': 'DEVIL', 'Simeon Ganev': 'dream3r', 'David Dobrosavljević': 'devoduvek', 'Vadim Vasilyev': 'DavCost', 'Dmitriy Anatolyevich Bandurka': 'Dima', 'Michael Gulino': 'dapr', 'Gan-Erdene Batbold': 'dobu', 'Derek Branchen': 'desi', 'Will Loafman': 'dazzLe', 'André Wagner de Abreu': 'drop', 'Lv Zhenghao': 'DANK1NG', 'Viktor Mitev': 'Duplicate', 'David Prins': 'davidp', 'Diane Tran': 'di^', 'Dimitri Hadjipaschali': 'Detrony', 'Jonathan Dallal': 'djay', 'Jakob Schildt': 'Daffu', 'Oliver Tierney': 'DickStacy', 'Dmıtrıı Matvıenko': 'dimasick', 'Raúl Jordán Nieto': 'DeathZz', 'David Granado Bermudo': 'dav1g', 'Franco Manuel Garcia Cabrera': 'dgt', 'Thomas Pavoni': 'Djoko', 'Eduardo Wolkmer': 'dumau', 'Denis Railevich Sharipov': 'electroNic', 'Jonathan David Jablonowski': 'EliGE', 'Ioann Sukharjev': 'Edward', 'Ethan Arnold': 'Ethan', 'Patrick Hansen': 'es3tag', 'Kévin Droolans': 'Ex6TenZ', 'Aleksey Gusev': 'El1an', 'Rokas Milasauskas': 'EspiranTo', 'Erdenetsogt Gantulga': 'erkaSt', 'Raphael Lacerda': 'exit', 'Chris Rowlands': 'emagine', 'Luka Vuković': 'emi', 'Konrad Jeńczeń': 'EXUS', 'Ruan van Wyk': 'ELUSIVE', 'Emma Choe': 'Emy', 'Pierre Bulinge': 'Ex3rcice', 'Gabriel Toledo de Alcântara Sguario': 'FalleN', 'Fernando Alvarenga': 'fer', 'Robin Rönnquist': 'flusha', 'Egor Sergeyevich Vasilyev': 'flamie', 'Patrik Lindberg': 'f0rest', 'Adam Friberg': 'friberg', 'Lincoln Lau': 'fnx', 'João Cabral Vasconcellos': 'felps', 'David Čerňanský': 'frozen', 'Damian Kisłowski': 'Furlan', 'Jacob Medina': 'FugLy', 'Evgeniy Lebedev': 'FL1T', 'Josef Baumann': 'faveN', 'Pujan Mehta': 'FNS', 'Dmitriy Alekseyev': 'facecrack', 'Igor Bezotecheskiy': 'Forester', 'Robin Johansson': 'Fifflaren', 'Fredrik Buö': 'freddieb', 'Baqtiar Baqytov': 'fitch', 'Ryan Abadir': 'freakazoid', 'Michael Jørgensen': 'Friis', 'Cheung Wing-hei': 'Freeman', 'Victor Wong': 'food', 'Ricky Kemery': 'floppy', 'Justin Coakley': 'FaNg', 'Asger Chen Jensen': 'farlig', 'Shahar Shushan': 'flameZ', 'Dion Derksen': 'FASHR', 'Rhys Armstrong': 'Fadey', 'Petr Bolyshev': 'fame', 'Maciej Miklas': 'F1KU', 'Lukas Egholm Rossander': 'gla1ve', 'Ladislav Kovács': 'GuardiaN', 'Christopher Alesund': 'GeT_RiGhT', 'Maikil Kunda Selim': 'Golden', 'Dominik Świderski': 'GruBy', 'Fatih Dayik': 'gob b', 'Michael Vance Wince': 'Grim', 'Sean David Andre Kaiwai': 'Gratisfaction', 'Nicklas Gade': 'gade', 'Kim Min-soo': 'glow', 'Mounira Dobie': 'GooseBreeder', 'Krzysztof Górski': 'Goofy', 'Abai Hasenov': 'HObbit', 'Vincent Cervoni Schopenhauer': 'Happy', 'Henrique Teles Ferreira da Fonseca': 'HEN1', 'Hampus Poser': 'hampus', 'Spencer Martin': 'Hiko', 'James Cobb': 'hazed', 'Nicolai Petersen': 'HUNDEN', 'Dmitriy Bogdanov': 'hooch', 'Kevin Tarn': 'HS', 'Ali Haïnouss': 'hAdji', 'Jordan Bajic': 'Hatz', 'Pavel Lashkov': 'hutji', 'Aaro Peltokangas': 'hoody', 'Rasmus Pallisgaard Nielsen': 'HooXi', 'Kim Hae-seong': 'HSK', 'Zhen Huang': 'HZ', 'Wesley Lopes': 'hardzao', 'Timofey Sergeyevich Yakushin': 'interz', 'Issa Sameer Issa Murad': 'ISSAA', 'Paweł Mocek': 'innocent', 'Joshua Potter': 'INS', 'Ömer Karataş': 'imoRR', 'Artyom Egorov': 'iDISBALANCE', 'Gage Green': 'Infinite', 'Anthony Lim Ying Jun': 'ImpressioN', 'Victor Torraca': 'iDk', 'Jesper Wecksell': 'JW', 'Dzhami Ali': 'Jame', 'Audric Jug': 'JACKZ', 'Justin Savage': 'jks', 'Joakim Myrbostad': 'jkaem', 'Joshua Marzano': 'jdm64', 'Andrey Mekhryakov': 'Jerry', 'Joe Talbot': 'JT', 'Jakob Rask Hansen': 'JUGi', 'Jonathan Carey': 'Jonji', 'Dmytro Chervak': 'jR', 'Joel Aalto': 'jOELZ', 'Paytyn Johnson': 'junior', 'Rassim Valijev': 'Jyo', 'Tiago Moura': 'JUST', 'Jason Ruchelski': 'jasonR', 'Julia Kiran': 'juliano', 'Jon de Castro': 'JDC', 'Yang Yi': 'JamYoung', 'Jakob Nygaard': 'Jabbi', 'Flatron Halimi': 'juanflatroo', 'Jérémy Nguyen': 'jeyN', 'Jhonatan Silva Moura': 'jnt', 'Jhonatan Willian': 'JOTA', 'Finn Andersen': 'karrigan', 'Lars Freddy Johansson': 'KRIMZ', 'Kenny Schrub': 'kennyS', 'Markus Kjærbye': 'Kjaerbye', 'Kristian Wienecke': 'k0nfig', 'Fabien Fiey': 'kioShiMa', 'Kaike Silva Cerato': 'KSCERATO', 'Nils Gruhne': 'k1to', 'Genc Kolgeci': 'gxx-', 'Nemanja Kovač': 'huNter-', 'Vito Giuseppe': 'kNgV-', 'Kenneth Suen': 'koosta', 'Kevin Amend': 'kRYSTAL', 'Jayson Nguyen Van': 'Kyojin', 'Vladislav Kravchenko': 'Krad', 'Andrew Khong Weng Keong': 'kaze', 'Marko Đorđević': 'kressy'}\n"
     ]
    }
   ],
   "source": [
    "cashed_names = {}\n",
    "if os.path.exists(CSV_FILE):\n",
    "    csv_data = pd.read_csv(CSV_FILE)\n",
    "    cashed_names = dict(zip(csv_data[\"REAL NAME\"], csv_data[\"NAME\"]))\n",
    "    print(cashed_names)"
   ],
   "metadata": {
    "collapsed": false,
    "ExecuteTime": {
     "end_time": "2023-05-31T09:09:31.651647100Z",
     "start_time": "2023-05-31T09:09:31.646175600Z"
    }
   }
  },
  {
   "cell_type": "code",
   "execution_count": 11,
   "outputs": [
    {
     "name": "stdout",
     "output_type": "stream",
     "text": [
      "527\n"
     ]
    },
    {
     "data": {
      "text/plain": "'Adil Benrlitom'"
     },
     "execution_count": 11,
     "metadata": {},
     "output_type": "execute_result"
    }
   ],
   "source": [
    "print(len(PLAYER_LIST))\n",
    "PLAYER_LIST.get(\"ScreaM\")"
   ],
   "metadata": {
    "collapsed": false,
    "ExecuteTime": {
     "end_time": "2023-05-29T16:00:07.460961700Z",
     "start_time": "2023-05-29T16:00:07.454350Z"
    }
   }
  },
  {
   "cell_type": "code",
   "execution_count": 9,
   "metadata": {
    "pycharm": {
     "is_executing": true
    },
    "ExecuteTime": {
     "end_time": "2023-05-29T14:01:55.454401Z",
     "start_time": "2023-05-29T14:01:55.097947500Z"
    }
   },
   "outputs": [
    {
     "data": {
      "text/plain": "  0%|          | 0/19 [00:00<?, ?it/s]",
      "application/vnd.jupyter.widget-view+json": {
       "version_major": 2,
       "version_minor": 0,
       "model_id": "e117a2c390d14db4af8a309a19fde98a"
      }
     },
     "metadata": {},
     "output_type": "display_data"
    }
   ],
   "source": [
    "def fetch_major_players():\n",
    "    # load majors from json\n",
    "    file_name = \"majors.json\"\n",
    "    major_dict = {}\n",
    "    if os.path.exists(file_name):\n",
    "        with open(file_name, \"r\") as file:\n",
    "            major_dict = json.load(file)\n",
    "\n",
    "    # check for new majors\n",
    "    for major in tqdm(fetch_majors()):\n",
    "        if major in major_dict:\n",
    "            continue\n",
    "        wikicode = query_page(major, \"5\")\n",
    "        teams_dict = {}\n",
    "        for template in wikicode.filter_templates(matches=r\"\\bTeamCard\\b\"):\n",
    "            if template.name.strip() == \"TeamCard\":\n",
    "                if not template.has(\"qualifier\"):\n",
    "                    continue\n",
    "                if not template.has(\"p1\"):\n",
    "                    continue\n",
    "                team = template.get(\"team\").value.strip()\n",
    "                players = [template.get(f\"p{i}link\", template.get(f\"p{i}\")).value.strip() for i in range(1, 6)]\n",
    "                teams_dict[team] = players\n",
    "        major_dict[major] = teams_dict\n",
    "\n",
    "    # save majors to json\n",
    "    with open(file_name, \"w\") as file:\n",
    "        json.dump(major_dict, file, indent=2)\n",
    "\n",
    "    # invert dict\n",
    "    major_players = {}\n",
    "    for major,teams in major_dict.items():\n",
    "        for team, players in teams.items():\n",
    "            for player in players:\n",
    "                if player not in major_players:\n",
    "                    major_players[player] = 0\n",
    "                major_players[player] += 1\n",
    "\n",
    "    return major_players\n",
    "\n",
    "MAJOR_PLAYERS = fetch_major_players()"
   ]
  },
  {
   "cell_type": "markdown",
   "metadata": {},
   "source": [
    "## Player-Specific Information"
   ]
  },
  {
   "cell_type": "code",
   "execution_count": 20,
   "outputs": [],
   "source": [
    "# fetches all player data and puts it in dict\n",
    "def fetch_player_dict(player_id):\n",
    "    infobox_dict = {}\n",
    "    wikicode = query_page(player_id, 0)\n",
    "    try:\n",
    "        infobox = wikicode.filter_templates(matches=\"Infobox player\")[0]\n",
    "    except IndexError:\n",
    "        return infobox_dict\n",
    "    for param in infobox.params:\n",
    "        value = mwparserfromhell.parse(param.value.strip_code()).strip()\n",
    "        infobox_dict[param.name.strip()] = str(value)\n",
    "    return infobox_dict\n",
    "\n",
    "# filter player data for relevant information\n",
    "def fetch_player(player_id):\n",
    "    # parse player information\n",
    "    info_dict = fetch_player_dict(player_id)\n",
    "\n",
    "    # add name to dict\n",
    "    output_dict = dict()\n",
    "    output_dict[\"PAGE\"] = player_id\n",
    "    output_dict[\"NAME\"] = info_dict.get(\"id\")\n",
    "    output_dict[\"REGION\"] = REGION_DICT.get(info_dict.get(\"country\"))\n",
    "    output_dict[\"REAL NAME\"] = info_dict.get(\"romanized_name\", info_dict.get(\"name\"))\n",
    "    output_dict[\"NATIONALITY\"] = info_dict.get(\"country\")\n",
    "    output_dict[\"TEAM\"] = info_dict.get(\"team\")\n",
    "    output_dict[\"AGE\"] = info_dict.get(\"birth_date\")\n",
    "    roles = [info_dict.get(\"role\"), info_dict.get(\"role2\")]\n",
    "    if \"awp\" in roles:\n",
    "        output_dict[\"WEAPON\"] = \"AWP\"\n",
    "    else:\n",
    "        output_dict[\"WEAPON\"] = \"AK47\"\n",
    "    output_dict[\"MAJOR APPEARANCES\"] = MAJOR_PLAYERS.get(info_dict.get(\"id\"), 0)\n",
    "    output_dict[\"LAST UPDATED\"] = datetime.now().strftime(\"%Y-%m-%d\")\n",
    "    return output_dict\n",
    "\n",
    "#fetch_player(\"Boomser\")\n",
    "#fetch_player(\"ScreaM\")"
   ],
   "metadata": {
    "collapsed": false,
    "ExecuteTime": {
     "end_time": "2023-05-29T16:22:11.754219300Z",
     "start_time": "2023-05-29T16:22:11.745387Z"
    }
   }
  },
  {
   "cell_type": "markdown",
   "metadata": {},
   "source": [
    "## Generate CSV"
   ]
  },
  {
   "cell_type": "code",
   "execution_count": 47,
   "metadata": {
    "ExecuteTime": {
     "end_time": "2023-05-28T21:23:44.429586800Z",
     "start_time": "2023-05-28T21:23:26.055529200Z"
    }
   },
   "outputs": [
    {
     "data": {
      "text/plain": "  0%|          | 0/527 [00:00<?, ?it/s]",
      "application/vnd.jupyter.widget-view+json": {
       "version_major": 2,
       "version_minor": 0,
       "model_id": "1714d4ab600045999fae51d339077442"
      }
     },
     "metadata": {},
     "output_type": "display_data"
    },
    {
     "name": "stdout",
     "output_type": "stream",
     "text": [
      "Error: 'revisions'\n",
      "Player: kaper\n"
     ]
    }
   ],
   "source": [
    "def build_df():\n",
    "    # Get dataframe to write to\n",
    "    if os.path.exists(CSV_FILE):\n",
    "        playerdata = pd.read_csv(CSV_FILE)\n",
    "    else:\n",
    "        playerdata = pd.DataFrame(columns=COLUMNS)\n",
    "    try:\n",
    "        for player in tqdm(PLAYER_LIST, leave=False):\n",
    "            if not (playerdata[\"PAGE\"].eq(player)).any():\n",
    "                row_data = fetch_player(player)\n",
    "                playerdata = pd.concat([playerdata, pd.DataFrame.from_records([row_data])], ignore_index=True)\n",
    "    except Exception as e:\n",
    "        print(\"Error:\", e)\n",
    "        print(\"Player:\", player)\n",
    "    \n",
    "    playerdata.to_csv(CSV_FILE, index=False)\n",
    "\n",
    "build_df()"
   ]
  },
  {
   "cell_type": "markdown",
   "metadata": {},
   "source": [
    "## Post Processing"
   ]
  },
  {
   "cell_type": "code",
   "execution_count": 35,
   "metadata": {
    "ExecuteTime": {
     "end_time": "2023-05-19T15:44:35.753824500Z",
     "start_time": "2023-05-19T15:44:35.706874200Z"
    }
   },
   "outputs": [
    {
     "data": {
      "text/plain": "          PAGE      NAME                 REAL NAME    REGION    NATIONALITY   \n710    Dupreeh   dupreeh  Peter Rothmann Rasmussen    Europe        Denmark  \\\n3035     Xyp9x     Xyp9x          Andreas Højsleth    Europe        Denmark   \n2497      Shox      shox          Richard Papillon    Europe         France   \n126       ApEX      apEX           Dan Madesclaire    Europe         France   \n1354  Karrigan  karrigan             Finn Andersen    Europe        Denmark   \n...        ...       ...                       ...       ...            ...   \n1298    Juissi    juissi              Youssef Adam    Europe        Finland   \n1299      Juli      Juli             Juliana Tosic  Americas  United States   \n1300   Juliano   juliano               Julia Kiran    Europe         Sweden   \n1302     Julih     julih               Julia Gomes  Americas         Brazil   \n3540     Zyppe     Zyppe         Samuel Martinsson    Europe         Sweden   \n\n                   TEAM  AGE WEAPON  MAJOR APPEARANCES LAST UPDATED  \n710       Team Vitality   30    AWP                 17   2023-05-19  \n3035    Astralis Talent   27   AK47                 16   2023-05-19  \n2497                NaN   30   AK47                 16   2023-05-19  \n126       Team Vitality   30   AK47                 15   2023-05-19  \n1354          FaZe Clan   33   AK47                 15   2023-05-19  \n...                 ...  ...    ...                ...          ...  \n1298       ENCE Academy   20   AK47                  0   2023-05-19  \n1299                NaN   23   AK47                  0   2023-05-19  \n1300             G2 Oya   29   AK47                  0   2023-05-19  \n1302  B4 Esports Female   24   AK47                  0   2023-05-19  \n3540       00 Prospects   33   AK47                  0   2023-05-19  \n\n[2650 rows x 10 columns]",
      "text/html": "<div>\n<style scoped>\n    .dataframe tbody tr th:only-of-type {\n        vertical-align: middle;\n    }\n\n    .dataframe tbody tr th {\n        vertical-align: top;\n    }\n\n    .dataframe thead th {\n        text-align: right;\n    }\n</style>\n<table border=\"1\" class=\"dataframe\">\n  <thead>\n    <tr style=\"text-align: right;\">\n      <th></th>\n      <th>PAGE</th>\n      <th>NAME</th>\n      <th>REAL NAME</th>\n      <th>REGION</th>\n      <th>NATIONALITY</th>\n      <th>TEAM</th>\n      <th>AGE</th>\n      <th>WEAPON</th>\n      <th>MAJOR APPEARANCES</th>\n      <th>LAST UPDATED</th>\n    </tr>\n  </thead>\n  <tbody>\n    <tr>\n      <th>710</th>\n      <td>Dupreeh</td>\n      <td>dupreeh</td>\n      <td>Peter Rothmann Rasmussen</td>\n      <td>Europe</td>\n      <td>Denmark</td>\n      <td>Team Vitality</td>\n      <td>30</td>\n      <td>AWP</td>\n      <td>17</td>\n      <td>2023-05-19</td>\n    </tr>\n    <tr>\n      <th>3035</th>\n      <td>Xyp9x</td>\n      <td>Xyp9x</td>\n      <td>Andreas Højsleth</td>\n      <td>Europe</td>\n      <td>Denmark</td>\n      <td>Astralis Talent</td>\n      <td>27</td>\n      <td>AK47</td>\n      <td>16</td>\n      <td>2023-05-19</td>\n    </tr>\n    <tr>\n      <th>2497</th>\n      <td>Shox</td>\n      <td>shox</td>\n      <td>Richard Papillon</td>\n      <td>Europe</td>\n      <td>France</td>\n      <td>NaN</td>\n      <td>30</td>\n      <td>AK47</td>\n      <td>16</td>\n      <td>2023-05-19</td>\n    </tr>\n    <tr>\n      <th>126</th>\n      <td>ApEX</td>\n      <td>apEX</td>\n      <td>Dan Madesclaire</td>\n      <td>Europe</td>\n      <td>France</td>\n      <td>Team Vitality</td>\n      <td>30</td>\n      <td>AK47</td>\n      <td>15</td>\n      <td>2023-05-19</td>\n    </tr>\n    <tr>\n      <th>1354</th>\n      <td>Karrigan</td>\n      <td>karrigan</td>\n      <td>Finn Andersen</td>\n      <td>Europe</td>\n      <td>Denmark</td>\n      <td>FaZe Clan</td>\n      <td>33</td>\n      <td>AK47</td>\n      <td>15</td>\n      <td>2023-05-19</td>\n    </tr>\n    <tr>\n      <th>...</th>\n      <td>...</td>\n      <td>...</td>\n      <td>...</td>\n      <td>...</td>\n      <td>...</td>\n      <td>...</td>\n      <td>...</td>\n      <td>...</td>\n      <td>...</td>\n      <td>...</td>\n    </tr>\n    <tr>\n      <th>1298</th>\n      <td>Juissi</td>\n      <td>juissi</td>\n      <td>Youssef Adam</td>\n      <td>Europe</td>\n      <td>Finland</td>\n      <td>ENCE Academy</td>\n      <td>20</td>\n      <td>AK47</td>\n      <td>0</td>\n      <td>2023-05-19</td>\n    </tr>\n    <tr>\n      <th>1299</th>\n      <td>Juli</td>\n      <td>Juli</td>\n      <td>Juliana Tosic</td>\n      <td>Americas</td>\n      <td>United States</td>\n      <td>NaN</td>\n      <td>23</td>\n      <td>AK47</td>\n      <td>0</td>\n      <td>2023-05-19</td>\n    </tr>\n    <tr>\n      <th>1300</th>\n      <td>Juliano</td>\n      <td>juliano</td>\n      <td>Julia Kiran</td>\n      <td>Europe</td>\n      <td>Sweden</td>\n      <td>G2 Oya</td>\n      <td>29</td>\n      <td>AK47</td>\n      <td>0</td>\n      <td>2023-05-19</td>\n    </tr>\n    <tr>\n      <th>1302</th>\n      <td>Julih</td>\n      <td>julih</td>\n      <td>Julia Gomes</td>\n      <td>Americas</td>\n      <td>Brazil</td>\n      <td>B4 Esports Female</td>\n      <td>24</td>\n      <td>AK47</td>\n      <td>0</td>\n      <td>2023-05-19</td>\n    </tr>\n    <tr>\n      <th>3540</th>\n      <td>Zyppe</td>\n      <td>Zyppe</td>\n      <td>Samuel Martinsson</td>\n      <td>Europe</td>\n      <td>Sweden</td>\n      <td>00 Prospects</td>\n      <td>33</td>\n      <td>AK47</td>\n      <td>0</td>\n      <td>2023-05-19</td>\n    </tr>\n  </tbody>\n</table>\n<p>2650 rows × 10 columns</p>\n</div>"
     },
     "execution_count": 35,
     "metadata": {},
     "output_type": "execute_result"
    }
   ],
   "source": [
    "def age(birthdate):\n",
    "    birthdate = datetime.strptime(birthdate, \"%Y-%m-%d\")\n",
    "    today = datetime.now()\n",
    "    return today.year - birthdate.year - ((today.month, today.day) < (birthdate.month, birthdate.day))\n",
    "\n",
    "def playerdata_postprocess(df):\n",
    "    columns = list(pd.read_csv(CSV_FILE).columns)\n",
    "    del columns[columns.index(\"TEAM\")]\n",
    "    df.dropna(inplace = True, subset = columns)\n",
    "    age_conversions = []\n",
    "    for date in df[\"AGE\"]:\n",
    "        try:\n",
    "            age_conversions.append(age(date))\n",
    "        except ValueError:\n",
    "            age_conversions.append(0)\n",
    "    df[\"AGE\"] = age_conversions\n",
    "    return df.sort_values([\"MAJOR APPEARANCES\"], ascending=False)\n",
    "\n",
    "playerdata_post = playerdata_postprocess(pd.read_csv(CSV_FILE))"
   ]
  },
  {
   "cell_type": "markdown",
   "metadata": {},
   "source": [
    "## UI Search Engine"
   ]
  },
  {
   "cell_type": "code",
   "execution_count": 34,
   "metadata": {
    "ExecuteTime": {
     "end_time": "2023-05-19T15:40:37.760616600Z",
     "start_time": "2023-05-19T15:40:37.740245800Z"
    }
   },
   "outputs": [
    {
     "data": {
      "text/plain": "interactive(children=(SelectMultiple(description='REGION', index=(0, 1, 2), options=('Europe', 'Americas', 'As…",
      "application/vnd.jupyter.widget-view+json": {
       "version_major": 2,
       "version_minor": 0,
       "model_id": "716bd3e0b7b6420eab0b891559f316af"
      }
     },
     "metadata": {},
     "output_type": "display_data"
    },
    {
     "data": {
      "text/plain": "<function __main__.ui_selector(sregion, sage, sweapon, smajors)>"
     },
     "execution_count": 34,
     "metadata": {},
     "output_type": "execute_result"
    }
   ],
   "source": [
    "def generate_selection(data, description):\n",
    "    unique_data = list(data.unique())\n",
    "    return widgets.SelectMultiple(\n",
    "        options=unique_data,\n",
    "        value=unique_data,\n",
    "        rows=len(unique_data),\n",
    "        description=description,\n",
    "        disabled=False)\n",
    "\n",
    "\n",
    "def generate_rangeslider(data, description):\n",
    "    return widgets.FloatRangeSlider(\n",
    "        value=[min(data), max(data)],\n",
    "        min=min(data),\n",
    "        max=max(data),\n",
    "        description=description,\n",
    "        step=1,\n",
    "        disabled=False,\n",
    "        continuous_update=False,\n",
    "        orientation='horizontal',\n",
    "        readout=True,\n",
    "        readout_format='1',\n",
    ")\n",
    "\n",
    "region_selector = generate_selection(playerdata_post[\"REGION\"], \"REGION\")\n",
    "age_slider = generate_rangeslider(playerdata_post[\"AGE\"], \"AGE\")\n",
    "weapon_selector = generate_selection(playerdata_post[\"WEAPON\"], \"WEAPON\")\n",
    "majors_slider = generate_rangeslider(playerdata_post[\"MAJOR APPEARANCES\"], \"MAJOR APPEARANCES\")\n",
    "\n",
    "def ui_selector(sregion, sage, sweapon, smajors):\n",
    "    return playerdata_post.loc[(playerdata_post[\"REGION\"].isin(sregion)) &\n",
    "                               (playerdata_post[\"AGE\"] >= sage[0]) &\n",
    "                               (playerdata_post[\"AGE\"] <= sage[1]) &\n",
    "                               (playerdata_post[\"WEAPON\"].isin(sweapon)) &\n",
    "                               (playerdata_post[\"MAJOR APPEARANCES\"] >= smajors[0]) &\n",
    "                               (playerdata_post[\"MAJOR APPEARANCES\"] <= smajors[1])\n",
    "                               ]\n",
    "    \n",
    "widgets.interact(ui_selector, sregion = region_selector, sage = age_slider, sweapon = weapon_selector, smajors = majors_slider)"
   ]
  },
  {
   "cell_type": "code",
   "execution_count": 5,
   "outputs": [
    {
     "data": {
      "text/plain": "  0%|          | 0/26 [00:00<?, ?it/s]",
      "application/vnd.jupyter.widget-view+json": {
       "version_major": 2,
       "version_minor": 0,
       "model_id": "c4941ff3a3184ea884d5ea231ca277dd"
      }
     },
     "metadata": {},
     "output_type": "display_data"
    }
   ],
   "source": [],
   "metadata": {
    "collapsed": false,
    "ExecuteTime": {
     "end_time": "2023-05-26T11:44:41.847452800Z",
     "start_time": "2023-05-26T11:44:17.190108400Z"
    }
   }
  }
 ],
 "metadata": {
  "kernelspec": {
   "display_name": "Python 3 (ipykernel)",
   "language": "python",
   "name": "python3"
  },
  "language_info": {
   "codemirror_mode": {
    "name": "ipython",
    "version": 3
   },
   "file_extension": ".py",
   "mimetype": "text/x-python",
   "name": "python",
   "nbconvert_exporter": "python",
   "pygments_lexer": "ipython3",
   "version": "3.9.12"
  }
 },
 "nbformat": 4,
 "nbformat_minor": 4
}
