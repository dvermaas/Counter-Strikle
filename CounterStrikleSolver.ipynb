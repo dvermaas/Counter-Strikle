{
 "cells": [
  {
   "cell_type": "markdown",
   "metadata": {},
   "source": [
    "# Counter Strikle Webscraper"
   ]
  },
  {
   "cell_type": "markdown",
   "metadata": {},
   "source": [
    "## Notebook Description"
   ]
  },
  {
   "cell_type": "markdown",
   "metadata": {},
   "source": [
    "__Author:__ Daniël Vermaas"
   ]
  },
  {
   "cell_type": "markdown",
   "metadata": {},
   "source": [
    "This notebook scrapes [Liquidpedia](https://liquipedia.net/counterstrike/Main_Page), in order to make [Counter-Strikle](https://blast.tv/counter-strikle) puzzle-solving easier. Before using the notebook, please read the [Liquidpedia ToS about API usage](https://liquipedia.net/api-terms-of-use)."
   ]
  },
  {
   "cell_type": "markdown",
   "metadata": {},
   "source": [
    "## Libraries & Constants"
   ]
  },
  {
   "cell_type": "code",
   "execution_count": 1,
   "outputs": [],
   "source": [
    "import os\n",
    "import time\n",
    "from bs4 import BeautifulSoup\n",
    "from datetime import datetime\n",
    "import json\n",
    "import mwparserfromhell\n",
    "from ratelimit import limits, sleep_and_retry\n",
    "import pandas as pd\n",
    "from tqdm.notebook import tqdm\n",
    "import requests\n",
    "import ipywidgets as widgets\n",
    "from ipywidgets import interact"
   ],
   "metadata": {
    "collapsed": false,
    "ExecuteTime": {
     "end_time": "2023-05-25T13:34:27.165670900Z",
     "start_time": "2023-05-25T13:34:26.220992800Z"
    }
   }
  },
  {
   "cell_type": "code",
   "execution_count": 2,
   "outputs": [],
   "source": [
    "BASE_URL = \"https://liquipedia.net/counterstrike/api.php?\"\n",
    "HEADERS = {\"User-Agent\": \"Counter-Strikle-Bot (dvermaas@live.com)\",\"Accept-Encoding\": \"gzip\"}\n",
    "CSV_FILE = \"players.csv\"\n",
    "QUERY_COOLDOWN = 2\n",
    "REGIONS = {\n",
    "    \"Europe\" : [\"Europe\", \"CIS\"],\n",
    "    \"Americas\" : [\"North America\", \"South America\"],\n",
    "    \"Asia-Pacific\" : [\"Oceania\", \"Asia\"],\n",
    "}\n",
    "COLUMNS = [\n",
    "    \"PAGE\",\n",
    "    \"NAME\",\n",
    "    \"REAL NAME\",\n",
    "    \"REGION\",\n",
    "    \"NATIONALITY\",\n",
    "    \"TEAM\",\n",
    "    \"AGE\",\n",
    "    \"WEAPON\",\n",
    "    \"MAJOR APPEARANCES\",\n",
    "    \"LAST UPDATED\"\n",
    "]"
   ],
   "metadata": {
    "collapsed": false,
    "ExecuteTime": {
     "end_time": "2023-05-25T13:34:30.041574100Z",
     "start_time": "2023-05-25T13:34:30.033524100Z"
    }
   }
  },
  {
   "cell_type": "markdown",
   "metadata": {},
   "source": [
    "## MediaWiki API requests"
   ]
  },
  {
   "cell_type": "code",
   "execution_count": 3,
   "outputs": [],
   "source": [
    "@sleep_and_retry\n",
    "@limits(calls=1, period=30)\n",
    "def fetch_page(page):\n",
    "    url =  f\"{BASE_URL}action=parse&format=json&page={page}\"\n",
    "    response = requests.get(url, HEADERS)\n",
    "    page_html = response.json()['parse']['text']['*']\n",
    "    soup = BeautifulSoup(page_html,features=\"lxml\")\n",
    "    return soup\n",
    "\n",
    "@sleep_and_retry\n",
    "@limits(calls=1, period=QUERY_COOLDOWN)\n",
    "def query_page(page, rvsection):\n",
    "    params = {\n",
    "        \"action\": \"query\",\n",
    "        \"format\": \"json\",\n",
    "        \"prop\": \"revisions\",\n",
    "        \"titles\": page,\n",
    "        \"rvprop\": \"content\",\n",
    "        \"rvslots\": \"*\",\n",
    "        \"rvsection\": rvsection,\n",
    "    }\n",
    "    response = requests.get(BASE_URL, params=params, headers=HEADERS)\n",
    "    data = response.json()\n",
    "    pages = data[\"query\"][\"pages\"]\n",
    "    page_id = next(iter(pages))\n",
    "    page = pages[page_id]\n",
    "    wikicode = mwparserfromhell.parse(page[\"revisions\"][0][\"slots\"][\"main\"][\"*\"])\n",
    "    return wikicode"
   ],
   "metadata": {
    "collapsed": false,
    "ExecuteTime": {
     "end_time": "2023-05-19T15:06:54.653029900Z",
     "start_time": "2023-05-19T15:06:54.645155300Z"
    }
   }
  },
  {
   "cell_type": "markdown",
   "source": [
    "## Generate Country to Region Map"
   ],
   "metadata": {
    "collapsed": false
   }
  },
  {
   "cell_type": "code",
   "execution_count": 4,
   "outputs": [],
   "source": [
    "def build_region_dict():\n",
    "    country_region_dict = {}\n",
    "    with open(\"regions.json\", \"r\") as file:\n",
    "        region_dict = json.load(file)\n",
    "    for region, countries in region_dict.items():\n",
    "            for country in countries:\n",
    "                country_region_dict[country] = region\n",
    "    return country_region_dict\n",
    "\n",
    "REGION_DICT = build_region_dict()"
   ],
   "metadata": {
    "collapsed": false,
    "ExecuteTime": {
     "end_time": "2023-05-19T15:06:54.658528700Z",
     "start_time": "2023-05-19T15:06:54.654533900Z"
    }
   }
  },
  {
   "cell_type": "code",
   "execution_count": 5,
   "metadata": {
    "ExecuteTime": {
     "end_time": "2023-05-19T15:06:55.026915800Z",
     "start_time": "2023-05-19T15:06:54.660528200Z"
    }
   },
   "outputs": [],
   "source": [
    "# Fetches list of all concluded majors (checks hltv awards) \n",
    "def fetch_majors():\n",
    "    wikicode = query_page(\"Majors\", 8)\n",
    "    links = wikicode.filter_wikilinks()\n",
    "    links = [link.split('|')[0].replace('[[', '') for link in links]\n",
    "    return links\n",
    "\n",
    "MAJOR_LIST = fetch_majors()"
   ]
  },
  {
   "cell_type": "code",
   "execution_count": 6,
   "metadata": {
    "ExecuteTime": {
     "end_time": "2023-05-19T15:07:13.566087600Z",
     "start_time": "2023-05-19T15:06:55.025915900Z"
    }
   },
   "outputs": [],
   "source": [
    "# Fetches all player ids\n",
    "def fetch_players():\n",
    "    results = []\n",
    "    for category in [\"Players\", \"Coaches\"]:\n",
    "        url = f\"{BASE_URL}action=query&list=categorymembers&cmtitle=Category:{category}&cmlimit=max&format=json\"\n",
    "\n",
    "        while True:\n",
    "            response = requests.get(url)\n",
    "            time.sleep(QUERY_COOLDOWN)\n",
    "            data = json.loads(response.text)\n",
    "            pages = data[\"query\"][\"categorymembers\"]\n",
    "            results.extend(pages)\n",
    "\n",
    "            if \"continue\" not in data:\n",
    "                break\n",
    "\n",
    "            cont = data[\"continue\"]\n",
    "            cmcontinue = cont[\"cmcontinue\"]\n",
    "            url = f\"{url}&cmcontinue={cmcontinue}\"\n",
    "    results = [row[\"title\"] for row in results if \"Category\" not in row[\"title\"]]\n",
    "    return results\n",
    "\n",
    "PLAYER_LIST = fetch_players()"
   ]
  },
  {
   "cell_type": "code",
   "execution_count": 7,
   "metadata": {
    "pycharm": {
     "is_executing": true
    },
    "ExecuteTime": {
     "end_time": "2023-05-19T15:07:13.923090200Z",
     "start_time": "2023-05-19T15:07:13.571708900Z"
    }
   },
   "outputs": [],
   "source": [
    "def fetch_major_players():\n",
    "    # load majors from json\n",
    "    file_name = \"majors.json\"\n",
    "    with open(file_name, \"r\") as file:\n",
    "        major_dict = json.load(file)\n",
    "\n",
    "    # check for new majors\n",
    "    for major in fetch_majors():\n",
    "        if major in major_dict:\n",
    "            continue\n",
    "        wikicode = query_page(major, \"5\")\n",
    "        teams_dict = {}\n",
    "        for template in wikicode.filter_templates(matches=r\"\\bTeamCard\\b\"):\n",
    "            if template.name.strip() == \"TeamCard\":\n",
    "                # skip showmatches\n",
    "                if not template.has(\"qualifier\"):\n",
    "                    continue\n",
    "                if not template.has(\"p1\"):\n",
    "                    continue\n",
    "                team = template.get(\"team\").value.strip()\n",
    "                players = [template.get(f\"p{i}\").value.strip() for i in range(1, 6)]\n",
    "                teams_dict[team] = players\n",
    "        major_dict[major] = teams_dict\n",
    "\n",
    "    # save majors to json\n",
    "    with open(file_name, \"w\") as file:\n",
    "        json.dump(major_dict, file, indent=2)\n",
    "\n",
    "    # invert dict\n",
    "    major_players = {}\n",
    "    for major,teams in major_dict.items():\n",
    "        for team, players in teams.items():\n",
    "            for player in players:\n",
    "                if player not in major_players:\n",
    "                    major_players[player] = 0\n",
    "                major_players[player] += 1\n",
    "\n",
    "    return major_players\n",
    "\n",
    "MAJOR_PLAYERS = fetch_major_players()"
   ]
  },
  {
   "cell_type": "markdown",
   "metadata": {},
   "source": [
    "## Player-Specific Information"
   ]
  },
  {
   "cell_type": "code",
   "execution_count": 8,
   "outputs": [
    {
     "data": {
      "text/plain": "{'PAGE': 'Boomser',\n 'NAME': None,\n 'REGION': None,\n 'REAL NAME': None,\n 'NATIONALITY': None,\n 'TEAM': None,\n 'AGE': None,\n 'WEAPON': 'AK47',\n 'MAJOR APPEARANCES': 0,\n 'LAST UPDATED': '2023-05-19'}"
     },
     "execution_count": 8,
     "metadata": {},
     "output_type": "execute_result"
    }
   ],
   "source": [
    "# fetches all player data and puts it in dict\n",
    "def fetch_player_dict(player_id):\n",
    "    infobox_dict = {}\n",
    "    wikicode = query_page(player_id, 0)\n",
    "    try:\n",
    "        infobox = wikicode.filter_templates(matches=\"Infobox player\")[0]\n",
    "    except IndexError:\n",
    "        return infobox_dict\n",
    "    for param in infobox.params:\n",
    "        value = mwparserfromhell.parse(param.value.strip_code()).strip()\n",
    "        infobox_dict[param.name.strip()] = str(value)\n",
    "    return infobox_dict\n",
    "\n",
    "# filter player data for relevant information\n",
    "def fetch_player(player_id):\n",
    "    # parse player information\n",
    "    info_dict = fetch_player_dict(player_id)\n",
    "\n",
    "    # add name to dict\n",
    "    output_dict = dict()\n",
    "    output_dict[\"PAGE\"] = player_id\n",
    "    output_dict[\"NAME\"] = info_dict.get(\"id\")\n",
    "    output_dict[\"REGION\"] = REGION_DICT.get(info_dict.get(\"country\"))\n",
    "    output_dict[\"REAL NAME\"] = info_dict.get(\"romanized_name\", info_dict.get(\"name\"))\n",
    "    output_dict[\"NATIONALITY\"] = info_dict.get(\"country\")\n",
    "    output_dict[\"TEAM\"] = info_dict.get(\"team\")\n",
    "    output_dict[\"AGE\"] = info_dict.get(\"birth_date\")\n",
    "    roles = [info_dict.get(\"role\"), info_dict.get(\"role2\")]\n",
    "    if \"awp\" in roles:\n",
    "        output_dict[\"WEAPON\"] = \"AWP\"\n",
    "    else:\n",
    "        output_dict[\"WEAPON\"] = \"AK47\"\n",
    "    output_dict[\"MAJOR APPEARANCES\"] = MAJOR_PLAYERS.get(info_dict.get(\"id\"), 0)\n",
    "    output_dict[\"LAST UPDATED\"] = datetime.now().strftime(\"%Y-%m-%d\")\n",
    "    return output_dict\n",
    "\n",
    "fetch_player(\"Boomser\")"
   ],
   "metadata": {
    "collapsed": false,
    "ExecuteTime": {
     "end_time": "2023-05-19T15:07:15.915395100Z",
     "start_time": "2023-05-19T15:07:13.926603300Z"
    }
   }
  },
  {
   "cell_type": "markdown",
   "metadata": {},
   "source": [
    "## Generate CSV"
   ]
  },
  {
   "cell_type": "code",
   "execution_count": 9,
   "metadata": {
    "ExecuteTime": {
     "end_time": "2023-05-19T15:07:17.098958200Z",
     "start_time": "2023-05-19T15:07:15.913886100Z"
    }
   },
   "outputs": [
    {
     "data": {
      "text/plain": "  0%|          | 0/3573 [00:00<?, ?it/s]",
      "application/vnd.jupyter.widget-view+json": {
       "version_major": 2,
       "version_minor": 0,
       "model_id": "55d0b36027ab452484754f3fbcf57207"
      }
     },
     "metadata": {},
     "output_type": "display_data"
    }
   ],
   "source": [
    "def build_df():\n",
    "    # Get dataframe to write to\n",
    "    if os.path.exists(CSV_FILE):\n",
    "        playerdata = pd.read_csv(CSV_FILE)\n",
    "    else:\n",
    "        playerdata = pd.DataFrame(columns=COLUMNS)\n",
    "\n",
    "    try:\n",
    "        for player in tqdm(PLAYER_LIST, leave=False):\n",
    "            if not (playerdata[\"PAGE\"].eq(player)).any():\n",
    "                row_data = fetch_player(player)\n",
    "                playerdata = pd.concat([playerdata, pd.DataFrame.from_records([row_data])], ignore_index=True)\n",
    "    except Exception as e:\n",
    "        print(\"Error:\", e)\n",
    "        print(\"Player:\", player)\n",
    "    \n",
    "    playerdata.to_csv(CSV_FILE, index=False)\n",
    "\n",
    "build_df()"
   ]
  },
  {
   "cell_type": "code",
   "execution_count": 36,
   "outputs": [
    {
     "data": {
      "text/plain": "       PAGE   NAME                         REAL NAME        REGION   \n0      -Ace   -Ace                      Brandon Winn      Americas  \\\n1      .exe   .exe                     Aidan Vorster           NaN   \n2      .PhP   .PhP                       Marek Kádek           NaN   \n3        0i     0i                        Liu Zhiwei  Asia-Pacific   \n4       129    129                         Yang Ting  Asia-Pacific   \n...     ...    ...                               ...           ...   \n3536   Zews   zews                      Wilton Prado      Americas   \n3537  ZoneR  zoneR  Aleksandr Anatolyevich Bogatyrev        Europe   \n3538  Zonic  zonic              Danny Selim Sørensen        Europe   \n3539   Zote   Zote                     Julian Acosta      Americas   \n3540  Zyppe  Zyppe                 Samuel Martinsson        Europe   \n\n        NATIONALITY             TEAM         AGE WEAPON  MAJOR APPEARANCES   \n0     United States              NaN    1995-4-7   AK47                  0  \\\n1      South Africa   Goliath Gaming   2003-5-15   AK47                  0   \n2          Slovakia              NaN         NaN   AK47                  0   \n3             China  Invictus Gaming  1996-06-18   AK47                  0   \n4             China              NaN         NaN   AK47                  0   \n...             ...              ...         ...    ...                ...   \n3536         Brazil            Fluxo   1987-11-3   AK47                  1   \n3537         Russia     forZe School  1987-08-04   AK47                  0   \n3538        Denmark    Team Vitality   1986-7-30   AK47                  0   \n3539      Argentina           BESTIA         NaN   AK47                  0   \n3540         Sweden     00 Prospects    1989-9-9   AK47                  0   \n\n     LAST UPDATED  \n0      2023-05-19  \n1      2023-05-19  \n2      2023-05-19  \n3      2023-05-19  \n4      2023-05-19  \n...           ...  \n3536   2023-05-19  \n3537   2023-05-19  \n3538   2023-05-19  \n3539   2023-05-19  \n3540   2023-05-19  \n\n[3541 rows x 10 columns]",
      "text/html": "<div>\n<style scoped>\n    .dataframe tbody tr th:only-of-type {\n        vertical-align: middle;\n    }\n\n    .dataframe tbody tr th {\n        vertical-align: top;\n    }\n\n    .dataframe thead th {\n        text-align: right;\n    }\n</style>\n<table border=\"1\" class=\"dataframe\">\n  <thead>\n    <tr style=\"text-align: right;\">\n      <th></th>\n      <th>PAGE</th>\n      <th>NAME</th>\n      <th>REAL NAME</th>\n      <th>REGION</th>\n      <th>NATIONALITY</th>\n      <th>TEAM</th>\n      <th>AGE</th>\n      <th>WEAPON</th>\n      <th>MAJOR APPEARANCES</th>\n      <th>LAST UPDATED</th>\n    </tr>\n  </thead>\n  <tbody>\n    <tr>\n      <th>0</th>\n      <td>-Ace</td>\n      <td>-Ace</td>\n      <td>Brandon Winn</td>\n      <td>Americas</td>\n      <td>United States</td>\n      <td>NaN</td>\n      <td>1995-4-7</td>\n      <td>AK47</td>\n      <td>0</td>\n      <td>2023-05-19</td>\n    </tr>\n    <tr>\n      <th>1</th>\n      <td>.exe</td>\n      <td>.exe</td>\n      <td>Aidan Vorster</td>\n      <td>NaN</td>\n      <td>South Africa</td>\n      <td>Goliath Gaming</td>\n      <td>2003-5-15</td>\n      <td>AK47</td>\n      <td>0</td>\n      <td>2023-05-19</td>\n    </tr>\n    <tr>\n      <th>2</th>\n      <td>.PhP</td>\n      <td>.PhP</td>\n      <td>Marek Kádek</td>\n      <td>NaN</td>\n      <td>Slovakia</td>\n      <td>NaN</td>\n      <td>NaN</td>\n      <td>AK47</td>\n      <td>0</td>\n      <td>2023-05-19</td>\n    </tr>\n    <tr>\n      <th>3</th>\n      <td>0i</td>\n      <td>0i</td>\n      <td>Liu Zhiwei</td>\n      <td>Asia-Pacific</td>\n      <td>China</td>\n      <td>Invictus Gaming</td>\n      <td>1996-06-18</td>\n      <td>AK47</td>\n      <td>0</td>\n      <td>2023-05-19</td>\n    </tr>\n    <tr>\n      <th>4</th>\n      <td>129</td>\n      <td>129</td>\n      <td>Yang Ting</td>\n      <td>Asia-Pacific</td>\n      <td>China</td>\n      <td>NaN</td>\n      <td>NaN</td>\n      <td>AK47</td>\n      <td>0</td>\n      <td>2023-05-19</td>\n    </tr>\n    <tr>\n      <th>...</th>\n      <td>...</td>\n      <td>...</td>\n      <td>...</td>\n      <td>...</td>\n      <td>...</td>\n      <td>...</td>\n      <td>...</td>\n      <td>...</td>\n      <td>...</td>\n      <td>...</td>\n    </tr>\n    <tr>\n      <th>3536</th>\n      <td>Zews</td>\n      <td>zews</td>\n      <td>Wilton Prado</td>\n      <td>Americas</td>\n      <td>Brazil</td>\n      <td>Fluxo</td>\n      <td>1987-11-3</td>\n      <td>AK47</td>\n      <td>1</td>\n      <td>2023-05-19</td>\n    </tr>\n    <tr>\n      <th>3537</th>\n      <td>ZoneR</td>\n      <td>zoneR</td>\n      <td>Aleksandr Anatolyevich Bogatyrev</td>\n      <td>Europe</td>\n      <td>Russia</td>\n      <td>forZe School</td>\n      <td>1987-08-04</td>\n      <td>AK47</td>\n      <td>0</td>\n      <td>2023-05-19</td>\n    </tr>\n    <tr>\n      <th>3538</th>\n      <td>Zonic</td>\n      <td>zonic</td>\n      <td>Danny Selim Sørensen</td>\n      <td>Europe</td>\n      <td>Denmark</td>\n      <td>Team Vitality</td>\n      <td>1986-7-30</td>\n      <td>AK47</td>\n      <td>0</td>\n      <td>2023-05-19</td>\n    </tr>\n    <tr>\n      <th>3539</th>\n      <td>Zote</td>\n      <td>Zote</td>\n      <td>Julian Acosta</td>\n      <td>Americas</td>\n      <td>Argentina</td>\n      <td>BESTIA</td>\n      <td>NaN</td>\n      <td>AK47</td>\n      <td>0</td>\n      <td>2023-05-19</td>\n    </tr>\n    <tr>\n      <th>3540</th>\n      <td>Zyppe</td>\n      <td>Zyppe</td>\n      <td>Samuel Martinsson</td>\n      <td>Europe</td>\n      <td>Sweden</td>\n      <td>00 Prospects</td>\n      <td>1989-9-9</td>\n      <td>AK47</td>\n      <td>0</td>\n      <td>2023-05-19</td>\n    </tr>\n  </tbody>\n</table>\n<p>3541 rows × 10 columns</p>\n</div>"
     },
     "execution_count": 36,
     "metadata": {},
     "output_type": "execute_result"
    }
   ],
   "source": [
    "pd.read_csv(CSV_FILE)"
   ],
   "metadata": {
    "collapsed": false,
    "ExecuteTime": {
     "end_time": "2023-05-19T15:44:53.882765200Z",
     "start_time": "2023-05-19T15:44:53.863511900Z"
    }
   }
  },
  {
   "cell_type": "markdown",
   "metadata": {},
   "source": [
    "## Post Processing"
   ]
  },
  {
   "cell_type": "code",
   "execution_count": 35,
   "metadata": {
    "ExecuteTime": {
     "end_time": "2023-05-19T15:44:35.753824500Z",
     "start_time": "2023-05-19T15:44:35.706874200Z"
    }
   },
   "outputs": [
    {
     "data": {
      "text/plain": "          PAGE      NAME                 REAL NAME    REGION    NATIONALITY   \n710    Dupreeh   dupreeh  Peter Rothmann Rasmussen    Europe        Denmark  \\\n3035     Xyp9x     Xyp9x          Andreas Højsleth    Europe        Denmark   \n2497      Shox      shox          Richard Papillon    Europe         France   \n126       ApEX      apEX           Dan Madesclaire    Europe         France   \n1354  Karrigan  karrigan             Finn Andersen    Europe        Denmark   \n...        ...       ...                       ...       ...            ...   \n1298    Juissi    juissi              Youssef Adam    Europe        Finland   \n1299      Juli      Juli             Juliana Tosic  Americas  United States   \n1300   Juliano   juliano               Julia Kiran    Europe         Sweden   \n1302     Julih     julih               Julia Gomes  Americas         Brazil   \n3540     Zyppe     Zyppe         Samuel Martinsson    Europe         Sweden   \n\n                   TEAM  AGE WEAPON  MAJOR APPEARANCES LAST UPDATED  \n710       Team Vitality   30    AWP                 17   2023-05-19  \n3035    Astralis Talent   27   AK47                 16   2023-05-19  \n2497                NaN   30   AK47                 16   2023-05-19  \n126       Team Vitality   30   AK47                 15   2023-05-19  \n1354          FaZe Clan   33   AK47                 15   2023-05-19  \n...                 ...  ...    ...                ...          ...  \n1298       ENCE Academy   20   AK47                  0   2023-05-19  \n1299                NaN   23   AK47                  0   2023-05-19  \n1300             G2 Oya   29   AK47                  0   2023-05-19  \n1302  B4 Esports Female   24   AK47                  0   2023-05-19  \n3540       00 Prospects   33   AK47                  0   2023-05-19  \n\n[2650 rows x 10 columns]",
      "text/html": "<div>\n<style scoped>\n    .dataframe tbody tr th:only-of-type {\n        vertical-align: middle;\n    }\n\n    .dataframe tbody tr th {\n        vertical-align: top;\n    }\n\n    .dataframe thead th {\n        text-align: right;\n    }\n</style>\n<table border=\"1\" class=\"dataframe\">\n  <thead>\n    <tr style=\"text-align: right;\">\n      <th></th>\n      <th>PAGE</th>\n      <th>NAME</th>\n      <th>REAL NAME</th>\n      <th>REGION</th>\n      <th>NATIONALITY</th>\n      <th>TEAM</th>\n      <th>AGE</th>\n      <th>WEAPON</th>\n      <th>MAJOR APPEARANCES</th>\n      <th>LAST UPDATED</th>\n    </tr>\n  </thead>\n  <tbody>\n    <tr>\n      <th>710</th>\n      <td>Dupreeh</td>\n      <td>dupreeh</td>\n      <td>Peter Rothmann Rasmussen</td>\n      <td>Europe</td>\n      <td>Denmark</td>\n      <td>Team Vitality</td>\n      <td>30</td>\n      <td>AWP</td>\n      <td>17</td>\n      <td>2023-05-19</td>\n    </tr>\n    <tr>\n      <th>3035</th>\n      <td>Xyp9x</td>\n      <td>Xyp9x</td>\n      <td>Andreas Højsleth</td>\n      <td>Europe</td>\n      <td>Denmark</td>\n      <td>Astralis Talent</td>\n      <td>27</td>\n      <td>AK47</td>\n      <td>16</td>\n      <td>2023-05-19</td>\n    </tr>\n    <tr>\n      <th>2497</th>\n      <td>Shox</td>\n      <td>shox</td>\n      <td>Richard Papillon</td>\n      <td>Europe</td>\n      <td>France</td>\n      <td>NaN</td>\n      <td>30</td>\n      <td>AK47</td>\n      <td>16</td>\n      <td>2023-05-19</td>\n    </tr>\n    <tr>\n      <th>126</th>\n      <td>ApEX</td>\n      <td>apEX</td>\n      <td>Dan Madesclaire</td>\n      <td>Europe</td>\n      <td>France</td>\n      <td>Team Vitality</td>\n      <td>30</td>\n      <td>AK47</td>\n      <td>15</td>\n      <td>2023-05-19</td>\n    </tr>\n    <tr>\n      <th>1354</th>\n      <td>Karrigan</td>\n      <td>karrigan</td>\n      <td>Finn Andersen</td>\n      <td>Europe</td>\n      <td>Denmark</td>\n      <td>FaZe Clan</td>\n      <td>33</td>\n      <td>AK47</td>\n      <td>15</td>\n      <td>2023-05-19</td>\n    </tr>\n    <tr>\n      <th>...</th>\n      <td>...</td>\n      <td>...</td>\n      <td>...</td>\n      <td>...</td>\n      <td>...</td>\n      <td>...</td>\n      <td>...</td>\n      <td>...</td>\n      <td>...</td>\n      <td>...</td>\n    </tr>\n    <tr>\n      <th>1298</th>\n      <td>Juissi</td>\n      <td>juissi</td>\n      <td>Youssef Adam</td>\n      <td>Europe</td>\n      <td>Finland</td>\n      <td>ENCE Academy</td>\n      <td>20</td>\n      <td>AK47</td>\n      <td>0</td>\n      <td>2023-05-19</td>\n    </tr>\n    <tr>\n      <th>1299</th>\n      <td>Juli</td>\n      <td>Juli</td>\n      <td>Juliana Tosic</td>\n      <td>Americas</td>\n      <td>United States</td>\n      <td>NaN</td>\n      <td>23</td>\n      <td>AK47</td>\n      <td>0</td>\n      <td>2023-05-19</td>\n    </tr>\n    <tr>\n      <th>1300</th>\n      <td>Juliano</td>\n      <td>juliano</td>\n      <td>Julia Kiran</td>\n      <td>Europe</td>\n      <td>Sweden</td>\n      <td>G2 Oya</td>\n      <td>29</td>\n      <td>AK47</td>\n      <td>0</td>\n      <td>2023-05-19</td>\n    </tr>\n    <tr>\n      <th>1302</th>\n      <td>Julih</td>\n      <td>julih</td>\n      <td>Julia Gomes</td>\n      <td>Americas</td>\n      <td>Brazil</td>\n      <td>B4 Esports Female</td>\n      <td>24</td>\n      <td>AK47</td>\n      <td>0</td>\n      <td>2023-05-19</td>\n    </tr>\n    <tr>\n      <th>3540</th>\n      <td>Zyppe</td>\n      <td>Zyppe</td>\n      <td>Samuel Martinsson</td>\n      <td>Europe</td>\n      <td>Sweden</td>\n      <td>00 Prospects</td>\n      <td>33</td>\n      <td>AK47</td>\n      <td>0</td>\n      <td>2023-05-19</td>\n    </tr>\n  </tbody>\n</table>\n<p>2650 rows × 10 columns</p>\n</div>"
     },
     "execution_count": 35,
     "metadata": {},
     "output_type": "execute_result"
    }
   ],
   "source": [
    "def age(birthdate):\n",
    "    birthdate = datetime.strptime(birthdate, \"%Y-%m-%d\")\n",
    "    today = datetime.now()\n",
    "    return today.year - birthdate.year - ((today.month, today.day) < (birthdate.month, birthdate.day))\n",
    "\n",
    "def playerdata_postprocess(df):\n",
    "    columns = list(pd.read_csv(CSV_FILE).columns)\n",
    "    del columns[columns.index(\"TEAM\")]\n",
    "    df.dropna(inplace = True, subset = columns)\n",
    "    age_conversions = []\n",
    "    for date in df[\"AGE\"]:\n",
    "        try:\n",
    "            age_conversions.append(age(date))\n",
    "        except ValueError:\n",
    "            age_conversions.append(0)\n",
    "    df[\"AGE\"] = age_conversions\n",
    "    return df.sort_values([\"MAJOR APPEARANCES\"], ascending=False)\n",
    "\n",
    "playerdata_post = playerdata_postprocess(pd.read_csv(CSV_FILE))"
   ]
  },
  {
   "cell_type": "markdown",
   "metadata": {},
   "source": [
    "## UI Search Engine"
   ]
  },
  {
   "cell_type": "code",
   "execution_count": 34,
   "metadata": {
    "ExecuteTime": {
     "end_time": "2023-05-19T15:40:37.760616600Z",
     "start_time": "2023-05-19T15:40:37.740245800Z"
    }
   },
   "outputs": [
    {
     "data": {
      "text/plain": "interactive(children=(SelectMultiple(description='REGION', index=(0, 1, 2), options=('Europe', 'Americas', 'As…",
      "application/vnd.jupyter.widget-view+json": {
       "version_major": 2,
       "version_minor": 0,
       "model_id": "716bd3e0b7b6420eab0b891559f316af"
      }
     },
     "metadata": {},
     "output_type": "display_data"
    },
    {
     "data": {
      "text/plain": "<function __main__.ui_selector(sregion, sage, sweapon, smajors)>"
     },
     "execution_count": 34,
     "metadata": {},
     "output_type": "execute_result"
    }
   ],
   "source": [
    "def generate_selection(data, description):\n",
    "    unique_data = list(data.unique())\n",
    "    return widgets.SelectMultiple(\n",
    "        options=unique_data,\n",
    "        value=unique_data,\n",
    "        rows=len(unique_data),\n",
    "        description=description,\n",
    "        disabled=False)\n",
    "\n",
    "\n",
    "def generate_rangeslider(data, description):\n",
    "    return widgets.FloatRangeSlider(\n",
    "        value=[min(data), max(data)],\n",
    "        min=min(data),\n",
    "        max=max(data),\n",
    "        description=description,\n",
    "        step=1,\n",
    "        disabled=False,\n",
    "        continuous_update=False,\n",
    "        orientation='horizontal',\n",
    "        readout=True,\n",
    "        readout_format='1',\n",
    ")\n",
    "\n",
    "region_selector = generate_selection(playerdata_post[\"REGION\"], \"REGION\")\n",
    "age_slider = generate_rangeslider(playerdata_post[\"AGE\"], \"AGE\")\n",
    "weapon_selector = generate_selection(playerdata_post[\"WEAPON\"], \"WEAPON\")\n",
    "majors_slider = generate_rangeslider(playerdata_post[\"MAJOR APPEARANCES\"], \"MAJOR APPEARANCES\")\n",
    "\n",
    "def ui_selector(sregion, sage, sweapon, smajors):\n",
    "    return playerdata_post.loc[(playerdata_post[\"REGION\"].isin(sregion)) &\n",
    "                               (playerdata_post[\"AGE\"] >= sage[0]) &\n",
    "                               (playerdata_post[\"AGE\"] <= sage[1]) &\n",
    "                               (playerdata_post[\"WEAPON\"].isin(sweapon)) &\n",
    "                               (playerdata_post[\"MAJOR APPEARANCES\"] >= smajors[0]) &\n",
    "                               (playerdata_post[\"MAJOR APPEARANCES\"] <= smajors[1])\n",
    "                               ]\n",
    "    \n",
    "interact(ui_selector, sregion = region_selector, sage = age_slider, sweapon = weapon_selector, smajors = majors_slider)"
   ]
  },
  {
   "cell_type": "code",
   "execution_count": 42,
   "metadata": {
    "ExecuteTime": {
     "end_time": "2023-05-19T22:15:36.443823400Z",
     "start_time": "2023-05-19T22:15:29.198281300Z"
    }
   },
   "outputs": [
    {
     "name": "stderr",
     "output_type": "stream",
     "text": [
      "C:\\Users\\dverm\\AppData\\Local\\Temp\\ipykernel_13472\\352293243.py:13: DeprecationWarning: executable_path has been deprecated, please pass in a Service object\n",
      "  browser = webdriver.Chrome(executable_path=chromedriver_path, options=options)\n"
     ]
    },
    {
     "ename": "AttributeError",
     "evalue": "'WebDriver' object has no attribute 'find_element_by_xpath'",
     "output_type": "error",
     "traceback": [
      "\u001B[1;31m---------------------------------------------------------------------------\u001B[0m",
      "\u001B[1;31mAttributeError\u001B[0m                            Traceback (most recent call last)",
      "Cell \u001B[1;32mIn[42], line 18\u001B[0m\n\u001B[0;32m     16\u001B[0m browser\u001B[38;5;241m.\u001B[39mget(\u001B[38;5;124m\"\u001B[39m\u001B[38;5;124mhttps://blast.tv\u001B[39m\u001B[38;5;124m\"\u001B[39m)\n\u001B[0;32m     17\u001B[0m time\u001B[38;5;241m.\u001B[39msleep(\u001B[38;5;241m5\u001B[39m)\n\u001B[1;32m---> 18\u001B[0m \u001B[43mbrowser\u001B[49m\u001B[38;5;241;43m.\u001B[39;49m\u001B[43mfind_element_by_xpath\u001B[49m(\u001B[38;5;124m\"\u001B[39m\u001B[38;5;124m//button[@class=\u001B[39m\u001B[38;5;124m'\u001B[39m\u001B[38;5;124mcoi-consent-banner__agree-button\u001B[39m\u001B[38;5;124m'\u001B[39m\u001B[38;5;124m]\u001B[39m\u001B[38;5;124m\"\u001B[39m)\u001B[38;5;241m.\u001B[39mclick()\n\u001B[0;32m     19\u001B[0m time\u001B[38;5;241m.\u001B[39msleep(\u001B[38;5;241m1\u001B[39m)\n\u001B[0;32m     20\u001B[0m browser\u001B[38;5;241m.\u001B[39mget(\u001B[38;5;124m\"\u001B[39m\u001B[38;5;124mhttps://blast.tv/counter-strike\u001B[39m\u001B[38;5;124m\"\u001B[39m)\n",
      "\u001B[1;31mAttributeError\u001B[0m: 'WebDriver' object has no attribute 'find_element_by_xpath'"
     ]
    }
   ],
   "source": [
    "from selenium import webdriver\n",
    "\n",
    "# Configure ChromeOptions to remove webdriver flag and disable automation features\n",
    "options = webdriver.ChromeOptions()\n",
    "options.add_experimental_option(\"excludeSwitches\", [\"enable-automation\"])\n",
    "options.add_experimental_option('useAutomationExtension', False)\n",
    "options.add_argument('--disable-blink-features=AutomationControlled')\n",
    "\n",
    "# Provide the path to the ChromeDriver executable\n",
    "chromedriver_path = 'chromedriver.exe'\n",
    "\n",
    "# Open the Chrome browser with the specified options\n",
    "browser = webdriver.Chrome(executable_path=chromedriver_path, options=options)\n",
    "\n",
    "\n",
    "browser.get(\"https://blast.tv\")\n",
    "time.sleep(5)\n",
    "browser.find_element_by_xpath(\"//button[@class='coi-consent-banner__agree-button']\").click()\n",
    "time.sleep(1)\n",
    "browser.get(\"https://blast.tv/counter-strike\")\n",
    "search_bar = browser.find_element_by_xpath(\"//input[@id='player-search']\")\n",
    "search_bar.send_keys(\"-\")\n",
    "time.sleep(1)\n",
    "\n",
    "# Locate the autocomplete suggestion elements\n",
    "suggestions = browser.find_elements_by_xpath(\"//ul[@id='player-search-autocomplete']/li\")\n",
    "print(suggestions)\n",
    "# Close the browser instance\n",
    "browser.quit()"
   ]
  },
  {
   "cell_type": "code",
   "execution_count": 19,
   "outputs": [],
   "source": [
    "import time\n",
    "from selenium import webdriver\n",
    "from selenium.webdriver.common.by import By\n",
    "from selenium.webdriver.support.ui import WebDriverWait\n",
    "from selenium.webdriver.support import expected_conditions as EC\n",
    "\n",
    "# Configure ChromeOptions to remove webdriver flag and disable automation features\n",
    "options = webdriver.ChromeOptions()\n",
    "options.add_experimental_option(\"excludeSwitches\", [\"enable-automation\"])\n",
    "options.add_experimental_option('useAutomationExtension', False)\n",
    "options.add_argument('--disable-blink-features=AutomationControlled')\n",
    "\n",
    "browser = webdriver.Chrome(options=options)\n",
    "browser.get(\"https://blast.tv/counter-strikle\")\n",
    "\n",
    "cookies_button = WebDriverWait(browser, 10).until(EC.element_to_be_clickable((By.XPATH, \"//button[@class='coi-consent-banner__agree-button']\")))\n",
    "cookies_button.click()\n",
    "\n",
    "rules_button = WebDriverWait(browser, 10).until(EC.element_to_be_clickable((By.XPATH, \"//button[@class='styled__StyledButton-sc-y8jf4t-0 eccxcB']\")))\n",
    "rules_button.click()\n",
    "\n",
    "search_bar = WebDriverWait(browser, 10).until(EC.element_to_be_clickable((By.XPATH, \"//input[@class='styled__SearchBoxInput-sc-1uwunev-2 uWYFV']\")))\n",
    "search_bar.send_keys('b')\n",
    "time.sleep(2)\n",
    "autocomplete_results = browser.find_elements(By.XPATH, \"//div[contains(@class, 'styled__SearchResultRow-sc-1uwunev-4')]\")\n",
    "autocomplete_texts = [result.text for result in autocomplete_results]"
   ],
   "metadata": {
    "collapsed": false,
    "ExecuteTime": {
     "end_time": "2023-05-25T21:54:19.678999400Z",
     "start_time": "2023-05-25T21:54:11.307292800Z"
    }
   }
  },
  {
   "cell_type": "code",
   "execution_count": 16,
   "outputs": [
    {
     "name": "stdout",
     "output_type": "stream",
     "text": [
      "31 ['Boombl4 - Kirill Mikhailov', 'b1t - Valeriy Vakhovskiy', 'byali - Paweł Bieliński', 'Brehze - Vincent Cayonte', 'buster - Timur Tulepov', 'boltz - Ricardo Prass', 'broky - Helvijs Saukants', 'bodyy - Alexandre Pianaro', 'Bubzkji - Lucas Andersen', 'Brollan - Ludvig Brolin', 'bubble - Kamen Kostadinov', 'blameF - Benjamin Bremer', 'BnTeT - Hansel Ferdinand', 'b0RUP - Johannes Borup', 'bondik - Vladyslav Nechyporchuk', 'blocker - Yanko Panov', 'Bymas - Aurimas Pipiras', 'BLACKEAGLE - Moustafa Baghdadi', 'B1ad3 - Andrey Gorodenskiy', 'ben1337 - Ben Smith', 'BARBARR - André Möller', 'BIT - Bruno Fukuda Lima', 'bottle - Lei Mao', 'beastik - Sebastian Daňo', 'birdfromsky - Thomas Due-Frederiksen', 'Benkai - Benedict Tan', 'b4rtiN - Bruno Câmara', 'boX - Anton Burko', 'biguzera - Rodrigo Bittencourt', 'Bååten - Linus Andersson', 'brnz4n - Breno Poletto']\n"
     ]
    }
   ],
   "source": [
    "print(len(autocomplete_texts), autocomplete_texts)"
   ],
   "metadata": {
    "collapsed": false,
    "ExecuteTime": {
     "end_time": "2023-05-25T21:42:41.428039400Z",
     "start_time": "2023-05-25T21:42:41.422522700Z"
    }
   }
  },
  {
   "cell_type": "code",
   "execution_count": null,
   "outputs": [],
   "source": [],
   "metadata": {
    "collapsed": false
   }
  }
 ],
 "metadata": {
  "kernelspec": {
   "display_name": "Python 3 (ipykernel)",
   "language": "python",
   "name": "python3"
  },
  "language_info": {
   "codemirror_mode": {
    "name": "ipython",
    "version": 3
   },
   "file_extension": ".py",
   "mimetype": "text/x-python",
   "name": "python",
   "nbconvert_exporter": "python",
   "pygments_lexer": "ipython3",
   "version": "3.9.12"
  }
 },
 "nbformat": 4,
 "nbformat_minor": 4
}
