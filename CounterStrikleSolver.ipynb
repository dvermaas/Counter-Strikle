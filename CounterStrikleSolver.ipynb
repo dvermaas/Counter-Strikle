{
 "cells": [
  {
   "cell_type": "markdown",
   "metadata": {},
   "source": [
    "# Counter Strikle Webscraper"
   ]
  },
  {
   "cell_type": "markdown",
   "metadata": {},
   "source": [
    "# Notebook Description"
   ]
  },
  {
   "cell_type": "markdown",
   "metadata": {},
   "source": [
    "__Author:__ Daniël Vermaas"
   ]
  },
  {
   "cell_type": "markdown",
   "metadata": {},
   "source": [
    "This notebook scrapes liquidpedia (https://liquipedia.net/counterstrike/Main_Page), in order to make counter strikle (https://blast.tv/counter-strikle) puzzle-solving easier. Before using the notebook, please read the Liquidpedia ToS about API usage: https://liquipedia.net/api-terms-of-use."
   ]
  },
  {
   "cell_type": "markdown",
   "metadata": {},
   "source": [
    "# Libraries & Constants"
   ]
  },
  {
   "cell_type": "code",
   "execution_count": 58,
   "metadata": {},
   "outputs": [],
   "source": [
    "import os\n",
    "import csv\n",
    "import time\n",
    "from time import sleep\n",
    "from bs4 import BeautifulSoup\n",
    "from datetime import datetime\n",
    "\n",
    "import numpy as np\n",
    "import pandas as pd\n",
    "from tqdm.notebook import tqdm\n",
    "import requests\n",
    "#from urllib.request import quote\n",
    "\n",
    "#!jupyter nbextension enable --py widgetsnbextension\n",
    "import ipywidgets as widgets\n",
    "from ipywidgets import interact"
   ]
  },
  {
   "cell_type": "code",
   "execution_count": 59,
   "metadata": {},
   "outputs": [],
   "source": [
    "HEADERS = {\"User-Agent\": \"Counter-Strikle-Bot\",\"Accept-Encoding\": \"gzip\"}\n",
    "BASE_URL = \"https://liquipedia.net/counterstrike/api.php?\"\n",
    "REGIONS = {\"Europe\" : [\"Europe\", \"CIS\"], \"Americas\" : [\"Americas\"],\n",
    "           \"Asia-Pacific\" : [\"Oceania\", \"Eastern_%26_Southern_Asia\"]}\n",
    "CSV_FILE = \"players.csv\"\n",
    "COLUMNS = [\"NAME\", \"REAL NAME\", \"REGION\", \"NATIONALITY\", \"TEAM\", \"AGE\", \"WEAPON\", \n",
    "           \"MAJOR APPEARANCES\", \"EARNINGS\", \"LAST UPDATED\"]\n",
    "MISLABELS = [\"Kazakhstan\", \"Turkey\"]"
   ]
  },
  {
   "cell_type": "markdown",
   "metadata": {},
   "source": [
    "# API Calls"
   ]
  },
  {
   "cell_type": "code",
   "execution_count": 3,
   "metadata": {},
   "outputs": [],
   "source": [
    "# API call function\n",
    "def fetch_page(page):\n",
    "    url = BASE_URL +\"action=parse&format=json&page=\" + page\n",
    "    response = requests.get(url, HEADERS)\n",
    "    page_html = response.json()['parse']['text']['*']\n",
    "    soup = BeautifulSoup(page_html,features=\"lxml\")\n",
    "    time.sleep(50)\n",
    "    return soup\n",
    "\n",
    "# Fetches list of all majors\n",
    "def fetch_majors():\n",
    "    soup = fetch_page(\"Majors\")\n",
    "    event_elements = soup.find_all(\"div\", {\"class\": \"divRow tournament-card-premier\"})\n",
    "    return [event.find(\"b\").find(\"a\")[\"href\"] for event in event_elements]\n",
    "\n",
    "# Fetches all player ids/subdirectories for a given region\n",
    "def fetch_ids(region):\n",
    "    page = fetch_page(\"Portal:Players/\" + region)\n",
    "    elements = [item.find_all(\"a\")[1] for item in page.find_all(\"td\")]\n",
    "    name_dict = [element[\"title\"].replace(\" \",\"_\") for element in elements]\n",
    "    return name_dict"
   ]
  },
  {
   "cell_type": "markdown",
   "metadata": {},
   "source": [
    "# Player-Specific Information"
   ]
  },
  {
   "cell_type": "code",
   "execution_count": 64,
   "metadata": {},
   "outputs": [
    {
     "name": "stdout",
     "output_type": "stream",
     "text": [
      "{'Name': 'İsmailсan Dörtkardeş', 'Nationality': '\\xa0Turkey\\xa0North Macedonia', 'Born': 'August  7, 1995 (age\\xa027)', 'Status': 'Active', 'Years Active (Player)': '2012 – Present', 'Role': 'Rifler', 'Team': 'Eternal Fire', 'Approx. Total Winnings': '$400,962', 'Games': 'Global Offensive'}\n"
     ]
    },
    {
     "data": {
      "text/plain": [
       "{'NAME': 'XANTARES',\n",
       " 'REGION': 'Europe',\n",
       " 'REAL NAME': 'İsmailсan Dörtkardeş',\n",
       " 'NATIONALITY': 'Turkey',\n",
       " 'TEAM': 'Eternal Fire',\n",
       " 'AGE': '07/08/1995',\n",
       " 'WEAPON': 'AK47',\n",
       " 'MAJOR APPEARANCES': 4,\n",
       " 'EARNINGS': 400962,\n",
       " 'LAST UPDATED': '18/10/2022'}"
      ]
     },
     "execution_count": 64,
     "metadata": {},
     "output_type": "execute_result"
    }
   ],
   "source": [
    "def fetch_player(player_name, region, major_list, debug=False):\n",
    "    # pull player profile\n",
    "    soup = fetch_page(player_name)\n",
    "    output_dict = dict()\n",
    "    \n",
    "    # parse player information\n",
    "    info_list = soup.find_all(\"div\", {\"class\": \"infobox-cell-2\"})\n",
    "    info_dict = {info_list[i].text[:-1] : info_list[i+1].text for i in range(0, len(info_list),2)}\n",
    "    if debug:\n",
    "        print(info_dict)\n",
    "    # add name to dict\n",
    "    output_dict[\"NAME\"] = player_name\n",
    "    output_dict[\"REGION\"] = region\n",
    "    \n",
    "    # replace name with romanised name if needed\n",
    "    if \"Romanized Name\" in info_dict:\n",
    "        output_dict[\"REAL NAME\"] = info_dict[\"Romanized Name\"]\n",
    "    else:\n",
    "        output_dict[\"REAL NAME\"] = info_dict[\"Name\"]\n",
    "    \n",
    "    # get nationality\n",
    "    if \"Nationality\" in info_dict:\n",
    "        output_dict[\"NATIONALITY\"] = info_dict[\"Nationality\"][1:].split(\"\\xa0\")[0]\n",
    "    \n",
    "    # get team\n",
    "    if \"Team\"  in info_dict:\n",
    "        output_dict[\"TEAM\"] = info_dict[\"Team\"]\n",
    "    \n",
    "    # Get age\n",
    "    if \"Born\" in info_dict:\n",
    "        try:\n",
    "            output_dict[\"AGE\"] = datetime.strptime(info_dict[\"Born\"][:-9].replace(\",\", \"\"), \"%B %d %Y\").strftime(\"%d/%m/%Y\")\n",
    "        except:\n",
    "            pass\n",
    "    \n",
    "    # Get role\n",
    "    role_description = None\n",
    "    if \"Role\" in info_dict:\n",
    "        role_description = info_dict[\"Role\"]\n",
    "    elif \"Roles\" in info_dict:\n",
    "        role_description = info_dict[\"Roles\"]\n",
    "    \n",
    "    if weapon_description != None:\n",
    "        if \"AWPer\" in weapon_description:\n",
    "            output_dict[\"WEAPON\"] = \"AWP\"\n",
    "        elif \"Rifler\" in weapon_description:\n",
    "            output_dict[\"WEAPON\"] = \"AK47\"\n",
    "            \n",
    "            \n",
    "    # Get major appearances\n",
    "    try:\n",
    "        soup = fetch_page(player_name + \"/Results\")\n",
    "        event_elements = soup.find_all(\"tr\", {\"class\": \"valvemajor-highlighted\"})\n",
    "        event_name_list = [event.find(\"td\", {\"style\": \"text-align:left\"}).find(\"a\")[\"href\"] for event in event_elements]\n",
    "        event_name_list = [event for event in event_name_list if event in major_list]\n",
    "        output_dict[\"MAJOR APPEARANCES\"] = len(event_name_list)\n",
    "    except:\n",
    "        output_dict[\"MAJOR APPEARANCES\"] = 0\n",
    "    \n",
    "    if \"Approx. Total Winnings\" in info_dict:\n",
    "        output_dict[\"EARNINGS\"] = int(info_dict[\"Approx. Total Winnings\"].replace(\",\", \"\").replace(\"$\", \"\"))\n",
    "    else:\n",
    "        output_dict[\"EARNINGS\"] = 0\n",
    "    \n",
    "    output_dict[\"LAST UPDATED\"] = datetime.now().strftime(\"%d/%m/%Y\")\n",
    "    return output_dict\n",
    "    \n",
    "#fetch_player(\"MingSir\", \"Eastern_%26_Southern_Asia\", fetch_majors(), debug=True)\n",
    "#fetch_player(\"AntO_oNNN\", \"CIS\", fetch_majors(), debug=True)\n",
    "fetch_player(\"XANTARES\", \"Europe\", fetch_majors(), debug=True)"
   ]
  },
  {
   "cell_type": "code",
   "execution_count": 5,
   "metadata": {},
   "outputs": [],
   "source": [
    "def build_df():\n",
    "    # Get dataframe to werite to\n",
    "    if os.path.exists(CSV_FILE):\n",
    "        playerdata = pd.read_csv(CSV_FILE)\n",
    "    else:\n",
    "        playerdata = pd.DataFrame(columns=COLUMNS)\n",
    "        \n",
    "    # Get list of all mayors\n",
    "    major_list = fetch_majors()\n",
    "\n",
    "    try:\n",
    "        for major_region, sub_regions in tqdm(REGIONS.items()):\n",
    "            for sub_region in tqdm(sub_regions, leave=False):\n",
    "                region_ids = fetch_ids(sub_region)[:1]\n",
    "                for player in tqdm(region_ids, leave=False):\n",
    "                    if not (playerdata[\"NAME\"].eq(player)).any():\n",
    "                        row_data = fetch_player(player, major_region, major_list)\n",
    "                        playerdata = pd.concat([playerdata, pd.DataFrame.from_records([row_data])], ignore_index=True)\n",
    "    except Exception as e:\n",
    "        print(\"Error:\", e)\n",
    "    \n",
    "    playerdata.to_csv(CSV_FILE, index=False)\n",
    "    return\n",
    "\n",
    "#build_df()"
   ]
  },
  {
   "cell_type": "code",
   "execution_count": 67,
   "metadata": {},
   "outputs": [],
   "source": [
    "def age(birthdate):\n",
    "    birthdate = datetime.strptime(birthdate, \"%d/%m/%Y\")\n",
    "    today = datetime.now()\n",
    "    age = today.year - birthdate.year - ((today.month, today.day) < (birthdate.month, birthdate.day))\n",
    "    return age\n",
    "\n",
    "def playerdata_postprocess(df):\n",
    "    columns = list(pd.read_csv(CSV_FILE).columns)\n",
    "    del columns[columns.index(\"TEAM\")]\n",
    "    df.dropna(inplace = True, subset = columns)\n",
    "    df.sort_values(by=[\"EARNINGS\"], ascending = False, inplace = True)\n",
    "    df[\"AGE\"] = [age(date) for date in df[\"AGE\"]]\n",
    "    df[\"REGION\"] = np.where(df[\"NATIONALITY\"].isin(MISLABELS), \"Europe\", df[\"REGION\"])\n",
    "    return df\n",
    "\n",
    "playerdata_post = playerdata_postprocess(pd.read_csv(CSV_FILE))"
   ]
  },
  {
   "cell_type": "code",
   "execution_count": 69,
   "metadata": {},
   "outputs": [
    {
     "data": {
      "application/vnd.jupyter.widget-view+json": {
       "model_id": "95bbccf207814af5a1a0f94dd7322a02",
       "version_major": 2,
       "version_minor": 0
      },
      "text/plain": [
       "interactive(children=(SelectMultiple(description='REGION', index=(2,), options=('Europe', 'Americas', 'Asia-Pa…"
      ]
     },
     "metadata": {},
     "output_type": "display_data"
    },
    {
     "data": {
      "text/plain": [
       "<function __main__.f(sregion, sage, sweapon, smajors)>"
      ]
     },
     "execution_count": 69,
     "metadata": {},
     "output_type": "execute_result"
    }
   ],
   "source": [
    "def f(sregion, sage, sweapon, smajors):\n",
    "    print(\"Region:\", sregion, \"\\n\",\n",
    "          \"Age:\", sage, \"\\n\",\n",
    "          \"Weapon:\", sweapon, \"\\n\",\n",
    "          \"Majors\", smajors, \"\\n\")\n",
    "    return playerdata_post.loc[(playerdata_post[\"REGION\"].isin(sregion)) &\n",
    "                               (playerdata_post[\"AGE\"] >= sage[0]) &\n",
    "                               (playerdata_post[\"AGE\"] <= sage[1]) &\n",
    "                               (playerdata_post[\"WEAPON\"].isin(sweapon)) &\n",
    "                               (playerdata_post[\"MAJOR APPEARANCES\"] >= smajors[0]) &\n",
    "                               (playerdata_post[\"MAJOR APPEARANCES\"] <= smajors[1])\n",
    "                               ]\n",
    "    \n",
    "interact(f, sregion = region_slide, sage = age_slider, sweapon = weapon_slide, smajors = majors_slider)"
   ]
  },
  {
   "cell_type": "code",
   "execution_count": null,
   "metadata": {},
   "outputs": [],
   "source": []
  }
 ],
 "metadata": {
  "kernelspec": {
   "display_name": "Python 3 (ipykernel)",
   "language": "python",
   "name": "python3"
  },
  "language_info": {
   "codemirror_mode": {
    "name": "ipython",
    "version": 3
   },
   "file_extension": ".py",
   "mimetype": "text/x-python",
   "name": "python",
   "nbconvert_exporter": "python",
   "pygments_lexer": "ipython3",
   "version": "3.9.12"
  }
 },
 "nbformat": 4,
 "nbformat_minor": 4
}
