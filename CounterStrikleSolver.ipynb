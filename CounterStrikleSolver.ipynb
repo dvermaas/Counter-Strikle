{
 "cells": [
  {
   "cell_type": "markdown",
   "metadata": {},
   "source": [
    "# Counter Strikle Webscraper"
   ]
  },
  {
   "cell_type": "markdown",
   "metadata": {},
   "source": [
    "## Notebook Description"
   ]
  },
  {
   "cell_type": "markdown",
   "metadata": {},
   "source": [
    "__Author:__ Daniël Vermaas"
   ]
  },
  {
   "cell_type": "markdown",
   "metadata": {},
   "source": [
    "This notebook scrapes liquidpedia (https://liquipedia.net/counterstrike/Main_Page), in order to make counter strikle (https://blast.tv/counter-strikle) puzzle-solving easier. Before using the notebook, please read the Liquidpedia ToS about API usage: https://liquipedia.net/api-terms-of-use."
   ]
  },
  {
   "cell_type": "markdown",
   "metadata": {},
   "source": [
    "## Libraries & Constants"
   ]
  },
  {
   "cell_type": "code",
   "execution_count": 3,
   "outputs": [],
   "source": [
    "import os\n",
    "import time\n",
    "import lxml\n",
    "from bs4 import BeautifulSoup\n",
    "from datetime import datetime\n",
    "import json\n",
    "import mwparserfromhell\n",
    "\n",
    "import numpy as np\n",
    "import pandas as pd\n",
    "from tqdm.notebook import tqdm\n",
    "import requests\n",
    "\n",
    "import ipywidgets as widgets\n",
    "from ipywidgets import interact"
   ],
   "metadata": {
    "collapsed": false,
    "ExecuteTime": {
     "end_time": "2023-05-18T22:57:54.151858300Z",
     "start_time": "2023-05-18T22:57:52.854885800Z"
    }
   }
  },
  {
   "cell_type": "code",
   "execution_count": 4,
   "outputs": [],
   "source": [
    "HEADERS = {\"User-Agent\": \"Counter-Strikle-Bot\",\"Accept-Encoding\": \"gzip\"}\n",
    "BASE_URL = \"https://liquipedia.net/counterstrike/api.php?\"\n",
    "QUERY_COOLDOWN = 4\n",
    "CSV_FILE = \"players.csv\"\n",
    "REGIONS = {\n",
    "    \"Europe\" : [\"Europe\", \"CIS\"],\n",
    "    \"Americas\" : [\"North America\", \"South America\"],\n",
    "    \"Asia-Pacific\" : [\"Oceania\", \"Asia\"],\n",
    "}\n",
    "COLUMNS = [\n",
    "    \"NAME\",\n",
    "    \"REAL NAME\",\n",
    "    \"REGION\",\n",
    "    \"NATIONALITY\",\n",
    "    \"TEAM\",\n",
    "    \"AGE\",\n",
    "    \"WEAPON\",\n",
    "    \"MAJOR APPEARANCES\",\n",
    "    \"EARNINGS\",\n",
    "    \"LAST UPDATED\"\n",
    "]"
   ],
   "metadata": {
    "collapsed": false,
    "ExecuteTime": {
     "end_time": "2023-05-18T22:57:54.160551500Z",
     "start_time": "2023-05-18T22:57:54.152859900Z"
    }
   }
  },
  {
   "cell_type": "markdown",
   "metadata": {},
   "source": [
    "## MediaWiki API requests"
   ]
  },
  {
   "cell_type": "code",
   "execution_count": 5,
   "outputs": [],
   "source": [
    "# API call function\n",
    "def fetch_page(page, cooldown=0):\n",
    "    url =  f\"{BASE_URL}action=parse&format=json&page={page}\"\n",
    "    response = requests.get(url, HEADERS)\n",
    "    page_html = response.json()['parse']['text']['*']\n",
    "    soup = BeautifulSoup(page_html,features=\"lxml\")\n",
    "    time.sleep(cooldown)\n",
    "    return soup\n",
    "\n",
    "def query_page(page, rvsection, cooldown=QUERY_COOLDOWN):\n",
    "    params = {\n",
    "        \"action\": \"query\",\n",
    "        \"format\": \"json\",\n",
    "        \"prop\": \"revisions\",\n",
    "        \"titles\": page,\n",
    "        \"rvprop\": \"content\",\n",
    "        \"rvslots\": \"*\",\n",
    "        \"rvsection\": rvsection,\n",
    "    }\n",
    "    response = requests.get(BASE_URL, params=params)\n",
    "    data = response.json()\n",
    "    pages = data[\"query\"][\"pages\"]\n",
    "    page_id = next(iter(pages))\n",
    "    page = pages[page_id]\n",
    "    wikicode = mwparserfromhell.parse(page[\"revisions\"][0][\"slots\"][\"main\"][\"*\"])\n",
    "    time.sleep(cooldown)\n",
    "    return wikicode"
   ],
   "metadata": {
    "collapsed": false,
    "ExecuteTime": {
     "end_time": "2023-05-18T22:57:57.044817700Z",
     "start_time": "2023-05-18T22:57:57.020678800Z"
    }
   }
  },
  {
   "cell_type": "markdown",
   "source": [
    "## Generate Country to Region Map"
   ],
   "metadata": {
    "collapsed": false
   }
  },
  {
   "cell_type": "code",
   "execution_count": 12,
   "outputs": [],
   "source": [
    "def build_region_dict():\n",
    "    country_region_dict = {}\n",
    "    with open(\"regions.json\", \"r\") as file:\n",
    "        region_dict = json.load(file)\n",
    "    for region, countries in region_dict.items():\n",
    "            for country in countries:\n",
    "                country_region_dict[country] = region\n",
    "    return country_region_dict\n",
    "\n",
    "REGION_DICT = build_region_dict()"
   ],
   "metadata": {
    "collapsed": false,
    "ExecuteTime": {
     "end_time": "2023-05-18T23:04:13.779957200Z",
     "start_time": "2023-05-18T23:04:13.769728600Z"
    }
   }
  },
  {
   "cell_type": "code",
   "execution_count": 13,
   "metadata": {
    "ExecuteTime": {
     "end_time": "2023-05-18T23:04:31.396494100Z",
     "start_time": "2023-05-18T23:04:26.045098500Z"
    }
   },
   "outputs": [],
   "source": [
    "# Fetches list of all concluded majors (checks hltv awards) \n",
    "def fetch_majors():\n",
    "    wikicode = query_page(\"Majors\", 8)\n",
    "    links = wikicode.filter_wikilinks()\n",
    "    links = [link.split('|')[0].replace('[[', '') for link in links]\n",
    "    return links\n",
    "\n",
    "MAJOR_LIST = fetch_majors()"
   ]
  },
  {
   "cell_type": "code",
   "execution_count": 11,
   "metadata": {
    "ExecuteTime": {
     "end_time": "2023-05-18T23:03:30.352713600Z",
     "start_time": "2023-05-18T23:02:55.769898300Z"
    }
   },
   "outputs": [
    {
     "data": {
      "text/plain": "{'id': 'ropz',\n 'image': 'Ropz at Antwerp Major EU RMR.jpg',\n 'name': 'Robin Kool',\n 'birth_date': '1999-12-22',\n 'country': 'Estonia',\n 'status': 'Active',\n 'years_active': '2015 – Present',\n 'team': 'FaZe Clan',\n 'role': 'lurk',\n 'csgo': 'y',\n 'twitter': 'ropz',\n 'facebook': 'ropzicle',\n 'instagram': 'ropzicle',\n 'youtube': 'c/Ropz',\n 'twitch': 'ropz',\n 'esea': '1042223',\n 'faceit': 'ropz',\n 'steam': '76561197991272318',\n 'team_history': ''}"
     },
     "execution_count": 11,
     "metadata": {},
     "output_type": "execute_result"
    }
   ],
   "source": [
    "# Fetches all player data and puts it in dict\n",
    "def fetch_player_dict(player_id):\n",
    "    wikicode = query_page(player_id, 0)\n",
    "    infobox = wikicode.filter_templates(matches=\"Infobox player\")[0]\n",
    "    infobox_dict = {}\n",
    "    for param in infobox.params:\n",
    "        value = mwparserfromhell.parse(param.value.strip_code()).strip()\n",
    "        infobox_dict[param.name.strip()] = str(value)\n",
    "    return infobox_dict\n",
    "\n",
    "# Fetches all player ids\n",
    "def fetch_players():\n",
    "    url = f\"{BASE_URL}action=query&list=categorymembers&cmtitle=Category:Players&cmlimit=max&format=json\"\n",
    "    results = []\n",
    "\n",
    "    while True:\n",
    "        response = requests.get(url)\n",
    "        time.sleep(QUERY_COOLDOWN)\n",
    "        data = json.loads(response.text)\n",
    "        pages = data[\"query\"][\"categorymembers\"]\n",
    "        results.extend(pages)\n",
    "\n",
    "        if \"continue\" not in data:\n",
    "            break\n",
    "\n",
    "        cont = data[\"continue\"]\n",
    "        cmcontinue = cont[\"cmcontinue\"]\n",
    "        url = f\"{url}&cmcontinue={cmcontinue}\"\n",
    "    results = [row[\"title\"] for row in results]\n",
    "    return results\n",
    "\n",
    "PLAYER_LIST = fetch_players()\n",
    "fetch_player_dict(\"ropz\")"
   ]
  },
  {
   "cell_type": "code",
   "execution_count": 14,
   "metadata": {
    "pycharm": {
     "is_executing": true
    },
    "ExecuteTime": {
     "end_time": "2023-05-18T23:04:58.309246600Z",
     "start_time": "2023-05-18T23:04:53.970889600Z"
    }
   },
   "outputs": [],
   "source": [
    "def fetch_major_players():\n",
    "    # load majors from json\n",
    "    file_name = \"majors.json\"\n",
    "    with open(file_name, \"r\") as file:\n",
    "        major_dict = json.load(file)\n",
    "\n",
    "    # check for new majors\n",
    "    for major in fetch_majors():\n",
    "        if major in major_dict:\n",
    "            continue\n",
    "        wikicode = query_page(major, \"5\")\n",
    "        teams_dict = {}\n",
    "        for template in wikicode.filter_templates(matches=r\"\\bTeamCard\\b\"):\n",
    "            if template.name.strip() == \"TeamCard\":\n",
    "                # skip showmatches\n",
    "                if not template.has(\"qualifier\"):\n",
    "                    continue\n",
    "                if not template.has(\"p1\"):\n",
    "                    continue\n",
    "                team = template.get(\"team\").value.strip()\n",
    "                players = [template.get(f\"p{i}\").value.strip() for i in range(1, 6)]\n",
    "                teams_dict[team] = players\n",
    "        major_dict[major] = teams_dict\n",
    "\n",
    "    # save majors to json\n",
    "    with open(file_name, \"w\") as file:\n",
    "        json.dump(major_dict, file, indent=2)\n",
    "\n",
    "    # invert dict\n",
    "    major_players = {}\n",
    "    for major,team in major_dict.items():\n",
    "        for team, players in team.items():\n",
    "            for player in players:\n",
    "                if player not in major_players:\n",
    "                    major_players[player] = 0\n",
    "                major_players[player] += 1\n",
    "\n",
    "    return major_players\n",
    "\n",
    "MAJOR_PLAYERS = fetch_major_players()"
   ]
  },
  {
   "cell_type": "markdown",
   "metadata": {},
   "source": [
    "## Player-Specific Information"
   ]
  },
  {
   "cell_type": "code",
   "execution_count": 15,
   "metadata": {
    "ExecuteTime": {
     "end_time": "2023-05-18T23:05:09.961847500Z",
     "start_time": "2023-05-18T23:05:05.641615900Z"
    }
   },
   "outputs": [
    {
     "data": {
      "text/plain": "{'NAME': 's1mple',\n 'REGION': 'Ukraine',\n 'REAL NAME': 'Oleksandr Oleghovych Kostyljev',\n 'NATIONALITY': 'Ukraine',\n 'TEAM': 'Natus Vincere',\n 'AGE': '1997-10-02',\n 'WEAPON': 'AWP',\n 'MAJOR APPEARANCES': 11,\n 'LAST UPDATED': '2023-05-19'}"
     },
     "execution_count": 15,
     "metadata": {},
     "output_type": "execute_result"
    }
   ],
   "source": [
    "def fetch_player(player_id, major_list):\n",
    "    # parse player information\n",
    "    info_dict = fetch_player_dict(player_id)\n",
    "    \n",
    "    # add name to dict\n",
    "    output_dict = dict()\n",
    "    output_dict[\"NAME\"] = info_dict.get(\"id\")\n",
    "    output_dict[\"REGION\"] = info_dict.get(\"country\")\n",
    "    output_dict[\"REAL NAME\"] = info_dict.get(\"romanized_name\", info_dict.get(\"name\"))\n",
    "    output_dict[\"NATIONALITY\"] = info_dict.get(\"country\")\n",
    "    output_dict[\"TEAM\"] = info_dict.get(\"team\")\n",
    "    output_dict[\"AGE\"] = info_dict.get(\"birth_date\")\n",
    "    roles = [info_dict.get(\"role\"), info_dict.get(\"role2\")]\n",
    "    if \"awp\" in roles:\n",
    "        output_dict[\"WEAPON\"] = \"AWP\"\n",
    "    else:\n",
    "        output_dict[\"WEAPON\"] = \"AK47\"\n",
    "    output_dict[\"MAJOR APPEARANCES\"] = MAJOR_PLAYERS.get(info_dict.get(\"id\"), 0)\n",
    "    output_dict[\"LAST UPDATED\"] = datetime.now().strftime(\"%Y-%m-%d\")\n",
    "    return output_dict\n",
    "\n",
    "fetch_player(\"S1mple\", MAJOR_LIST)"
   ]
  },
  {
   "cell_type": "markdown",
   "metadata": {},
   "source": [
    "## Generate CSV"
   ]
  },
  {
   "cell_type": "code",
   "execution_count": 16,
   "metadata": {
    "ExecuteTime": {
     "end_time": "2023-05-18T23:07:10.827395100Z",
     "start_time": "2023-05-18T23:05:13.927713800Z"
    }
   },
   "outputs": [
    {
     "data": {
      "text/plain": "  0%|          | 0/3165 [00:00<?, ?it/s]",
      "application/vnd.jupyter.widget-view+json": {
       "version_major": 2,
       "version_minor": 0,
       "model_id": "8570c6ef568f45258c13b309439d7c2f"
      }
     },
     "metadata": {},
     "output_type": "display_data"
    },
    {
     "ename": "KeyboardInterrupt",
     "evalue": "",
     "output_type": "error",
     "traceback": [
      "\u001B[1;31m---------------------------------------------------------------------------\u001B[0m",
      "\u001B[1;31mKeyboardInterrupt\u001B[0m                         Traceback (most recent call last)",
      "Cell \u001B[1;32mIn[16], line 18\u001B[0m\n\u001B[0;32m     14\u001B[0m         \u001B[38;5;28mprint\u001B[39m(\u001B[38;5;124m\"\u001B[39m\u001B[38;5;124mError:\u001B[39m\u001B[38;5;124m\"\u001B[39m, e)\n\u001B[0;32m     16\u001B[0m     playerdata\u001B[38;5;241m.\u001B[39mto_csv(CSV_FILE, index\u001B[38;5;241m=\u001B[39m\u001B[38;5;28;01mFalse\u001B[39;00m)\n\u001B[1;32m---> 18\u001B[0m \u001B[43mbuild_df\u001B[49m\u001B[43m(\u001B[49m\u001B[43m)\u001B[49m\n",
      "Cell \u001B[1;32mIn[16], line 11\u001B[0m, in \u001B[0;36mbuild_df\u001B[1;34m()\u001B[0m\n\u001B[0;32m      9\u001B[0m     \u001B[38;5;28;01mfor\u001B[39;00m player \u001B[38;5;129;01min\u001B[39;00m tqdm(PLAYER_LIST, leave\u001B[38;5;241m=\u001B[39m\u001B[38;5;28;01mFalse\u001B[39;00m):\n\u001B[0;32m     10\u001B[0m         \u001B[38;5;28;01mif\u001B[39;00m \u001B[38;5;129;01mnot\u001B[39;00m (playerdata[\u001B[38;5;124m\"\u001B[39m\u001B[38;5;124mNAME\u001B[39m\u001B[38;5;124m\"\u001B[39m]\u001B[38;5;241m.\u001B[39meq(player))\u001B[38;5;241m.\u001B[39many():\n\u001B[1;32m---> 11\u001B[0m             row_data \u001B[38;5;241m=\u001B[39m \u001B[43mfetch_player\u001B[49m\u001B[43m(\u001B[49m\u001B[43mplayer\u001B[49m\u001B[43m,\u001B[49m\u001B[43m \u001B[49m\u001B[43mMAJOR_LIST\u001B[49m\u001B[43m)\u001B[49m\n\u001B[0;32m     12\u001B[0m             playerdata \u001B[38;5;241m=\u001B[39m pd\u001B[38;5;241m.\u001B[39mconcat([playerdata, pd\u001B[38;5;241m.\u001B[39mDataFrame\u001B[38;5;241m.\u001B[39mfrom_records([row_data])], ignore_index\u001B[38;5;241m=\u001B[39m\u001B[38;5;28;01mTrue\u001B[39;00m)\n\u001B[0;32m     13\u001B[0m \u001B[38;5;28;01mexcept\u001B[39;00m \u001B[38;5;167;01mException\u001B[39;00m \u001B[38;5;28;01mas\u001B[39;00m e:\n",
      "Cell \u001B[1;32mIn[15], line 3\u001B[0m, in \u001B[0;36mfetch_player\u001B[1;34m(player_id, major_list)\u001B[0m\n\u001B[0;32m      1\u001B[0m \u001B[38;5;28;01mdef\u001B[39;00m \u001B[38;5;21mfetch_player\u001B[39m(player_id, major_list):\n\u001B[0;32m      2\u001B[0m     \u001B[38;5;66;03m# parse player information\u001B[39;00m\n\u001B[1;32m----> 3\u001B[0m     info_dict \u001B[38;5;241m=\u001B[39m \u001B[43mfetch_player_dict\u001B[49m\u001B[43m(\u001B[49m\u001B[43mplayer_id\u001B[49m\u001B[43m)\u001B[49m\n\u001B[0;32m      5\u001B[0m     \u001B[38;5;66;03m# add name to dict\u001B[39;00m\n\u001B[0;32m      6\u001B[0m     output_dict \u001B[38;5;241m=\u001B[39m \u001B[38;5;28mdict\u001B[39m()\n",
      "Cell \u001B[1;32mIn[11], line 3\u001B[0m, in \u001B[0;36mfetch_player_dict\u001B[1;34m(player_id)\u001B[0m\n\u001B[0;32m      2\u001B[0m \u001B[38;5;28;01mdef\u001B[39;00m \u001B[38;5;21mfetch_player_dict\u001B[39m(player_id):\n\u001B[1;32m----> 3\u001B[0m     wikicode \u001B[38;5;241m=\u001B[39m \u001B[43mquery_page\u001B[49m\u001B[43m(\u001B[49m\u001B[43mplayer_id\u001B[49m\u001B[43m,\u001B[49m\u001B[43m \u001B[49m\u001B[38;5;241;43m0\u001B[39;49m\u001B[43m)\u001B[49m\n\u001B[0;32m      4\u001B[0m     infobox \u001B[38;5;241m=\u001B[39m wikicode\u001B[38;5;241m.\u001B[39mfilter_templates(matches\u001B[38;5;241m=\u001B[39m\u001B[38;5;124m\"\u001B[39m\u001B[38;5;124mInfobox player\u001B[39m\u001B[38;5;124m\"\u001B[39m)[\u001B[38;5;241m0\u001B[39m]\n\u001B[0;32m      5\u001B[0m     infobox_dict \u001B[38;5;241m=\u001B[39m {}\n",
      "Cell \u001B[1;32mIn[5], line 26\u001B[0m, in \u001B[0;36mquery_page\u001B[1;34m(page, rvsection, cooldown)\u001B[0m\n\u001B[0;32m     24\u001B[0m page \u001B[38;5;241m=\u001B[39m pages[page_id]\n\u001B[0;32m     25\u001B[0m wikicode \u001B[38;5;241m=\u001B[39m mwparserfromhell\u001B[38;5;241m.\u001B[39mparse(page[\u001B[38;5;124m\"\u001B[39m\u001B[38;5;124mrevisions\u001B[39m\u001B[38;5;124m\"\u001B[39m][\u001B[38;5;241m0\u001B[39m][\u001B[38;5;124m\"\u001B[39m\u001B[38;5;124mslots\u001B[39m\u001B[38;5;124m\"\u001B[39m][\u001B[38;5;124m\"\u001B[39m\u001B[38;5;124mmain\u001B[39m\u001B[38;5;124m\"\u001B[39m][\u001B[38;5;124m\"\u001B[39m\u001B[38;5;124m*\u001B[39m\u001B[38;5;124m\"\u001B[39m])\n\u001B[1;32m---> 26\u001B[0m time\u001B[38;5;241m.\u001B[39msleep(cooldown)\n\u001B[0;32m     27\u001B[0m \u001B[38;5;28;01mreturn\u001B[39;00m wikicode\n",
      "\u001B[1;31mKeyboardInterrupt\u001B[0m: "
     ]
    }
   ],
   "source": [
    "def build_df():\n",
    "    # Get dataframe to write to\n",
    "    if os.path.exists(CSV_FILE):\n",
    "        playerdata = pd.read_csv(CSV_FILE)\n",
    "    else:\n",
    "        playerdata = pd.DataFrame(columns=COLUMNS)\n",
    "\n",
    "    try:\n",
    "        for player in tqdm(PLAYER_LIST, leave=False):\n",
    "            if not (playerdata[\"NAME\"].eq(player)).any():\n",
    "                row_data = fetch_player(player, MAJOR_LIST)\n",
    "                playerdata = pd.concat([playerdata, pd.DataFrame.from_records([row_data])], ignore_index=True)\n",
    "    except Exception as e:\n",
    "        print(\"Error:\", e)\n",
    "    \n",
    "    playerdata.to_csv(CSV_FILE, index=False)\n",
    "\n",
    "build_df()"
   ]
  },
  {
   "cell_type": "markdown",
   "metadata": {},
   "source": [
    "## Post Processing"
   ]
  },
  {
   "cell_type": "code",
   "execution_count": 17,
   "metadata": {
    "ExecuteTime": {
     "end_time": "2023-05-18T23:07:20.663214700Z",
     "start_time": "2023-05-18T23:07:20.634438400Z"
    }
   },
   "outputs": [],
   "source": [
    "def age(birthdate):\n",
    "    birthdate = datetime.strptime(birthdate, \"%d/%m/%Y\")\n",
    "    today = datetime.now()\n",
    "    age = today.year - birthdate.year - ((today.month, today.day) < (birthdate.month, birthdate.day))\n",
    "    return age\n",
    "\n",
    "def playerdata_postprocess(df):\n",
    "    columns = list(pd.read_csv(CSV_FILE).columns)\n",
    "    del columns[columns.index(\"TEAM\")]\n",
    "    df.dropna(inplace = True, subset = columns)\n",
    "    df.sort_values(by=[\"EARNINGS\"], ascending = False, inplace = True)\n",
    "    df[\"AGE\"] = [age(date) for date in df[\"AGE\"]]\n",
    "    return df\n",
    "\n",
    "playerdata_post = playerdata_postprocess(pd.read_csv(CSV_FILE))"
   ]
  },
  {
   "cell_type": "markdown",
   "metadata": {},
   "source": [
    "## UI Search Engine"
   ]
  },
  {
   "cell_type": "code",
   "execution_count": 18,
   "metadata": {
    "ExecuteTime": {
     "end_time": "2023-05-18T23:07:25.089360600Z",
     "start_time": "2023-05-18T23:07:25.041885300Z"
    }
   },
   "outputs": [
    {
     "data": {
      "text/plain": "interactive(children=(SelectMultiple(description='REGION', index=(0, 1, 2), options=('Europe', 'Americas', 'As…",
      "application/vnd.jupyter.widget-view+json": {
       "version_major": 2,
       "version_minor": 0,
       "model_id": "6b6bdfbc7f66481ebe50a923f0f564b8"
      }
     },
     "metadata": {},
     "output_type": "display_data"
    },
    {
     "data": {
      "text/plain": "<function __main__.ui_selector(sregion, sage, sweapon, smajors)>"
     },
     "execution_count": 18,
     "metadata": {},
     "output_type": "execute_result"
    }
   ],
   "source": [
    "def generate_selection(data, description):\n",
    "    unique_data = list(data.unique())\n",
    "    return widgets.SelectMultiple(\n",
    "        options=unique_data,\n",
    "        value=unique_data,\n",
    "        rows=len(unique_data),\n",
    "        description=description,\n",
    "        disabled=False)\n",
    "\n",
    "\n",
    "def generate_rangeslider(data, description):\n",
    "    return widgets.FloatRangeSlider(\n",
    "        value=[min(data), max(data)],\n",
    "        min=min(data),\n",
    "        max=max(data),\n",
    "        step=1,\n",
    "        disabled=False,\n",
    "        continuous_update=False,\n",
    "        orientation='horizontal',\n",
    "        readout=True,\n",
    "        readout_format='1',\n",
    ")\n",
    "\n",
    "region_selector = generate_selection(playerdata_post[\"REGION\"], \"REGION\")\n",
    "age_slider = generate_rangeslider(playerdata_post[\"AGE\"], \"AGE\")\n",
    "weapon_selector = generate_selection(playerdata_post[\"WEAPON\"], \"WEAPON\")\n",
    "majors_slider = generate_rangeslider(playerdata_post[\"MAJOR APPEARANCES\"], \"MAJOR APPEARANCES\")\n",
    "\n",
    "def ui_selector(sregion, sage, sweapon, smajors):\n",
    "    return playerdata_post.loc[(playerdata_post[\"REGION\"].isin(sregion)) &\n",
    "                               (playerdata_post[\"AGE\"] >= sage[0]) &\n",
    "                               (playerdata_post[\"AGE\"] <= sage[1]) &\n",
    "                               (playerdata_post[\"WEAPON\"].isin(sweapon)) &\n",
    "                               (playerdata_post[\"MAJOR APPEARANCES\"] >= smajors[0]) &\n",
    "                               (playerdata_post[\"MAJOR APPEARANCES\"] <= smajors[1])\n",
    "                               ]\n",
    "    \n",
    "interact(ui_selector, sregion = region_selector, sage = age_slider, sweapon = weapon_selector, smajors = majors_slider)"
   ]
  },
  {
   "cell_type": "code",
   "execution_count": null,
   "metadata": {},
   "outputs": [],
   "source": []
  }
 ],
 "metadata": {
  "kernelspec": {
   "display_name": "Python 3 (ipykernel)",
   "language": "python",
   "name": "python3"
  },
  "language_info": {
   "codemirror_mode": {
    "name": "ipython",
    "version": 3
   },
   "file_extension": ".py",
   "mimetype": "text/x-python",
   "name": "python",
   "nbconvert_exporter": "python",
   "pygments_lexer": "ipython3",
   "version": "3.9.12"
  }
 },
 "nbformat": 4,
 "nbformat_minor": 4
}
