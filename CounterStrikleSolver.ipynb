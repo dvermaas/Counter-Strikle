{
 "cells": [
  {
   "cell_type": "markdown",
   "metadata": {},
   "source": [
    "# Counter Strikle Webscraper"
   ]
  },
  {
   "cell_type": "markdown",
   "metadata": {},
   "source": [
    "## Notebook Description"
   ]
  },
  {
   "cell_type": "markdown",
   "metadata": {},
   "source": [
    "__Author:__ Daniël Vermaas"
   ]
  },
  {
   "cell_type": "markdown",
   "metadata": {},
   "source": [
    "This notebook scrapes [Liquidpedia](https://liquipedia.net/counterstrike/Main_Page), in order to make [Counter-Strikle](https://blast.tv/counter-strikle) puzzle-solving easier. Before using the notebook, please read the [Liquidpedia ToS about API usage](https://liquipedia.net/api-terms-of-use)."
   ]
  },
  {
   "cell_type": "markdown",
   "metadata": {},
   "source": [
    "## Libraries & Constants"
   ]
  },
  {
   "cell_type": "code",
   "execution_count": 1,
   "outputs": [],
   "source": [
    "import os\n",
    "import time\n",
    "from datetime import datetime\n",
    "import json\n",
    "import mwparserfromhell\n",
    "from ratelimit import limits, sleep_and_retry\n",
    "import pandas as pd\n",
    "from tqdm.notebook import tqdm\n",
    "import requests\n",
    "import ipywidgets as widgets\n",
    "import re"
   ],
   "metadata": {
    "collapsed": false,
    "ExecuteTime": {
     "end_time": "2023-05-31T08:34:12.294336600Z",
     "start_time": "2023-05-31T08:34:11.523997400Z"
    }
   }
  },
  {
   "cell_type": "code",
   "execution_count": 84,
   "outputs": [],
   "source": [
    "BASE_URL = \"https://liquipedia.net/counterstrike/api.php?\"\n",
    "HEADERS = {\"User-Agent\": \"Counter-Strikle-Bot (dvermaas@live.com)\",\"Accept-Encoding\": \"gzip\"}\n",
    "CSV_FILE = \"players.csv\"\n",
    "QUERY_COOLDOWN = 2\n",
    "REGIONS = {\n",
    "    \"Europe\" : [\"Europe\", \"CIS\"],\n",
    "    \"Americas\" : [\"North America\", \"South America\"],\n",
    "    \"Asia-Pacific\" : [\"Oceania\", \"Asia\"],\n",
    "}\n",
    "COLUMNS = [\n",
    "    \"PAGE\",\n",
    "    \"NAME\",\n",
    "    \"REAL NAME\",\n",
    "    \"REGION\",\n",
    "    \"NATIONALITY\",\n",
    "    \"TEAM\",\n",
    "    \"AGE\",\n",
    "    \"WEAPON\",\n",
    "    \"MAJOR APPEARANCES\",\n",
    "    \"LAST UPDATED\"\n",
    "]\n",
    "MAPPING = {}"
   ],
   "metadata": {
    "collapsed": false,
    "ExecuteTime": {
     "end_time": "2023-05-31T13:20:59.299674300Z",
     "start_time": "2023-05-31T13:20:59.290645100Z"
    }
   }
  },
  {
   "cell_type": "markdown",
   "metadata": {},
   "source": [
    "## MediaWiki API requests"
   ]
  },
  {
   "cell_type": "code",
   "execution_count": 163,
   "outputs": [],
   "source": [
    "@sleep_and_retry\n",
    "@limits(calls=1, period=QUERY_COOLDOWN)\n",
    "def query_page(page: str, rvsection: int):\n",
    "    params = {\n",
    "        \"action\": \"query\",\n",
    "        \"format\": \"json\",\n",
    "        \"prop\": \"revisions\",\n",
    "        \"titles\": page,\n",
    "        \"rvprop\": \"content\",\n",
    "        \"rvslots\": \"*\",\n",
    "        \"rvsection\": rvsection,\n",
    "    }\n",
    "    data = requests.get(BASE_URL, params=params, headers=HEADERS).json()\n",
    "    pages = data[\"query\"][\"pages\"]\n",
    "    page = pages[next(iter(pages))]\n",
    "    parsed = mwparserfromhell.parse(page[\"revisions\"][0][\"slots\"][\"main\"][\"*\"])\n",
    "    if \"#REDIRECT\" in parsed:\n",
    "        new_name = re.search(r\"\\[\\[(.*?)\\]\\]\", str(parsed)).group(1)\n",
    "        print(\"REDIRECTING:\" , new_name)\n",
    "        return query_page(new_name, rvsection)\n",
    "    return parsed"
   ],
   "metadata": {
    "collapsed": false,
    "ExecuteTime": {
     "end_time": "2023-05-31T15:24:57.304003700Z",
     "start_time": "2023-05-31T15:24:57.296034Z"
    }
   }
  },
  {
   "cell_type": "code",
   "execution_count": 128,
   "outputs": [
    {
     "data": {
      "text/plain": "'Kap3r'"
     },
     "execution_count": 128,
     "metadata": {},
     "output_type": "execute_result"
    }
   ],
   "source": [
    "@sleep_and_retry\n",
    "@limits(calls=1, period=QUERY_COOLDOWN)\n",
    "def search_page(search: str):\n",
    "    params = {\n",
    "        \"action\": \"query\",\n",
    "        \"format\": \"json\",\n",
    "        \"list\": \"search\",\n",
    "        \"srsearch\": search,\n",
    "        \"srlimit\": 1,\n",
    "    }\n",
    "    data = requests.get(BASE_URL, params=params, headers=HEADERS).json()\n",
    "    try:\n",
    "        pages = data[\"query\"][\"search\"]\n",
    "        return next(iter(pages))[\"title\"]\n",
    "    except:\n",
    "        print(f\"search: {search}\\n\", data)\n",
    "\n",
    "#search_page(\"Kacper Słoma\")"
   ],
   "metadata": {
    "collapsed": false,
    "ExecuteTime": {
     "end_time": "2023-05-31T14:49:47.190908800Z",
     "start_time": "2023-05-31T14:49:46.855510600Z"
    }
   }
  },
  {
   "cell_type": "markdown",
   "source": [
    "## Generate Country to Region Map"
   ],
   "metadata": {
    "collapsed": false
   }
  },
  {
   "cell_type": "code",
   "execution_count": 79,
   "outputs": [],
   "source": [
    "def build_region_dict():\n",
    "    country_region_dict = {}\n",
    "    with open(\"regions.json\", \"r\") as file:\n",
    "        region_dict = json.load(file)\n",
    "    for region, countries in region_dict.items():\n",
    "            for country in countries:\n",
    "                country_region_dict[country] = region\n",
    "    return country_region_dict\n",
    "\n",
    "REGION_DICT = build_region_dict()"
   ],
   "metadata": {
    "collapsed": false,
    "ExecuteTime": {
     "end_time": "2023-05-31T12:19:06.786214200Z",
     "start_time": "2023-05-31T12:19:06.780133900Z"
    }
   }
  },
  {
   "cell_type": "code",
   "execution_count": 10,
   "metadata": {
    "ExecuteTime": {
     "end_time": "2023-05-31T08:34:22.577447Z",
     "start_time": "2023-05-31T08:34:22.188324400Z"
    }
   },
   "outputs": [],
   "source": [
    "# Fetches list of all concluded majors (checks hltv awards) \n",
    "def fetch_majors():\n",
    "    wikicode = query_page(\"Majors\", 8)\n",
    "    links = wikicode.filter_wikilinks()\n",
    "    links = [link.split('|')[0].replace('[[', '') for link in links]\n",
    "    return links\n",
    "\n",
    "MAJOR_LIST = fetch_majors()"
   ]
  },
  {
   "cell_type": "code",
   "execution_count": 11,
   "metadata": {
    "ExecuteTime": {
     "end_time": "2023-05-31T08:34:26.670464200Z",
     "start_time": "2023-05-31T08:34:26.658783400Z"
    }
   },
   "outputs": [],
   "source": [
    "# Fetches all player ids\n",
    "def fetch_players():\n",
    "    results = []\n",
    "    for category in [\"Players\", \"Coaches\"]:\n",
    "        url = f\"{BASE_URL}action=query&list=categorymembers&cmtitle=Category:{category}&cmlimit=max&format=json\"\n",
    "\n",
    "        while True:\n",
    "            response = requests.get(url)\n",
    "            time.sleep(QUERY_COOLDOWN)\n",
    "            data = json.loads(response.text)\n",
    "            pages = data[\"query\"][\"categorymembers\"]\n",
    "            results.extend(pages)\n",
    "\n",
    "            if \"continue\" not in data:\n",
    "                break\n",
    "\n",
    "            cont = data[\"continue\"]\n",
    "            cmcontinue = cont[\"cmcontinue\"]\n",
    "            url = f\"{url}&cmcontinue={cmcontinue}\"\n",
    "    results = [row[\"title\"] for row in results if \"Category\" not in row[\"title\"]]\n",
    "    return results\n",
    "\n",
    "#PLAYER_LIST = fetch_players()"
   ]
  },
  {
   "cell_type": "code",
   "execution_count": 72,
   "outputs": [
    {
     "data": {
      "text/plain": "  0%|          | 0/26 [00:00<?, ?it/s]",
      "application/vnd.jupyter.widget-view+json": {
       "version_major": 2,
       "version_minor": 0,
       "model_id": "e5c00aaa5a784e7385c25be7f7e0b491"
      }
     },
     "metadata": {},
     "output_type": "display_data"
    }
   ],
   "source": [
    "# fetch blast players\n",
    "from selenium import webdriver\n",
    "from selenium.webdriver.common.by import By\n",
    "from selenium.webdriver.support.ui import WebDriverWait\n",
    "from selenium.webdriver.support import expected_conditions as EC\n",
    "from selenium.webdriver.common.keys import Keys\n",
    "import string\n",
    "\n",
    "OPTIONS = webdriver.ChromeOptions()\n",
    "OPTIONS.add_experimental_option(\"excludeSwitches\", [\"enable-automation\"])\n",
    "OPTIONS.add_experimental_option('useAutomationExtension', False)\n",
    "OPTIONS.add_argument('--disable-blink-features=AutomationControlled')\n",
    "\n",
    "def fetch_blast_players():\n",
    "    browser = webdriver.Chrome(options=OPTIONS)\n",
    "    browser.get(\"https://blast.tv/counter-strikle\")\n",
    "\n",
    "    cookies_button = WebDriverWait(browser, 10).until(EC.element_to_be_clickable((By.XPATH, \"//button[@class='coi-consent-banner__agree-button']\")))\n",
    "    cookies_button.click()\n",
    "\n",
    "    rules_button = WebDriverWait(browser, 10).until(EC.element_to_be_clickable((By.XPATH, \"//button[@class='styled__StyledButton-sc-y8jf4t-0 eccxcB']\")))\n",
    "    rules_button.click()\n",
    "\n",
    "    blast_players = []\n",
    "    search_bar = WebDriverWait(browser, 10).until(EC.element_to_be_clickable((By.XPATH, \"//input[@class='styled__SearchBoxInput-sc-1uwunev-2 uWYFV']\")))\n",
    "    for letter in tqdm(string.ascii_lowercase):\n",
    "        search_bar.send_keys(letter)\n",
    "        time.sleep(.2)\n",
    "        autocomplete_results = browser.find_elements(By.XPATH, \"//div[contains(@class, 'styled__SearchResultRow-sc-1uwunev-4')]\")\n",
    "        blast_players.extend([tuple(result.text.split(\" - \")) for result in autocomplete_results])\n",
    "        search_bar.send_keys(Keys.BACKSPACE)\n",
    "        time.sleep(.2)\n",
    "    browser.quit()\n",
    "    return {name : real_name for name, real_name in blast_players}\n",
    "\n",
    "PLAYER_LIST = fetch_blast_players()"
   ],
   "metadata": {
    "collapsed": false,
    "ExecuteTime": {
     "end_time": "2023-05-31T12:14:32.290281700Z",
     "start_time": "2023-05-31T12:14:08.092457900Z"
    }
   }
  },
  {
   "cell_type": "code",
   "execution_count": 75,
   "outputs": [
    {
     "name": "stdout",
     "output_type": "stream",
     "text": [
      "527\n"
     ]
    },
    {
     "data": {
      "text/plain": "'Adil Benrlitom'"
     },
     "execution_count": 75,
     "metadata": {},
     "output_type": "execute_result"
    }
   ],
   "source": [
    "print(len(PLAYER_LIST))\n",
    "PLAYER_LIST.get(\"ScreaM\")"
   ],
   "metadata": {
    "collapsed": false,
    "ExecuteTime": {
     "end_time": "2023-05-31T12:15:57.676529600Z",
     "start_time": "2023-05-31T12:15:57.669490200Z"
    }
   }
  },
  {
   "cell_type": "markdown",
   "metadata": {},
   "source": [
    "## Player-Specific Information"
   ]
  },
  {
   "cell_type": "code",
   "execution_count": 45,
   "outputs": [
    {
     "data": {
      "text/plain": "  0%|          | 0/19 [00:00<?, ?it/s]",
      "application/vnd.jupyter.widget-view+json": {
       "version_major": 2,
       "version_minor": 0,
       "model_id": "095196278d6a4a22b42732061da4c702"
      }
     },
     "metadata": {},
     "output_type": "display_data"
    }
   ],
   "source": [
    "def fetch_major_players():\n",
    "    # load majors from json\n",
    "    file_name = \"majors.json\"\n",
    "    major_dict = {}\n",
    "    if os.path.exists(file_name):\n",
    "        with open(file_name, \"r\") as file:\n",
    "            major_dict = json.load(file)\n",
    "\n",
    "    # check for new majors\n",
    "    for major in tqdm(fetch_majors()):\n",
    "        if major in major_dict:\n",
    "            continue\n",
    "        wikicode = query_page(major, \"5\")\n",
    "        teams_dict = {}\n",
    "        for template in wikicode.filter_templates(matches=r\"\\bTeamCard\\b\"):\n",
    "            if template.name.strip() == \"TeamCard\":\n",
    "                if not template.has(\"qualifier\"):\n",
    "                    continue\n",
    "                if not template.has(\"p1\"):\n",
    "                    continue\n",
    "                team = template.get(\"team\").value.strip()\n",
    "                players = [template.get(f\"p{i}link\", template.get(f\"p{i}\")).value.strip() for i in range(1, 6)]\n",
    "                teams_dict[team] = players\n",
    "        major_dict[major] = teams_dict\n",
    "\n",
    "    # save majors to json\n",
    "    with open(file_name, \"w\") as file:\n",
    "        json.dump(major_dict, file, indent=2)\n",
    "\n",
    "    # invert dict\n",
    "    major_players = {}\n",
    "    for major,teams in major_dict.items():\n",
    "        for team, players in teams.items():\n",
    "            for player in players:\n",
    "                if player not in major_players:\n",
    "                    major_players[player] = 0\n",
    "                major_players[player] += 1\n",
    "\n",
    "    return major_players\n",
    "\n",
    "MAJOR_PLAYERS = fetch_major_players()"
   ],
   "metadata": {
    "collapsed": false,
    "ExecuteTime": {
     "end_time": "2023-05-31T10:43:51.658521500Z",
     "start_time": "2023-05-31T10:43:51.311167800Z"
    }
   }
  },
  {
   "cell_type": "code",
   "execution_count": 166,
   "outputs": [
    {
     "name": "stdout",
     "output_type": "stream",
     "text": [
      "REDIRECTING: Sgares\n"
     ]
    },
    {
     "data": {
      "text/plain": "{'id': 'seang@res',\n 'ids': 'seangares, sgares, sg@res',\n 'image': 'Seangares DHO Anaheim 2020.jpg',\n 'name': 'Sean Gares',\n 'birth_date': '1988-6-10',\n 'country': 'United States',\n 'cs': 'y',\n 'csgo': 'y',\n 'status': 'Retired',\n 'years_active': '2005 – 2019',\n 'years_active_talent': '2014 – 2020',\n 'role': 'broadcast analyst',\n 'twitch': 'Sgares',\n 'twitter': 'seangares',\n 'facebook': 'seangares1',\n 'esea': '178169',\n 'steam': '76561197960429732',\n 'faceit': 'seangares',\n 'youtube': 'seangares',\n 'team_history': 'Counter-Strike: Global Offensive'}"
     },
     "execution_count": 166,
     "metadata": {},
     "output_type": "execute_result"
    }
   ],
   "source": [
    "# fetches all player data and puts it in dict\n",
    "def fetch_player_dict(name, real_name):\n",
    "    try:\n",
    "        wikicode = query_page(name, 0)\n",
    "        infobox = wikicode.filter_templates(matches=\"Infobox player\")[0]\n",
    "    except:\n",
    "        try:\n",
    "            wikicode = query_page(search_page(real_name), 0)\n",
    "            infobox = wikicode.filter_templates(matches=\"Infobox player\")[0]\n",
    "        except:\n",
    "            print(f\"fetch IndexError: player:{name}\")\n",
    "            return {}\n",
    "\n",
    "    infobox_dict = {}\n",
    "    for param in infobox.params:\n",
    "        value = mwparserfromhell.parse(param.value.strip_code()).strip()\n",
    "        infobox_dict[param.name.strip()] = value\n",
    "    return infobox_dict\n",
    "\n",
    "# filter player data for relevant information\n",
    "def fetch_player(name, real_name = None):\n",
    "    # parse player information\n",
    "    info_dict = fetch_player_dict(name, real_name = real_name)\n",
    "\n",
    "    # add name to dict\n",
    "    output_dict = dict()\n",
    "    output_dict[\"PAGE\"] = name\n",
    "    output_dict[\"NAME\"] = info_dict.get(\"id\")\n",
    "    output_dict[\"REGION\"] = REGION_DICT.get(info_dict.get(\"country\"))\n",
    "    output_dict[\"REAL NAME\"] = info_dict.get(\"romanized_name\", info_dict.get(\"name\"))\n",
    "    output_dict[\"NATIONALITY\"] = info_dict.get(\"country\")\n",
    "    output_dict[\"TEAM\"] = info_dict.get(\"team\")\n",
    "    output_dict[\"AGE\"] = info_dict.get(\"birth_date\")\n",
    "    roles = [info_dict.get(\"role\"), info_dict.get(\"role2\")]\n",
    "    if \"awp\" in roles:\n",
    "        output_dict[\"WEAPON\"] = \"AWP\"\n",
    "    else:\n",
    "        output_dict[\"WEAPON\"] = \"AK47\"\n",
    "    output_dict[\"MAJOR APPEARANCES\"] = MAJOR_PLAYERS.get(info_dict.get(\"id\"), 0)\n",
    "    output_dict[\"LAST UPDATED\"] = datetime.now().strftime(\"%Y-%m-%d\")\n",
    "    return output_dict\n",
    "\n",
    "#fetch_player(\"Boomser\")\n",
    "#fetch_player(\"ScreaM\")\n",
    "#fetch_player(\"ElectroNic\")\n",
    "fetch_player_dict(\"seang@res\", PLAYER_LIST.get(\"seang@res\"))"
   ],
   "metadata": {
    "collapsed": false,
    "ExecuteTime": {
     "end_time": "2023-05-31T15:49:31.024554800Z",
     "start_time": "2023-05-31T15:49:28.704685100Z"
    }
   }
  },
  {
   "cell_type": "markdown",
   "metadata": {},
   "source": [
    "## Generate CSV"
   ]
  },
  {
   "cell_type": "code",
   "execution_count": 172,
   "metadata": {
    "ExecuteTime": {
     "end_time": "2023-05-31T17:45:03.235272200Z",
     "start_time": "2023-05-31T17:44:36.854023200Z"
    }
   },
   "outputs": [
    {
     "data": {
      "text/plain": "  0%|          | 0/527 [00:00<?, ?it/s]",
      "application/vnd.jupyter.widget-view+json": {
       "version_major": 2,
       "version_minor": 0,
       "model_id": "602d134014a746658faddeaf168014d4"
      }
     },
     "metadata": {},
     "output_type": "display_data"
    },
    {
     "name": "stdout",
     "output_type": "stream",
     "text": [
      "ALEX\n",
      "fetch IndexError: player:ALEX\n",
      "DESPE\n",
      "hades\n",
      "fetch IndexError: player:hades\n",
      "JT\n",
      "RZU\n",
      "Savage\n",
      "fetch IndexError: player:Savage\n",
      "TENZKI\n",
      "fetch IndexError: player:TENZKI\n",
      "Viva\n",
      "Zeus\n",
      "fetch IndexError: player:Zeus\n"
     ]
    }
   ],
   "source": [
    "def build_df():\n",
    "    # Get dataframe to write to\n",
    "    if os.path.exists(CSV_FILE):\n",
    "        playerdata = pd.read_csv(CSV_FILE)\n",
    "    else:\n",
    "        playerdata = pd.DataFrame(columns=COLUMNS)\n",
    "    try:\n",
    "        for name, real_name in tqdm(PLAYER_LIST.items(), leave=False):\n",
    "            if not (playerdata[\"PAGE\"].eq(name)).any():\n",
    "                print(name)\n",
    "                row_data = fetch_player(name, real_name)\n",
    "                playerdata = pd.concat([playerdata, pd.DataFrame.from_records([row_data])], ignore_index=True)\n",
    "    except Exception as e:\n",
    "        print(\"Error:\", e)\n",
    "        print(\"Player:\", name)\n",
    "    playerdata = playerdata.dropna(subset=playerdata.columns.difference([\"TEAM\", \"REGION\"]))\n",
    "    playerdata.to_csv(CSV_FILE, index=False)\n",
    "\n",
    "build_df()"
   ]
  },
  {
   "cell_type": "code",
   "execution_count": 168,
   "outputs": [
    {
     "name": "stdout",
     "output_type": "stream",
     "text": [
      "fetch IndexError: player:Zeus\n"
     ]
    },
    {
     "data": {
      "text/plain": "{'PAGE': 'Zeus',\n 'NAME': None,\n 'REGION': None,\n 'REAL NAME': None,\n 'NATIONALITY': None,\n 'TEAM': None,\n 'AGE': None,\n 'WEAPON': 'AK47',\n 'MAJOR APPEARANCES': 0,\n 'LAST UPDATED': '2023-05-31'}"
     },
     "execution_count": 168,
     "metadata": {},
     "output_type": "execute_result"
    }
   ],
   "source": [
    "player = \"Zeus\"\n",
    "fetch_player(player, PLAYER_LIST.get(player))"
   ],
   "metadata": {
    "collapsed": false,
    "ExecuteTime": {
     "end_time": "2023-05-31T15:49:55.098552200Z",
     "start_time": "2023-05-31T15:49:52.754789200Z"
    }
   }
  },
  {
   "cell_type": "markdown",
   "metadata": {},
   "source": [
    "## Post Processing"
   ]
  },
  {
   "cell_type": "code",
   "execution_count": 35,
   "metadata": {
    "ExecuteTime": {
     "end_time": "2023-05-19T15:44:35.753824500Z",
     "start_time": "2023-05-19T15:44:35.706874200Z"
    }
   },
   "outputs": [
    {
     "data": {
      "text/plain": "          PAGE      NAME                 REAL NAME    REGION    NATIONALITY   \n710    Dupreeh   dupreeh  Peter Rothmann Rasmussen    Europe        Denmark  \\\n3035     Xyp9x     Xyp9x          Andreas Højsleth    Europe        Denmark   \n2497      Shox      shox          Richard Papillon    Europe         France   \n126       ApEX      apEX           Dan Madesclaire    Europe         France   \n1354  Karrigan  karrigan             Finn Andersen    Europe        Denmark   \n...        ...       ...                       ...       ...            ...   \n1298    Juissi    juissi              Youssef Adam    Europe        Finland   \n1299      Juli      Juli             Juliana Tosic  Americas  United States   \n1300   Juliano   juliano               Julia Kiran    Europe         Sweden   \n1302     Julih     julih               Julia Gomes  Americas         Brazil   \n3540     Zyppe     Zyppe         Samuel Martinsson    Europe         Sweden   \n\n                   TEAM  AGE WEAPON  MAJOR APPEARANCES LAST UPDATED  \n710       Team Vitality   30    AWP                 17   2023-05-19  \n3035    Astralis Talent   27   AK47                 16   2023-05-19  \n2497                NaN   30   AK47                 16   2023-05-19  \n126       Team Vitality   30   AK47                 15   2023-05-19  \n1354          FaZe Clan   33   AK47                 15   2023-05-19  \n...                 ...  ...    ...                ...          ...  \n1298       ENCE Academy   20   AK47                  0   2023-05-19  \n1299                NaN   23   AK47                  0   2023-05-19  \n1300             G2 Oya   29   AK47                  0   2023-05-19  \n1302  B4 Esports Female   24   AK47                  0   2023-05-19  \n3540       00 Prospects   33   AK47                  0   2023-05-19  \n\n[2650 rows x 10 columns]",
      "text/html": "<div>\n<style scoped>\n    .dataframe tbody tr th:only-of-type {\n        vertical-align: middle;\n    }\n\n    .dataframe tbody tr th {\n        vertical-align: top;\n    }\n\n    .dataframe thead th {\n        text-align: right;\n    }\n</style>\n<table border=\"1\" class=\"dataframe\">\n  <thead>\n    <tr style=\"text-align: right;\">\n      <th></th>\n      <th>PAGE</th>\n      <th>NAME</th>\n      <th>REAL NAME</th>\n      <th>REGION</th>\n      <th>NATIONALITY</th>\n      <th>TEAM</th>\n      <th>AGE</th>\n      <th>WEAPON</th>\n      <th>MAJOR APPEARANCES</th>\n      <th>LAST UPDATED</th>\n    </tr>\n  </thead>\n  <tbody>\n    <tr>\n      <th>710</th>\n      <td>Dupreeh</td>\n      <td>dupreeh</td>\n      <td>Peter Rothmann Rasmussen</td>\n      <td>Europe</td>\n      <td>Denmark</td>\n      <td>Team Vitality</td>\n      <td>30</td>\n      <td>AWP</td>\n      <td>17</td>\n      <td>2023-05-19</td>\n    </tr>\n    <tr>\n      <th>3035</th>\n      <td>Xyp9x</td>\n      <td>Xyp9x</td>\n      <td>Andreas Højsleth</td>\n      <td>Europe</td>\n      <td>Denmark</td>\n      <td>Astralis Talent</td>\n      <td>27</td>\n      <td>AK47</td>\n      <td>16</td>\n      <td>2023-05-19</td>\n    </tr>\n    <tr>\n      <th>2497</th>\n      <td>Shox</td>\n      <td>shox</td>\n      <td>Richard Papillon</td>\n      <td>Europe</td>\n      <td>France</td>\n      <td>NaN</td>\n      <td>30</td>\n      <td>AK47</td>\n      <td>16</td>\n      <td>2023-05-19</td>\n    </tr>\n    <tr>\n      <th>126</th>\n      <td>ApEX</td>\n      <td>apEX</td>\n      <td>Dan Madesclaire</td>\n      <td>Europe</td>\n      <td>France</td>\n      <td>Team Vitality</td>\n      <td>30</td>\n      <td>AK47</td>\n      <td>15</td>\n      <td>2023-05-19</td>\n    </tr>\n    <tr>\n      <th>1354</th>\n      <td>Karrigan</td>\n      <td>karrigan</td>\n      <td>Finn Andersen</td>\n      <td>Europe</td>\n      <td>Denmark</td>\n      <td>FaZe Clan</td>\n      <td>33</td>\n      <td>AK47</td>\n      <td>15</td>\n      <td>2023-05-19</td>\n    </tr>\n    <tr>\n      <th>...</th>\n      <td>...</td>\n      <td>...</td>\n      <td>...</td>\n      <td>...</td>\n      <td>...</td>\n      <td>...</td>\n      <td>...</td>\n      <td>...</td>\n      <td>...</td>\n      <td>...</td>\n    </tr>\n    <tr>\n      <th>1298</th>\n      <td>Juissi</td>\n      <td>juissi</td>\n      <td>Youssef Adam</td>\n      <td>Europe</td>\n      <td>Finland</td>\n      <td>ENCE Academy</td>\n      <td>20</td>\n      <td>AK47</td>\n      <td>0</td>\n      <td>2023-05-19</td>\n    </tr>\n    <tr>\n      <th>1299</th>\n      <td>Juli</td>\n      <td>Juli</td>\n      <td>Juliana Tosic</td>\n      <td>Americas</td>\n      <td>United States</td>\n      <td>NaN</td>\n      <td>23</td>\n      <td>AK47</td>\n      <td>0</td>\n      <td>2023-05-19</td>\n    </tr>\n    <tr>\n      <th>1300</th>\n      <td>Juliano</td>\n      <td>juliano</td>\n      <td>Julia Kiran</td>\n      <td>Europe</td>\n      <td>Sweden</td>\n      <td>G2 Oya</td>\n      <td>29</td>\n      <td>AK47</td>\n      <td>0</td>\n      <td>2023-05-19</td>\n    </tr>\n    <tr>\n      <th>1302</th>\n      <td>Julih</td>\n      <td>julih</td>\n      <td>Julia Gomes</td>\n      <td>Americas</td>\n      <td>Brazil</td>\n      <td>B4 Esports Female</td>\n      <td>24</td>\n      <td>AK47</td>\n      <td>0</td>\n      <td>2023-05-19</td>\n    </tr>\n    <tr>\n      <th>3540</th>\n      <td>Zyppe</td>\n      <td>Zyppe</td>\n      <td>Samuel Martinsson</td>\n      <td>Europe</td>\n      <td>Sweden</td>\n      <td>00 Prospects</td>\n      <td>33</td>\n      <td>AK47</td>\n      <td>0</td>\n      <td>2023-05-19</td>\n    </tr>\n  </tbody>\n</table>\n<p>2650 rows × 10 columns</p>\n</div>"
     },
     "execution_count": 35,
     "metadata": {},
     "output_type": "execute_result"
    }
   ],
   "source": [
    "def age(birthdate):\n",
    "    birthdate = datetime.strptime(birthdate, \"%Y-%m-%d\")\n",
    "    today = datetime.now()\n",
    "    return today.year - birthdate.year - ((today.month, today.day) < (birthdate.month, birthdate.day))\n",
    "\n",
    "def playerdata_postprocess(df):\n",
    "    columns = list(pd.read_csv(CSV_FILE).columns)\n",
    "    del columns[columns.index(\"TEAM\")]\n",
    "    df.dropna(inplace = True, subset = columns)\n",
    "    age_conversions = []\n",
    "    for date in df[\"AGE\"]:\n",
    "        try:\n",
    "            age_conversions.append(age(date))\n",
    "        except ValueError:\n",
    "            age_conversions.append(0)\n",
    "    df[\"AGE\"] = age_conversions\n",
    "    return df.sort_values([\"MAJOR APPEARANCES\"], ascending=False)\n",
    "\n",
    "playerdata_post = playerdata_postprocess(pd.read_csv(CSV_FILE))"
   ]
  },
  {
   "cell_type": "markdown",
   "metadata": {},
   "source": [
    "## UI Search Engine"
   ]
  },
  {
   "cell_type": "code",
   "execution_count": 34,
   "metadata": {
    "ExecuteTime": {
     "end_time": "2023-05-19T15:40:37.760616600Z",
     "start_time": "2023-05-19T15:40:37.740245800Z"
    }
   },
   "outputs": [
    {
     "data": {
      "text/plain": "interactive(children=(SelectMultiple(description='REGION', index=(0, 1, 2), options=('Europe', 'Americas', 'As…",
      "application/vnd.jupyter.widget-view+json": {
       "version_major": 2,
       "version_minor": 0,
       "model_id": "716bd3e0b7b6420eab0b891559f316af"
      }
     },
     "metadata": {},
     "output_type": "display_data"
    },
    {
     "data": {
      "text/plain": "<function __main__.ui_selector(sregion, sage, sweapon, smajors)>"
     },
     "execution_count": 34,
     "metadata": {},
     "output_type": "execute_result"
    }
   ],
   "source": [
    "def generate_selection(data, description):\n",
    "    unique_data = list(data.unique())\n",
    "    return widgets.SelectMultiple(\n",
    "        options=unique_data,\n",
    "        value=unique_data,\n",
    "        rows=len(unique_data),\n",
    "        description=description,\n",
    "        disabled=False)\n",
    "\n",
    "\n",
    "def generate_rangeslider(data, description):\n",
    "    return widgets.FloatRangeSlider(\n",
    "        value=[min(data), max(data)],\n",
    "        min=min(data),\n",
    "        max=max(data),\n",
    "        description=description,\n",
    "        step=1,\n",
    "        disabled=False,\n",
    "        continuous_update=False,\n",
    "        orientation='horizontal',\n",
    "        readout=True,\n",
    "        readout_format='1',\n",
    ")\n",
    "\n",
    "region_selector = generate_selection(playerdata_post[\"REGION\"], \"REGION\")\n",
    "age_slider = generate_rangeslider(playerdata_post[\"AGE\"], \"AGE\")\n",
    "weapon_selector = generate_selection(playerdata_post[\"WEAPON\"], \"WEAPON\")\n",
    "majors_slider = generate_rangeslider(playerdata_post[\"MAJOR APPEARANCES\"], \"MAJOR APPEARANCES\")\n",
    "\n",
    "def ui_selector(sregion, sage, sweapon, smajors):\n",
    "    return playerdata_post.loc[(playerdata_post[\"REGION\"].isin(sregion)) &\n",
    "                               (playerdata_post[\"AGE\"] >= sage[0]) &\n",
    "                               (playerdata_post[\"AGE\"] <= sage[1]) &\n",
    "                               (playerdata_post[\"WEAPON\"].isin(sweapon)) &\n",
    "                               (playerdata_post[\"MAJOR APPEARANCES\"] >= smajors[0]) &\n",
    "                               (playerdata_post[\"MAJOR APPEARANCES\"] <= smajors[1])\n",
    "                               ]\n",
    "    \n",
    "widgets.interact(ui_selector, sregion = region_selector, sage = age_slider, sweapon = weapon_selector, smajors = majors_slider)"
   ]
  },
  {
   "cell_type": "code",
   "execution_count": 5,
   "outputs": [
    {
     "data": {
      "text/plain": "  0%|          | 0/26 [00:00<?, ?it/s]",
      "application/vnd.jupyter.widget-view+json": {
       "version_major": 2,
       "version_minor": 0,
       "model_id": "c4941ff3a3184ea884d5ea231ca277dd"
      }
     },
     "metadata": {},
     "output_type": "display_data"
    }
   ],
   "source": [],
   "metadata": {
    "collapsed": false,
    "ExecuteTime": {
     "end_time": "2023-05-26T11:44:41.847452800Z",
     "start_time": "2023-05-26T11:44:17.190108400Z"
    }
   }
  }
 ],
 "metadata": {
  "kernelspec": {
   "display_name": "Python 3 (ipykernel)",
   "language": "python",
   "name": "python3"
  },
  "language_info": {
   "codemirror_mode": {
    "name": "ipython",
    "version": 3
   },
   "file_extension": ".py",
   "mimetype": "text/x-python",
   "name": "python",
   "nbconvert_exporter": "python",
   "pygments_lexer": "ipython3",
   "version": "3.9.12"
  }
 },
 "nbformat": 4,
 "nbformat_minor": 4
}
