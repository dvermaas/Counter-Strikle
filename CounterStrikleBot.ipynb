{
 "cells": [
  {
   "cell_type": "markdown",
   "metadata": {},
   "source": [
    "# Counter Strikle Webscraper"
   ]
  },
  {
   "cell_type": "markdown",
   "metadata": {},
   "source": [
    "> The following code scrapes liquidpedia (https://liquipedia.net/counterstrike/Main_Page), in order to make counter strikle (https://blast.tv/counter-strikle) puzzle-solving easier."
   ]
  },
  {
   "cell_type": "markdown",
   "metadata": {},
   "source": [
    "# Libs"
   ]
  },
  {
   "cell_type": "code",
   "execution_count": 12,
   "metadata": {},
   "outputs": [],
   "source": [
    "import re\n",
    "import requests\n",
    "import random\n",
    "import json\n",
    "import os\n",
    "import csv\n",
    "import time\n",
    "\n",
    "from random import randint\n",
    "from time import sleep\n",
    "from bs4 import BeautifulSoup\n",
    "from datetime import datetime\n",
    "from collections import defaultdict\n",
    "\n",
    "import pandas as pd\n",
    "pd.set_option(\"display.max_rows\", 30)\n",
    "import numpy as np\n",
    "\n",
    "import matplotlib.pyplot as plt\n",
    "%matplotlib inline\n",
    "\n",
    "from tqdm.notebook import tqdm"
   ]
  },
  {
   "cell_type": "markdown",
   "metadata": {},
   "source": [
    "# Constants"
   ]
  },
  {
   "cell_type": "markdown",
   "metadata": {},
   "source": [
    "> URL's of the target website, together with the regions that will be mined."
   ]
  },
  {
   "cell_type": "code",
   "execution_count": 3,
   "metadata": {},
   "outputs": [],
   "source": [
    "REGIONS = [\"Europe\", \"CIS\", \"Americas\", \"Oceania\", \"Eastern_%26_Southern_Asia\"]\n",
    "URL = \"https://liquipedia.net/counterstrike\"\n",
    "REGION_URL = URL + \"/Portal:Players\"\n",
    "CSV_FILE = \"players.csv\"\n",
    "COLUMNS = [\"NAME\", \"REAL NAME\", \"REGION\", \"NATIONALITY\", \"TEAM\", \"AGE\", \"WEAPON\", \n",
    "           \"MAJOR APPEARANCES\", \"EARNINGS\", \"LAST UPDATED\"]"
   ]
  },
  {
   "cell_type": "markdown",
   "metadata": {},
   "source": [
    "# Major aggregation"
   ]
  },
  {
   "cell_type": "markdown",
   "metadata": {},
   "source": [
    "> In order to calculate major appearances all majors are scraped in advance."
   ]
  },
  {
   "cell_type": "code",
   "execution_count": 4,
   "metadata": {},
   "outputs": [
    {
     "data": {
      "text/plain": [
       "['/counterstrike/BLAST/Major/2023/Paris',\n",
       " '/counterstrike/Intel_Extreme_Masters/2022/Rio',\n",
       " '/counterstrike/PGL/2022/Antwerp',\n",
       " '/counterstrike/PGL/2021/Stockholm',\n",
       " '/counterstrike/ESL/One/2020/Rio',\n",
       " '/counterstrike/StarLadder/2019/Major',\n",
       " '/counterstrike/Intel_Extreme_Masters/Season_XIII/World_Championship',\n",
       " '/counterstrike/FACEIT/2018/Major',\n",
       " '/counterstrike/ELEAGUE/2018/Major',\n",
       " '/counterstrike/PGL/2017/Krakow',\n",
       " '/counterstrike/ELEAGUE/2017/Major',\n",
       " '/counterstrike/ESL/One/2016/Cologne',\n",
       " '/counterstrike/MLG/2016/Columbus',\n",
       " '/counterstrike/DreamHack/2015/Cluj-Napoca',\n",
       " '/counterstrike/ESL/One/2015/Cologne',\n",
       " '/counterstrike/ESL/One/2015/Katowice',\n",
       " '/counterstrike/DreamHack/2014/Winter',\n",
       " '/counterstrike/ESL/One/2014/Cologne',\n",
       " '/counterstrike/ESL/Major_Series_One/2014/Katowice',\n",
       " '/counterstrike/DreamHack/2013/Winter']"
      ]
     },
     "execution_count": 4,
     "metadata": {},
     "output_type": "execute_result"
    }
   ],
   "source": [
    "page = requests.get(URL + \"/Majors\")\n",
    "soup = BeautifulSoup(page.content, \"html.parser\")\n",
    "event_elements = soup.find_all(\"div\", {\"class\": \"divRow tournament-card-premier\"})\n",
    "major_list = [event.find(\"b\").find(\"a\")[\"href\"] for event in event_elements]\n",
    "major_list"
   ]
  },
  {
   "cell_type": "markdown",
   "metadata": {},
   "source": [
    "## Obtaining All Player Names"
   ]
  },
  {
   "cell_type": "markdown",
   "metadata": {},
   "source": [
    "> In order to get to player profiles the gamertags need to be scraped first, given that these are used for linking to the player specific pages."
   ]
  },
  {
   "cell_type": "code",
   "execution_count": 4,
   "metadata": {},
   "outputs": [],
   "source": [
    "# gets all players from certain region\n",
    "def fetch_region_players(region):\n",
    "    page = requests.get(REGION_URL + \"/\" + region)\n",
    "    soup = BeautifulSoup(page.content, \"html.parser\")\n",
    "    elements = [item.find_all(\"a\")[1] for item in soup.find_all(\"td\")]\n",
    "    name_dict = [element[\"title\"] for element in elements]\n",
    "    return name_dict\n",
    "\n",
    "regional_data = dict()\n",
    "for region in REGIONS:\n",
    "    regional_data[region] = fetch_region_players(region)"
   ]
  },
  {
   "cell_type": "markdown",
   "metadata": {},
   "source": [
    "## Obtaining Player Specific Data"
   ]
  },
  {
   "cell_type": "markdown",
   "metadata": {},
   "source": [
    "> Using the gamertags it is now possible to get the required counter-strikle data."
   ]
  },
  {
   "cell_type": "code",
   "execution_count": 22,
   "metadata": {},
   "outputs": [
    {
     "name": "stdout",
     "output_type": "stream",
     "text": [
      "{'Name': 'Timothée Démolon', 'Nationality': '\\xa0France', 'Born': 'December 11, 1994 (age\\xa027)', 'Status': 'Active', 'Years Active (Player)': '2014 – Present', 'Roles': 'In-game leaderRifler', 'Team': 'The Dice', 'Approx. Total Winnings': '$72,509', 'Games': 'Global Offensive'}\n",
      "debug: ['/counterstrike/ESL/One/2016/Cologne', '/counterstrike/MLG/2016/Columbus']\n"
     ]
    },
    {
     "data": {
      "text/plain": [
       "{'NAME': 'DEVIL',\n",
       " 'REGION': 'CIS',\n",
       " 'REAL NAME': 'Timothée Démolon',\n",
       " 'NATIONALITY': 'France',\n",
       " 'TEAM': 'The Dice',\n",
       " 'AGE': '11/12/1994',\n",
       " 'WEAPON': 'AK47',\n",
       " 'MAJOR APPEARANCES': 2,\n",
       " 'EARNINGS': '$72,509',\n",
       " 'LAST UPDATED': '14/10/2022'}"
      ]
     },
     "execution_count": 22,
     "metadata": {},
     "output_type": "execute_result"
    }
   ],
   "source": [
    "def fetch_player(player_name, region, ratelimit=180, debug=False):\n",
    "    # pull player profile\n",
    "    page = requests.get(URL + \"/\" + player_name)\n",
    "    soup = BeautifulSoup(page.content, \"html.parser\")\n",
    "    time.sleep(ratelimit)\n",
    "    output_dict = dict()\n",
    "    \n",
    "    # parse player information\n",
    "    info_list = soup.find_all(\"div\", {\"class\": \"infobox-cell-2\"})\n",
    "    info_dict = {info_list[i].text[:-1] : info_list[i+1].text for i in range(0, len(info_list),2)}\n",
    "    if debug:\n",
    "        print(info_dict)\n",
    "    # add name to dict\n",
    "    output_dict[\"NAME\"] = player_name\n",
    "    output_dict[\"REGION\"] = region\n",
    "    \n",
    "    # replace name with romanised name if needed\n",
    "    if \"Romanized Name\" in info_dict:\n",
    "        output_dict[\"REAL NAME\"] = info_dict[\"Romanized Name\"]\n",
    "    else:\n",
    "        output_dict[\"REAL NAME\"] = info_dict[\"Name\"]\n",
    "    \n",
    "    # get nationality\n",
    "    if \"Nationality\" in info_dict:\n",
    "        output_dict[\"NATIONALITY\"] = info_dict[\"Nationality\"][1:]\n",
    "    \n",
    "    # get team\n",
    "    if \"Team\"  in info_dict:\n",
    "        output_dict[\"TEAM\"] = info_dict[\"Team\"]\n",
    "    \n",
    "    # Get age\n",
    "    if \"Born\" in info_dict:\n",
    "        try:\n",
    "            output_dict[\"AGE\"] = datetime.strptime(info_dict[\"Born\"][:-9].replace(\",\", \"\"), \"%B %d %Y\").strftime(\"%d/%m/%Y\")\n",
    "        except:\n",
    "            pass\n",
    "    \n",
    "    # Get role\n",
    "    if \"Role\" in info_dict:\n",
    "        if \"AWPer\" in info_dict[\"Role\"]:\n",
    "            output_dict[\"WEAPON\"] = \"AWP\"\n",
    "        else:\n",
    "            output_dict[\"WEAPON\"] = \"AK47\"\n",
    "    elif \"Roles\" in info_dict:\n",
    "        if \"AWPer\" in info_dict[\"Roles\"]:\n",
    "            output_dict[\"WEAPON\"] = \"AWP\"\n",
    "        else:\n",
    "            output_dict[\"WEAPON\"] = \"AK47\"\n",
    "            \n",
    "    # Get major appearances\n",
    "    page = requests.get(URL + \"/\" + player_name + \"/Results\")\n",
    "    soup = BeautifulSoup(page.content, \"html.parser\")\n",
    "    event_elements = soup.find_all(\"tr\", {\"class\": \"valvemajor-highlighted\"})\n",
    "    event_name_list = [event.find(\"td\", {\"style\": \"text-align:left\"}).find(\"a\")[\"href\"] for event in event_elements]\n",
    "    event_name_list = [event for event in event_name_list if event in major_list]\n",
    "    output_dict[\"MAJOR APPEARANCES\"] = len(event_name_list)\n",
    "    print('debug:', event_name_list)\n",
    "    \n",
    "    if \"Approx. Total Winnings\" in info_dict:\n",
    "        output_dict[\"EARNINGS\"] = info_dict[\"Approx. Total Winnings\"]\n",
    "    else:\n",
    "        output_dict[\"EARNINGS\"] = \"0$\"\n",
    "    \n",
    "    output_dict[\"LAST UPDATED\"] = datetime.now().strftime(\"%d/%m/%Y\")\n",
    "    return output_dict\n",
    "    \n",
    "#fetch_player(\"MingSir\", \"Eastern_%26_Southern_Asia\", ratelimit=0, debug=True)\n",
    "fetch_player(\"DEVIL\", \"CIS\", ratelimit=0, debug=True)"
   ]
  },
  {
   "cell_type": "markdown",
   "metadata": {},
   "source": [
    "## Build csv data"
   ]
  },
  {
   "cell_type": "code",
   "execution_count": 8,
   "metadata": {},
   "outputs": [
    {
     "data": {
      "application/vnd.jupyter.widget-view+json": {
       "model_id": "0cbce43fb2c4493d9d47444af4dc8434",
       "version_major": 2,
       "version_minor": 0
      },
      "text/plain": [
       "  0%|          | 0/5 [00:00<?, ?it/s]"
      ]
     },
     "metadata": {},
     "output_type": "display_data"
    }
   ],
   "source": [
    "def build_df():\n",
    "    if os.path.exists(CSV_FILE):\n",
    "        playerdata = pd.read_csv(CSV_FILE)\n",
    "    else:\n",
    "        playerdata = pd.DataFrame(columns=COLUMNS)\n",
    "\n",
    "    try:\n",
    "        for region in tqdm(REGIONS):\n",
    "            for player in tqdm(regional_data[region], leave=False):\n",
    "                if not (playerdata[\"NAME\"].eq(player)).any():\n",
    "                    row_data = fetch_player(player, region) \n",
    "                    playerdata = pd.concat([playerdata, pd.DataFrame.from_records([row_data])], ignore_index=True)\n",
    "    except Exception as e:\n",
    "        print(e)\n",
    "    \n",
    "    playerdata.to_csv(CSV_FILE, index=False)\n",
    "    return\n",
    "\n",
    "build_df()"
   ]
  },
  {
   "cell_type": "code",
   "execution_count": 13,
   "metadata": {},
   "outputs": [],
   "source": [
    "playerdata = pd.read_csv(CSV_FILE)\n",
    "playerdata = playerdata.sort_values(by=[\"EARNINGS\"])\n",
    "\n",
    "def age(birthdate):\n",
    "    birthdate = datetime.strptime(birthdate, \"%d/%m/%Y\")\n",
    "    today = datetime.now()\n",
    "    age = today.year - birthdate.year - ((today.month, today.day) < (birthdate.month, birthdate.day))\n",
    "    return age"
   ]
  },
  {
   "cell_type": "code",
   "execution_count": 19,
   "metadata": {},
   "outputs": [
    {
     "data": {
      "text/html": [
       "<div>\n",
       "<style scoped>\n",
       "    .dataframe tbody tr th:only-of-type {\n",
       "        vertical-align: middle;\n",
       "    }\n",
       "\n",
       "    .dataframe tbody tr th {\n",
       "        vertical-align: top;\n",
       "    }\n",
       "\n",
       "    .dataframe thead th {\n",
       "        text-align: right;\n",
       "    }\n",
       "</style>\n",
       "<table border=\"1\" class=\"dataframe\">\n",
       "  <thead>\n",
       "    <tr style=\"text-align: right;\">\n",
       "      <th></th>\n",
       "      <th>NAME</th>\n",
       "      <th>REAL NAME</th>\n",
       "      <th>REGION</th>\n",
       "      <th>NATIONALITY</th>\n",
       "      <th>TEAM</th>\n",
       "      <th>AGE</th>\n",
       "      <th>WEAPON</th>\n",
       "      <th>MAJOR APPEARANCES</th>\n",
       "      <th>EARNINGS</th>\n",
       "      <th>LAST UPDATED</th>\n",
       "      <th>RAGE</th>\n",
       "    </tr>\n",
       "  </thead>\n",
       "  <tbody>\n",
       "    <tr>\n",
       "      <th>118</th>\n",
       "      <td>SHOCK</td>\n",
       "      <td>Max Kvapil</td>\n",
       "      <td>Europe</td>\n",
       "      <td>Czechia</td>\n",
       "      <td>SINNERS Esports</td>\n",
       "      <td>29/10/2000</td>\n",
       "      <td>AK47</td>\n",
       "      <td>0</td>\n",
       "      <td>$52,437</td>\n",
       "      <td>09/08/2022</td>\n",
       "      <td>21</td>\n",
       "    </tr>\n",
       "  </tbody>\n",
       "</table>\n",
       "</div>"
      ],
      "text/plain": [
       "      NAME   REAL NAME  REGION NATIONALITY             TEAM         AGE  \\\n",
       "118  SHOCK  Max Kvapil  Europe     Czechia  SINNERS Esports  29/10/2000   \n",
       "\n",
       "    WEAPON  MAJOR APPEARANCES EARNINGS LAST UPDATED  RAGE  \n",
       "118   AK47                  0  $52,437   09/08/2022    21  "
      ]
     },
     "execution_count": 19,
     "metadata": {},
     "output_type": "execute_result"
    }
   ],
   "source": [
    "playerdata[playerdata[\"NAME\"] == \"SHOCK\"]"
   ]
  },
  {
   "cell_type": "code",
   "execution_count": 9,
   "metadata": {},
   "outputs": [
    {
     "name": "stderr",
     "output_type": "stream",
     "text": [
      "Enabling notebook extension jupyter-js-widgets/extension...\n",
      "      - Validating: ok\n"
     ]
    }
   ],
   "source": [
    "!jupyter nbextension enable --py widgetsnbextension\n",
    "import ipywidgets as widgets\n",
    "from ipywidgets import interact, interact_manual"
   ]
  },
  {
   "cell_type": "code",
   "execution_count": 24,
   "metadata": {},
   "outputs": [
    {
     "data": {
      "application/vnd.jupyter.widget-view+json": {
       "model_id": "81528efe7eb4446e9dd5f0d10ff21403",
       "version_major": 2,
       "version_minor": 0
      },
      "text/plain": [
       "interactive(children=(SelectMultiple(description='REGION', index=(0, 1, 2), options=('Europe', 'NA', 'APAC'), …"
      ]
     },
     "metadata": {},
     "output_type": "display_data"
    },
    {
     "data": {
      "text/plain": [
       "<function __main__.f(sregion, sage, sweapon, smajors)>"
      ]
     },
     "execution_count": 24,
     "metadata": {},
     "output_type": "execute_result"
    }
   ],
   "source": [
    "def build_multi(description, options):\n",
    "    return widgets.SelectMultiple(\n",
    "        options=options,\n",
    "        value=options,\n",
    "        rows=len(options),\n",
    "        description=description,\n",
    "        disabled=False\n",
    "    )\n",
    "    return region_slide\n",
    "\n",
    "def build_slider(description, values):\n",
    "    return widgets.IntRangeSlider(\n",
    "        value=[min(values), max(values)],\n",
    "        min=min(values),\n",
    "        max=max(values),\n",
    "        step=1,\n",
    "        description=description,\n",
    "        disabled=False,\n",
    "        continuous_update=False,\n",
    "        orientation='horizontal',\n",
    "        readout=True,\n",
    "        readout_format='d',\n",
    "    )\n",
    "\n",
    "region_slide = build_multi(\"REGION\", [\"Europe\", \"NA\", \"APAC\"])\n",
    "age_slider = build_slider(\"AGE\", playerdata[\"RAGE\"])\n",
    "weapon_slide = build_multi(\"WEAPON\", [\"AK47\", \"AWP\"])\n",
    "majors_slider = build_slider(\"MAJORS\", playerdata[\"MAJOR APPEARANCES\"])\n",
    "\n",
    "def f(sregion, sage, sweapon, smajors):\n",
    "    print(\"Region:\", sregion, \"\\n\",\n",
    "          \"Age:\", sage, \"\\n\",\n",
    "          \"Weapon:\", sweapon, \"\\n\",\n",
    "          \"Majors\", smajors, \"\\n\")\n",
    "    return playerdata.loc[(playerdata[\"RAGE\"] >= sage[0]) & (playerdata[\"RAGE\"] <= sage[1]) &\n",
    "                          (playerdata[\"MAJOR APPEARANCES\"] >= smajors[0]) &\n",
    "                          (playerdata[\"MAJOR APPEARANCES\"] <= smajors[1]) &\n",
    "                          (playerdata[\"WEAPON\"].isin(sweapon)) &\n",
    "                          (playerdata[\"REGION\"].isin(sregion))]\n",
    "    \n",
    "interact(f, sregion = region_slide, sage = age_slider, sweapon = weapon_slide, smajors = majors_slider)"
   ]
  },
  {
   "cell_type": "code",
   "execution_count": null,
   "metadata": {},
   "outputs": [],
   "source": []
  }
 ],
 "metadata": {
  "kernelspec": {
   "display_name": "Python 3 (ipykernel)",
   "language": "python",
   "name": "python3"
  },
  "language_info": {
   "codemirror_mode": {
    "name": "ipython",
    "version": 3
   },
   "file_extension": ".py",
   "mimetype": "text/x-python",
   "name": "python",
   "nbconvert_exporter": "python",
   "pygments_lexer": "ipython3",
   "version": "3.9.12"
  }
 },
 "nbformat": 4,
 "nbformat_minor": 4
}
