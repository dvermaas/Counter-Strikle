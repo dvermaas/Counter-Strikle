{
 "cells": [
  {
   "cell_type": "markdown",
   "metadata": {},
   "source": [
    "# Counter Strikle Webscraper"
   ]
  },
  {
   "cell_type": "markdown",
   "metadata": {},
   "source": [
    "> The following code scrapes liquidpedia (https://liquipedia.net/counterstrike/Main_Page), in order to make counter strikle (https://blast.tv/counter-strikle) puzzle-solving easier."
   ]
  },
  {
   "cell_type": "markdown",
   "metadata": {},
   "source": [
    "# Libs"
   ]
  },
  {
   "cell_type": "code",
   "execution_count": 1,
   "metadata": {},
   "outputs": [],
   "source": [
    "import os\n",
    "import csv\n",
    "import time\n",
    "from time import sleep\n",
    "from bs4 import BeautifulSoup\n",
    "from datetime import datetime\n",
    "\n",
    "import numpy as np\n",
    "import pandas as pd\n",
    "#pd.set_option(\"display.max_rows\", None)\n",
    "from tqdm.notebook import tqdm\n",
    "import requests\n",
    "from urllib.request import quote"
   ]
  },
  {
   "cell_type": "code",
   "execution_count": 2,
   "metadata": {},
   "outputs": [],
   "source": [
    "headers = {\"User-Agent\": \"Counter-Strikle-Bot\",\"Accept-Encoding\": \"gzip\"}\n",
    "base_url = \"https://liquipedia.net/counterstrike/api.php?\"\n",
    "REGIONS = {\"Europe\" : [\"Europe\", \"CIS\"], \"Americas\" : [\"Americas\"],\n",
    "           \"Asia-Pacific\" : [\"Oceania\", \"Eastern_%26_Southern_Asia\"]}\n",
    "CSV_FILE = \"players2.csv\"\n",
    "COLUMNS = [\"NAME\", \"REAL NAME\", \"REGION\", \"NATIONALITY\", \"TEAM\", \"AGE\", \"WEAPON\", \n",
    "           \"MAJOR APPEARANCES\", \"EARNINGS\", \"LAST UPDATED\"]\n",
    "\n",
    "def fetch_page(page):\n",
    "    url = base_url +\"action=parse&format=json&page=\" + page\n",
    "    response = requests.get(url, headers)\n",
    "    page_html = response.json()['parse']['text']['*']\n",
    "    soup = BeautifulSoup(page_html,features=\"lxml\")\n",
    "    time.sleep(45)\n",
    "    return soup"
   ]
  },
  {
   "cell_type": "code",
   "execution_count": 3,
   "metadata": {},
   "outputs": [],
   "source": [
    "def fetch_majors():\n",
    "    soup = fetch_page(\"Majors\")\n",
    "    event_elements = soup.find_all(\"div\", {\"class\": \"divRow tournament-card-premier\"})\n",
    "    return [event.find(\"b\").find(\"a\")[\"href\"] for event in event_elements]\n",
    "\n",
    "#fetch_majors()"
   ]
  },
  {
   "cell_type": "code",
   "execution_count": 4,
   "metadata": {},
   "outputs": [],
   "source": [
    "def fetch_ids(region):\n",
    "    page = fetch_page(\"Portal:Players/\" + region)\n",
    "    elements = [item.find_all(\"a\")[1] for item in page.find_all(\"td\")]\n",
    "    name_dict = [element[\"title\"].replace(\" \",\"_\") for element in elements]\n",
    "    return name_dict\n",
    "\n",
    "#fetch_ids(\"Europe\")"
   ]
  },
  {
   "cell_type": "code",
   "execution_count": 5,
   "metadata": {},
   "outputs": [],
   "source": [
    "def total_players():\n",
    "    total = 0\n",
    "    for major_region, sub_regions in REGIONS.items():\n",
    "        for region in sub_regions:\n",
    "            total += len(fetch_ids(region))\n",
    "    return total\n",
    "\n",
    "#total_players()"
   ]
  },
  {
   "cell_type": "code",
   "execution_count": 6,
   "metadata": {},
   "outputs": [],
   "source": [
    "def fetch_player(player_name, region, major_list, debug=False):\n",
    "    # pull player profile\n",
    "    soup = fetch_page(player_name)\n",
    "    output_dict = dict()\n",
    "    \n",
    "    # parse player information\n",
    "    info_list = soup.find_all(\"div\", {\"class\": \"infobox-cell-2\"})\n",
    "    info_dict = {info_list[i].text[:-1] : info_list[i+1].text for i in range(0, len(info_list),2)}\n",
    "    if debug:\n",
    "        print(info_dict)\n",
    "    # add name to dict\n",
    "    output_dict[\"NAME\"] = player_name\n",
    "    output_dict[\"REGION\"] = region\n",
    "    \n",
    "    # replace name with romanised name if needed\n",
    "    if \"Romanized Name\" in info_dict:\n",
    "        output_dict[\"REAL NAME\"] = info_dict[\"Romanized Name\"]\n",
    "    else:\n",
    "        output_dict[\"REAL NAME\"] = info_dict[\"Name\"]\n",
    "    \n",
    "    # get nationality\n",
    "    if \"Nationality\" in info_dict:\n",
    "        output_dict[\"NATIONALITY\"] = info_dict[\"Nationality\"][1:]\n",
    "    \n",
    "    # get team\n",
    "    if \"Team\"  in info_dict:\n",
    "        output_dict[\"TEAM\"] = info_dict[\"Team\"]\n",
    "    \n",
    "    # Get age\n",
    "    if \"Born\" in info_dict:\n",
    "        try:\n",
    "            output_dict[\"AGE\"] = datetime.strptime(info_dict[\"Born\"][:-9].replace(\",\", \"\"), \"%B %d %Y\").strftime(\"%d/%m/%Y\")\n",
    "        except:\n",
    "            pass\n",
    "    \n",
    "    # Get role\n",
    "    if \"Role\" in info_dict:\n",
    "        if \"AWPer\" in info_dict[\"Role\"]:\n",
    "            output_dict[\"WEAPON\"] = \"AWP\"\n",
    "    elif \"Roles\" in info_dict:\n",
    "        if \"AWPer\" in info_dict[\"Roles\"]:\n",
    "            output_dict[\"WEAPON\"] = \"AWP\"\n",
    "    else:\n",
    "        output_dict[\"WEAPON\"] = \"AK47\"\n",
    "            \n",
    "            \n",
    "    # Get major appearances\n",
    "    try:\n",
    "        soup = fetch_page(player_name + \"/Results\")\n",
    "        event_elements = soup.find_all(\"tr\", {\"class\": \"valvemajor-highlighted\"})\n",
    "        event_name_list = [event.find(\"td\", {\"style\": \"text-align:left\"}).find(\"a\")[\"href\"] for event in event_elements]\n",
    "        event_name_list = [event for event in event_name_list if event in major_list]\n",
    "        output_dict[\"MAJOR APPEARANCES\"] = len(event_name_list)\n",
    "    except:\n",
    "        output_dict[\"MAJOR APPEARANCES\"] = 0\n",
    "    \n",
    "    if \"Approx. Total Winnings\" in info_dict:\n",
    "        output_dict[\"EARNINGS\"] = int(info_dict[\"Approx. Total Winnings\"].replace(\",\", \"\").replace(\"$\", \"\"))\n",
    "    else:\n",
    "        output_dict[\"EARNINGS\"] = 0\n",
    "    \n",
    "    output_dict[\"LAST UPDATED\"] = datetime.now().strftime(\"%d/%m/%Y\")\n",
    "    return output_dict\n",
    "    \n",
    "#fetch_player(\"MingSir\", \"Eastern_%26_Southern_Asia\", fetch_majors(), debug=True)\n",
    "#fetch_player(\"AntO_oNNN\", \"CIS\", fetch_majors(), debug=True)"
   ]
  },
  {
   "cell_type": "code",
   "execution_count": 7,
   "metadata": {},
   "outputs": [
    {
     "data": {
      "application/vnd.jupyter.widget-view+json": {
       "model_id": "681269ee1be84e56b73843f0a97c56ae",
       "version_major": 2,
       "version_minor": 0
      },
      "text/plain": [
       "  0%|          | 0/3 [00:00<?, ?it/s]"
      ]
     },
     "metadata": {},
     "output_type": "display_data"
    },
    {
     "data": {
      "application/vnd.jupyter.widget-view+json": {
       "model_id": "",
       "version_major": 2,
       "version_minor": 0
      },
      "text/plain": [
       "  0%|          | 0/2 [00:00<?, ?it/s]"
      ]
     },
     "metadata": {},
     "output_type": "display_data"
    },
    {
     "data": {
      "application/vnd.jupyter.widget-view+json": {
       "model_id": "",
       "version_major": 2,
       "version_minor": 0
      },
      "text/plain": [
       "  0%|          | 0/1 [00:00<?, ?it/s]"
      ]
     },
     "metadata": {},
     "output_type": "display_data"
    },
    {
     "data": {
      "application/vnd.jupyter.widget-view+json": {
       "model_id": "",
       "version_major": 2,
       "version_minor": 0
      },
      "text/plain": [
       "  0%|          | 0/1 [00:00<?, ?it/s]"
      ]
     },
     "metadata": {},
     "output_type": "display_data"
    },
    {
     "data": {
      "application/vnd.jupyter.widget-view+json": {
       "model_id": "",
       "version_major": 2,
       "version_minor": 0
      },
      "text/plain": [
       "  0%|          | 0/1 [00:00<?, ?it/s]"
      ]
     },
     "metadata": {},
     "output_type": "display_data"
    },
    {
     "data": {
      "application/vnd.jupyter.widget-view+json": {
       "model_id": "",
       "version_major": 2,
       "version_minor": 0
      },
      "text/plain": [
       "  0%|          | 0/1 [00:00<?, ?it/s]"
      ]
     },
     "metadata": {},
     "output_type": "display_data"
    },
    {
     "data": {
      "application/vnd.jupyter.widget-view+json": {
       "model_id": "",
       "version_major": 2,
       "version_minor": 0
      },
      "text/plain": [
       "  0%|          | 0/2 [00:00<?, ?it/s]"
      ]
     },
     "metadata": {},
     "output_type": "display_data"
    },
    {
     "data": {
      "application/vnd.jupyter.widget-view+json": {
       "model_id": "",
       "version_major": 2,
       "version_minor": 0
      },
      "text/plain": [
       "  0%|          | 0/1 [00:00<?, ?it/s]"
      ]
     },
     "metadata": {},
     "output_type": "display_data"
    },
    {
     "data": {
      "application/vnd.jupyter.widget-view+json": {
       "model_id": "",
       "version_major": 2,
       "version_minor": 0
      },
      "text/plain": [
       "  0%|          | 0/1 [00:00<?, ?it/s]"
      ]
     },
     "metadata": {},
     "output_type": "display_data"
    }
   ],
   "source": [
    "def build_df():\n",
    "    # Get dataframe to werite to\n",
    "    if os.path.exists(CSV_FILE):\n",
    "        playerdata = pd.read_csv(CSV_FILE)\n",
    "    else:\n",
    "        playerdata = pd.DataFrame(columns=COLUMNS)\n",
    "        \n",
    "    # Get list of all mayors\n",
    "    major_list = fetch_majors()\n",
    "\n",
    "    try:\n",
    "        for major_region, sub_regions in tqdm(REGIONS.items()):\n",
    "            for sub_region in tqdm(sub_regions, leave=False):\n",
    "                region_ids = fetch_ids(sub_region)[:1]\n",
    "                for player in tqdm(region_ids, leave=False):\n",
    "                    if not (playerdata[\"NAME\"].eq(player)).any():\n",
    "                        row_data = fetch_player(player, major_region, major_list)\n",
    "                        playerdata = pd.concat([playerdata, pd.DataFrame.from_records([row_data])], ignore_index=True)\n",
    "    except Exception as e:\n",
    "        print(\"Error:\", e)\n",
    "    \n",
    "    playerdata.to_csv(CSV_FILE, index=False)\n",
    "    return\n",
    "\n",
    "build_df()"
   ]
  },
  {
   "cell_type": "code",
   "execution_count": 8,
   "metadata": {},
   "outputs": [],
   "source": [
    "playerdata = pd.read_csv(CSV_FILE)"
   ]
  },
  {
   "cell_type": "code",
   "execution_count": 9,
   "metadata": {},
   "outputs": [
    {
     "data": {
      "text/html": [
       "<div>\n",
       "<style scoped>\n",
       "    .dataframe tbody tr th:only-of-type {\n",
       "        vertical-align: middle;\n",
       "    }\n",
       "\n",
       "    .dataframe tbody tr th {\n",
       "        vertical-align: top;\n",
       "    }\n",
       "\n",
       "    .dataframe thead th {\n",
       "        text-align: right;\n",
       "    }\n",
       "</style>\n",
       "<table border=\"1\" class=\"dataframe\">\n",
       "  <thead>\n",
       "    <tr style=\"text-align: right;\">\n",
       "      <th></th>\n",
       "      <th>NAME</th>\n",
       "      <th>REAL NAME</th>\n",
       "      <th>REGION</th>\n",
       "      <th>NATIONALITY</th>\n",
       "      <th>TEAM</th>\n",
       "      <th>AGE</th>\n",
       "      <th>WEAPON</th>\n",
       "      <th>MAJOR APPEARANCES</th>\n",
       "      <th>EARNINGS</th>\n",
       "      <th>LAST UPDATED</th>\n",
       "    </tr>\n",
       "  </thead>\n",
       "  <tbody>\n",
       "    <tr>\n",
       "      <th>0</th>\n",
       "      <td>Stikle-</td>\n",
       "      <td>Klesti Kola</td>\n",
       "      <td>Europe</td>\n",
       "      <td>Albania</td>\n",
       "      <td>Bad News Eagles</td>\n",
       "      <td>05/07/1998</td>\n",
       "      <td>NaN</td>\n",
       "      <td>0</td>\n",
       "      <td>1207</td>\n",
       "      <td>15/10/2022</td>\n",
       "    </tr>\n",
       "    <tr>\n",
       "      <th>1</th>\n",
       "      <td>AERO</td>\n",
       "      <td>Pavel Surmach</td>\n",
       "      <td>Europe</td>\n",
       "      <td>Russia</td>\n",
       "      <td>NaN</td>\n",
       "      <td>12/11/1988</td>\n",
       "      <td>NaN</td>\n",
       "      <td>0</td>\n",
       "      <td>3203</td>\n",
       "      <td>15/10/2022</td>\n",
       "    </tr>\n",
       "    <tr>\n",
       "      <th>2</th>\n",
       "      <td>A2z</td>\n",
       "      <td>Armeen Toussi</td>\n",
       "      <td>Americas</td>\n",
       "      <td>Canada</td>\n",
       "      <td>NaN</td>\n",
       "      <td>26/11/1990</td>\n",
       "      <td>NaN</td>\n",
       "      <td>0</td>\n",
       "      <td>13144</td>\n",
       "      <td>15/10/2022</td>\n",
       "    </tr>\n",
       "    <tr>\n",
       "      <th>3</th>\n",
       "      <td>ADK</td>\n",
       "      <td>Akram Smida</td>\n",
       "      <td>Asia-Pacific</td>\n",
       "      <td>Australia</td>\n",
       "      <td>NaN</td>\n",
       "      <td>08/03/2001</td>\n",
       "      <td>AWP</td>\n",
       "      <td>0</td>\n",
       "      <td>5836</td>\n",
       "      <td>15/10/2022</td>\n",
       "    </tr>\n",
       "    <tr>\n",
       "      <th>4</th>\n",
       "      <td>0i</td>\n",
       "      <td>Zhiwei Liu</td>\n",
       "      <td>Asia-Pacific</td>\n",
       "      <td>China</td>\n",
       "      <td>Invictus Gaming</td>\n",
       "      <td>18/06/1996</td>\n",
       "      <td>NaN</td>\n",
       "      <td>0</td>\n",
       "      <td>41606</td>\n",
       "      <td>15/10/2022</td>\n",
       "    </tr>\n",
       "  </tbody>\n",
       "</table>\n",
       "</div>"
      ],
      "text/plain": [
       "      NAME      REAL NAME        REGION NATIONALITY             TEAM  \\\n",
       "0  Stikle-    Klesti Kola        Europe     Albania  Bad News Eagles   \n",
       "1     AERO  Pavel Surmach        Europe      Russia              NaN   \n",
       "2      A2z  Armeen Toussi      Americas      Canada              NaN   \n",
       "3      ADK    Akram Smida  Asia-Pacific   Australia              NaN   \n",
       "4       0i     Zhiwei Liu  Asia-Pacific       China  Invictus Gaming   \n",
       "\n",
       "          AGE WEAPON  MAJOR APPEARANCES  EARNINGS LAST UPDATED  \n",
       "0  05/07/1998    NaN                  0      1207   15/10/2022  \n",
       "1  12/11/1988    NaN                  0      3203   15/10/2022  \n",
       "2  26/11/1990    NaN                  0     13144   15/10/2022  \n",
       "3  08/03/2001    AWP                  0      5836   15/10/2022  \n",
       "4  18/06/1996    NaN                  0     41606   15/10/2022  "
      ]
     },
     "execution_count": 9,
     "metadata": {},
     "output_type": "execute_result"
    }
   ],
   "source": [
    "playerdata"
   ]
  },
  {
   "cell_type": "code",
   "execution_count": null,
   "metadata": {},
   "outputs": [],
   "source": []
  }
 ],
 "metadata": {
  "kernelspec": {
   "display_name": "Python 3 (ipykernel)",
   "language": "python",
   "name": "python3"
  },
  "language_info": {
   "codemirror_mode": {
    "name": "ipython",
    "version": 3
   },
   "file_extension": ".py",
   "mimetype": "text/x-python",
   "name": "python",
   "nbconvert_exporter": "python",
   "pygments_lexer": "ipython3",
   "version": "3.9.12"
  }
 },
 "nbformat": 4,
 "nbformat_minor": 4
}
